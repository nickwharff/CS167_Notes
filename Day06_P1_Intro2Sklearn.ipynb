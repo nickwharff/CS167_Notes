{
  "cells": [
    {
      "cell_type": "markdown",
      "metadata": {
        "id": "view-in-github",
        "colab_type": "text"
      },
      "source": [
        "<a href=\"https://colab.research.google.com/github/nickwharff/CS167_Notes/blob/main/Day06_P1_Intro2Sklearn.ipynb\" target=\"_parent\"><img src=\"https://colab.research.google.com/assets/colab-badge.svg\" alt=\"Open In Colab\"/></a>"
      ]
    },
    {
      "cell_type": "markdown",
      "metadata": {
        "id": "U_h8WXC89tG_"
      },
      "source": [
        "# CS167: Day06\n",
        "## Part 1: Intro to Scikit Learn\n",
        "\n",
        "#### CS167: Machine Learning, J-Term 2023\n",
        "\n",
        "Tuesday, January 10th, 2023 -- Session I\n",
        "\n",
        "[⏮ Day05 Part 2](https://github.com/merriekay/j23_cs167_notes/blob/main/Day05_P1_Decision_Trees.ipynb) | [Day06 Part 2⏩](https://github.com/merriekay/j23_cs167_notes/blob/main/Day06_P2_RandomForests.ipynb)"
      ]
    },
    {
      "cell_type": "markdown",
      "metadata": {
        "id": "onUASgdl9tHA"
      },
      "source": [
        "## This Week Overview:\n",
        "\n",
        "| **Date** | **Day of Week** | **Day of Class** | **Topic**                               | **Assigned** | **Due (11:59pm)** |\n",
        "|----------|-----------------|------------------|-----------------------------------------|--------------|-------------------|\n",
        "| 1/9/23   | M               | Day05            | Decision Trees Part I                   | [N3](https://classroom.github.com/a/960Y0T8W)           | Q1               |\n",
        "|          |                 |                  | Decision Trees Part II                  |              |                   |\n",
        "| 1/10/23  | T               | Day06            | Intro to Scikit Learn                   | [N4](https://classroom.github.com/a/BFoBfBrR)           | N3                |\n",
        "|          |                 |                  | Random Forests                          |              |                   |\n",
        "| 1/11/23  | W               | Day07            | SVMs                                    | P1           | N4                |\n",
        "|          |                 |                  | PCA                                     |              |                   |\n",
        "| 1/12/23  | R               | Day08            | Intro to Neural Networks -- Percpetrons | N5           |                   |\n",
        "|          |                 |                  | Perceptron Code                         |              |                   |\n",
        "| 1/13/23  | F               | Day09            | Artifical Neural Networks               | Q2           | N5                |\n",
        "|          |                 |                  | ANN Code                                |              |                   |\n"
      ]
    },
    {
      "cell_type": "markdown",
      "metadata": {
        "id": "GWdZLYs39tHB"
      },
      "source": [
        "## Helpful Links:\n",
        "📆 [Course Schedule](https://docs.google.com/spreadsheets/d/e/2PACX-1vStj3FCEJqloUMLn2VtHa4yy1ILY6WvABhu4jd4cVUpPGkrx1mEjfTFmd77DMESR9HJ-8UBxgMDJL06/pubhtml?gid=0&single=true) | 🙋[PollEverywhere](https://pollev.com/meredithmoore011) | 📜 [Syllabus](https://analytics.drake.edu/~moore/j23_cs167/Syllabus.html)\n"
      ]
    },
    {
      "cell_type": "markdown",
      "metadata": {
        "id": "jxJdAWrZ9tHB"
      },
      "source": [
        "# Admin Stuff:\n",
        "Grading:\n",
        "- Notebook 0, Notebook #1, and Notebook #2 are graded.\n",
        "\n",
        "You should be working on: \n",
        "- [Notebook #3](https://classroom.github.com/assignment-invitations/8f93944b7a16d6c915f23a39c2068d28) is due tonight by 11:59pm\n",
        "- [Notebook #4](https://classroom.github.com/a/BFoBfBrR) is released today, due tomorrow night by 11:59pm. "
      ]
    },
    {
      "cell_type": "markdown",
      "metadata": {
        "id": "Pae85Qg_9tHB"
      },
      "source": [
        "# Quick Review:\n",
        "\n",
        "Decision Trees:\n"
      ]
    },
    {
      "cell_type": "markdown",
      "metadata": {
        "id": "FCu0qBn69tHB"
      },
      "source": [
        "## What is a decision tree?\n",
        "<div>\n",
        "<img src=\"https://github.com/merriekay/j23_cs167_notes/blob/main/images/day05_dt_ex1.png?raw=1\" width=800/>\n",
        "</div>"
      ]
    },
    {
      "cell_type": "markdown",
      "metadata": {
        "id": "tl_56qsg9tHC"
      },
      "source": [
        "## Great, now how do I build (grow) a tree?\n",
        "\n",
        "One algorithm that builds a decision tree is called the __ID3 Decision Tree Learning Algorithm__."
      ]
    },
    {
      "cell_type": "markdown",
      "metadata": {
        "id": "2zrFT9kk9tHC"
      },
      "source": [
        "It goes like this: \n",
        "    \n",
        "__Main ID3 Loop__:\n",
        "1. Assign A to be the _best_ decision feature for the next node.\n",
        "2. Assign A as decision feature for the node\n",
        "3. For each possible attribute of A, create a new descendant of node\n",
        "4. Sort training examples to leaf nodes\n",
        "5. If Training examples are perfectly classified, the STOP, Else, iterate over new leaf nodes."
      ]
    },
    {
      "cell_type": "markdown",
      "metadata": {
        "id": "LoX0Ki6R9tHC"
      },
      "source": [
        "### What does 'best' mean? How can we tell which node is *best*?"
      ]
    },
    {
      "cell_type": "markdown",
      "metadata": {
        "id": "YJTUnI4_9tHC"
      },
      "source": [
        "## Calculating Information Gain\n",
        "\n",
        "Starting a decision tree with the feature that tells us the most about the classification is a core part of the __ID3 Decision Tree Learning Algorithm__. \n",
        "\n",
        "__Information Gain__ is the quantity that tells us how much information splitting our data using a given column gives us.\n",
        "\n",
        "$Information Gain = Entropy_{before} - Expected Entropy_{after}$\n",
        "\n",
        "Process:\n",
        "1. Calculate the entropy of the data before you split it up by the values of the chosen node. \n",
        "2. Calculate the expected entropy after you split the data up at the chosen node\n",
        "3. Subtract the result of step 1 from the result of step 2. "
      ]
    },
    {
      "cell_type": "markdown",
      "metadata": {
        "id": "_IxpOpyi9tHD"
      },
      "source": [
        "## Calculating Entropy Prior\n",
        "\n",
        "__Prior Probability__:aka the 'prior'\n",
        "- the split of the examples\n",
        "- if I have 9 positive examples and 5 negative examples, my prior is:\n",
        "\n",
        "$\\langle 9/14, 5/14 \\rangle \\approx \\langle 0.64, 0.36 \\rangle$\n",
        "> the prior probabilities must sum to 1"
      ]
    },
    {
      "cell_type": "markdown",
      "metadata": {
        "id": "_d81ghjF9tHD"
      },
      "source": [
        "## Calculating Entropy:\n",
        "\n",
        "Calculating the entropy when prior is $\\langle P_1, ..., P_c\\rangle$\n",
        "\n",
        "<div>\n",
        "<img src=\"https://github.com/merriekay/j23_cs167_notes/blob/main/images/day05_entropy_calc.png?raw=1\" width=600/>\n",
        "</div>"
      ]
    },
    {
      "cell_type": "code",
      "execution_count": null,
      "metadata": {
        "id": "CnT0nt_e9tHD"
      },
      "outputs": [],
      "source": [
        "import math\n",
        "def entropy(percentage_list):\n",
        "    #input: percentage_list consists of float values that sum to 1.0 \n",
        "    #return: calculation of entropy for input percentages\n",
        "    result = 0\n",
        "    for percentage in percentage_list:\n",
        "        if percentage != 0:\n",
        "            result += -percentage*math.log2(percentage)\n",
        "    return result"
      ]
    },
    {
      "cell_type": "code",
      "execution_count": null,
      "metadata": {
        "id": "Vohb6UGE9tHE",
        "outputId": "f88d4116-96c0-491e-9969-98bd0ee9d12b"
      },
      "outputs": [
        {
          "data": {
            "text/plain": [
              "0.9402859586706311"
            ]
          },
          "execution_count": 3,
          "metadata": {},
          "output_type": "execute_result"
        }
      ],
      "source": [
        "entropy([9/14, 5/14])"
      ]
    },
    {
      "cell_type": "markdown",
      "metadata": {
        "id": "9QtEAQZI9tHE"
      },
      "source": [
        "## Example: Calculate the Original Entropy\n",
        "\n",
        "Start by calculating the entropy of the example __before__ picking a feature:\n",
        "- $\\langle 0.5, 0.5 \\rangle = 1$\n",
        "\n",
        "> __Note__: the original entropy is not always going to be 1, be careful here\n",
        "<div>\n",
        "<img src=\"https://github.com/merriekay/j23_cs167_notes/blob/main/images/day05_patrons_entropy.png?raw=1\" width=600/>\n",
        "</div>"
      ]
    },
    {
      "cell_type": "code",
      "execution_count": null,
      "metadata": {
        "id": "4WNXCQmN9tHE",
        "outputId": "82c642c6-9c76-4b2f-c90a-3a118afead50"
      },
      "outputs": [
        {
          "data": {
            "text/plain": [
              "1.0"
            ]
          },
          "execution_count": 4,
          "metadata": {},
          "output_type": "execute_result"
        }
      ],
      "source": [
        "entropy([.5,.5])"
      ]
    },
    {
      "cell_type": "markdown",
      "metadata": {
        "id": "1BH_1I9d9tHF"
      },
      "source": [
        "## Example: Calculate the Expected Entropy\n",
        "\n",
        "The __Expected Entropy__ for a feature is defined as the weighted sum of entropies multiplied by the fraction of samples that belong to each set: \n",
        "\n",
        "$H(X) = - \\sum_{i=1}^{n} P(x_i)\\log_{2} P(x_i)$\n",
        "\n",
        "\n",
        "<div>\n",
        "<img src=\"https://github.com/merriekay/j23_cs167_notes/blob/main/images/day05_expected_entropy1.png?raw=1\" width=700/>\n",
        "</div>"
      ]
    },
    {
      "cell_type": "markdown",
      "metadata": {
        "id": "lCiW9MNz9tHF"
      },
      "source": [
        "## Example: Calculate the Information Gain\n",
        "\n",
        "The __information gain__ is *difference* between the entropy before the test and the expected entropy after the test. \n",
        "\n",
        "$Information Gain = Entropy_{before} - Expected Entropy_{after}$\n",
        "\n",
        "- Original Entropy: 1\n",
        "- Expected Entropy: 0.459\n",
        "- Information Gain = 1 - 0.459 = __0.541__"
      ]
    },
    {
      "cell_type": "markdown",
      "metadata": {
        "id": "L68UE9sn9tHF"
      },
      "source": [
        "## 💬 Review Question:\n",
        "\n",
        "You are given the following dataset where: \n",
        "- Day is the day of the week\n",
        "- Chicken Wrap is whether or not a chicken wrap was available\n",
        "- Hungry is whether you were hungry or not\n",
        "- Choice is the choice you made as to where to eat\n",
        "\n",
        "### What is the information gain of the `Hungry` column?\n",
        "\n",
        "| **Day**   | **Chicken Wrap** | **Hungry** | **Choice** |\n",
        "|-----------|------------------|------------|------------|\n",
        "| Monday    | yes              | no         | Hubbell    |\n",
        "| Wednesday | no               | yes        | Starbucks  |\n",
        "| Monday    | yes              | yes        | Hubbell    |\n",
        "| Wednesday | no               | no         | Hubbell    |\n",
        "| Monday    | no               | yes        | Starbucks  |"
      ]
    },
    {
      "cell_type": "markdown",
      "metadata": {
        "id": "KbtW6yri9tHF"
      },
      "source": [
        "# ✨ New Material"
      ]
    },
    {
      "cell_type": "markdown",
      "metadata": {
        "id": "9_0umXBq9tHF"
      },
      "source": [
        "# Introduction to Scikit Learn:\n",
        "\n",
        "`scikit-learn` is one of Python's main Machine Learning Libraries.\n",
        "- built on `NumPy`, `SciPy`, and `matplotlib`\n",
        "- plays nicely with `pandas`\n",
        "- https://scikit-learn.org/stable/ "
      ]
    },
    {
      "cell_type": "markdown",
      "metadata": {
        "id": "w4Cm0IRp9tHF"
      },
      "source": [
        "# The Scikit Learn 'Algorithm': \n",
        "\n",
        "When working in Scikit Learn (`sklearn`), there is a general pattern that we can follow to implement any supported machine learning algorithm.\n",
        "\n",
        "It goes like this: \n",
        "1. Load your data using `pd.read_csv()`\n",
        "2. Split your data `train_test_split()`\n",
        "3. Create your classifier/regressor object\n",
        "4. Call `fit()` to train your model\n",
        "5. Call `predict()` to get predictions\n",
        "6. Call a metric function to measure the performance of your model."
      ]
    },
    {
      "cell_type": "markdown",
      "metadata": {
        "id": "tyBhRXnF9tHG"
      },
      "source": [
        "## All together, it looks something like this:"
      ]
    },
    {
      "cell_type": "code",
      "execution_count": null,
      "metadata": {
        "id": "_tJ8yelq9tHG"
      },
      "outputs": [],
      "source": [
        "# Mount your drive\n",
        "from google.colab import drive\n",
        "drive.mount('/content/drive')"
      ]
    },
    {
      "cell_type": "code",
      "execution_count": null,
      "metadata": {
        "id": "NENBd4Ga9tHG",
        "outputId": "63cc1914-4ad8-4086-c43c-3bd769230d5b"
      },
      "outputs": [
        {
          "name": "stdout",
          "output_type": "stream",
          "text": [
            "Accuracy: 0.9\n",
            "___PREDICTED___ \t  ___ACTUAL___\n",
            "Iris-versicolor \t\t Iris-virginica\n",
            "Iris-virginica \t\t Iris-virginica\n",
            "Iris-virginica \t\t Iris-virginica\n",
            "Iris-versicolor \t\t Iris-versicolor\n",
            "Iris-virginica \t\t Iris-virginica\n",
            "Iris-versicolor \t\t Iris-versicolor\n",
            "Iris-virginica \t\t Iris-virginica\n",
            "Iris-versicolor \t\t Iris-versicolor\n",
            "Iris-virginica \t\t Iris-virginica\n",
            "Iris-virginica \t\t Iris-virginica\n",
            "Iris-virginica \t\t Iris-virginica\n",
            "Iris-setosa \t\t Iris-setosa\n",
            "Iris-setosa \t\t Iris-setosa\n",
            "Iris-versicolor \t\t Iris-versicolor\n",
            "Iris-setosa \t\t Iris-setosa\n",
            "Iris-versicolor \t\t Iris-virginica\n",
            "Iris-setosa \t\t Iris-setosa\n",
            "Iris-virginica \t\t Iris-versicolor\n",
            "Iris-setosa \t\t Iris-setosa\n",
            "Iris-setosa \t\t Iris-setosa\n",
            "Iris-versicolor \t\t Iris-versicolor\n",
            "Iris-virginica \t\t Iris-virginica\n",
            "Iris-setosa \t\t Iris-setosa\n",
            "Iris-setosa \t\t Iris-setosa\n",
            "Iris-versicolor \t\t Iris-versicolor\n",
            "Iris-versicolor \t\t Iris-versicolor\n",
            "Iris-versicolor \t\t Iris-versicolor\n",
            "Iris-versicolor \t\t Iris-versicolor\n",
            "Iris-setosa \t\t Iris-setosa\n",
            "Iris-versicolor \t\t Iris-versicolor\n",
            "-------------------------------------------------------\n",
            "                 Iris-setosa  Iris-versicolor  Iris-virginica\n",
            "Iris-setosa                9                0               0\n",
            "Iris-versicolor            0               10               1\n",
            "Iris-virginica             0                2               8\n"
          ]
        }
      ],
      "source": [
        "#classic scikit-learn algorithm\n",
        "\n",
        "#0. import libraries\n",
        "import sklearn\n",
        "import pandas\n",
        "from sklearn import tree\n",
        "from sklearn.model_selection import train_test_split\n",
        "from sklearn import metrics\n",
        "from sklearn import neighbors\n",
        "\n",
        "#1. load data\n",
        "path = 'datasets/irisData.csv' #'/content/drive/MyDrive/CS167/datasets/irisData.csv'\n",
        "iris_data = pandas.read_csv(path)\n",
        "\n",
        "#2. split data\n",
        "predictors = ['sepal length', 'sepal width','petal length', 'petal width']\n",
        "target = \"species\"\n",
        "train_data, test_data, train_sln, test_sln = \\\n",
        "        train_test_split(iris_data[predictors], iris_data[target], test_size = 0.2, random_state=41)\n",
        "\n",
        "#3. Create classifier/regressor object (change these parameters for Exercise #1)\n",
        "dt = tree.DecisionTreeClassifier()\n",
        "\n",
        "#4. Call fit (to train the classification/regression model)\n",
        "dt.fit(train_data,train_sln)\n",
        "\n",
        "#5. Call predict to generate predictions\n",
        "iris_predictions = dt.predict(test_data)\n",
        "\n",
        "#6. Call a metric function to measure performance\n",
        "print(\"Accuracy:\", metrics.accuracy_score(test_sln,iris_predictions))\n",
        "\n",
        "# Show the acutal and predicted (this isn't necessary, but may help catch bugs)\n",
        "print(\"___PREDICTED___ \\t  ___ACTUAL___\")\n",
        "for i in range(len(test_sln)):\n",
        "    print(iris_predictions[i],\"\\t\\t\", test_sln.iloc[i])\n",
        "\n",
        "print(\"-------------------------------------------------------\")\n",
        "#print out a confusion matrix\n",
        "iris_labels= [\"Iris-setosa\", \"Iris-versicolor\",\"Iris-virginica\"]\n",
        "conf_mat = metrics.confusion_matrix(test_sln, iris_predictions, labels=iris_labels)\n",
        "print(pandas.DataFrame(conf_mat,index = iris_labels, columns = iris_labels))\n",
        "     "
      ]
    },
    {
      "cell_type": "markdown",
      "metadata": {
        "id": "l9WEHkRQ9tHG"
      },
      "source": [
        "# Now, let's go through step-by-step:"
      ]
    },
    {
      "cell_type": "markdown",
      "metadata": {
        "id": "PJUlSLbN9tHG"
      },
      "source": [
        "## Step 1: Import libraries and load your data\n",
        "\n",
        "We should be pretty familiar with this one.\n",
        "- mount your drive\n",
        "- import any relevant libraires\n",
        "- use `pd.read_csv()` to load in your dataset"
      ]
    },
    {
      "cell_type": "code",
      "execution_count": null,
      "metadata": {
        "id": "upzvvHgA9tHH"
      },
      "outputs": [],
      "source": [
        "# Mount your drive\n",
        "from google.colab import drive\n",
        "drive.mount('/content/drive')"
      ]
    },
    {
      "cell_type": "code",
      "execution_count": null,
      "metadata": {
        "id": "LZJecLpC9tHH"
      },
      "outputs": [],
      "source": [
        "#0. import libraries\n",
        "import sklearn\n",
        "import pandas\n",
        "from sklearn import tree\n",
        "from sklearn.model_selection import train_test_split\n",
        "from sklearn import metrics\n",
        "from sklearn import neighbors\n",
        "\n",
        "#1. load data\n",
        "path = 'datasets/irisData.csv' #'/content/drive/MyDrive/CS167/datasets/irisData.csv'\n",
        "iris_data = pandas.read_csv(path)"
      ]
    },
    {
      "cell_type": "markdown",
      "metadata": {
        "id": "HXjJqO6F9tHH"
      },
      "source": [
        "## Step 2: Split Data\n",
        "\n",
        "Cross-Validation is an important step in machine learning which enables us to evaluate our models. To do this, we need to split our data into `train_data` and `test_data`.\n",
        "<div>\n",
        "<img src=\"https://github.com/merriekay/j23_cs167_notes/blob/main/images/day04_cross_validation.png?raw=1\" width=400/>\n",
        "</div>"
      ]
    },
    {
      "cell_type": "markdown",
      "metadata": {
        "id": "wZuGZVA79tHH"
      },
      "source": [
        "Sklearn takes this a step futher and splits the data up into 4 pieces: \n",
        "- `train_data`: holds the predictor variables of the training set\n",
        "- `train_sln`: holds the target variable of the training set\n",
        "- `test_data`: holds the predictor variables of the testing set\n",
        "- `test_sln`: holds the target varibles of the testing set\n",
        "\n",
        "<div>\n",
        "<img src=\"https://github.com/merriekay/j23_cs167_notes/blob/main/images/day06_traintestsplit.png?raw=1\" width=600/>\n",
        "</div>"
      ]
    },
    {
      "cell_type": "markdown",
      "metadata": {
        "id": "uVQdjswR9tHH"
      },
      "source": [
        "## Step 2: Splitting Data (the code)"
      ]
    },
    {
      "cell_type": "code",
      "execution_count": null,
      "metadata": {
        "id": "wS-35oAv9tHH"
      },
      "outputs": [],
      "source": [
        "#2. split data\n",
        "predictors = ['sepal length', 'sepal width','petal length', 'petal width']\n",
        "target = \"species\"\n",
        "train_data, test_data, train_sln, test_sln = \\\n",
        "    train_test_split(iris_data[predictors], iris_data[target], test_size = 0.2, random_state=41)"
      ]
    },
    {
      "cell_type": "code",
      "execution_count": null,
      "metadata": {
        "id": "jp178oO09tHH",
        "outputId": "2a0b2912-7ee2-4494-8cf7-d02d59220ac9"
      },
      "outputs": [
        {
          "name": "stdout",
          "output_type": "stream",
          "text": [
            "train_data shape:  (120, 4)\n",
            "test_data shape:  (30, 4)\n",
            "train_sln shape:  (120,)\n",
            "test_sln shape:  (30,)\n"
          ]
        },
        {
          "data": {
            "text/html": [
              "<div>\n",
              "<style scoped>\n",
              "    .dataframe tbody tr th:only-of-type {\n",
              "        vertical-align: middle;\n",
              "    }\n",
              "\n",
              "    .dataframe tbody tr th {\n",
              "        vertical-align: top;\n",
              "    }\n",
              "\n",
              "    .dataframe thead th {\n",
              "        text-align: right;\n",
              "    }\n",
              "</style>\n",
              "<table border=\"1\" class=\"dataframe\">\n",
              "  <thead>\n",
              "    <tr style=\"text-align: right;\">\n",
              "      <th></th>\n",
              "      <th>sepal length</th>\n",
              "      <th>sepal width</th>\n",
              "      <th>petal length</th>\n",
              "      <th>petal width</th>\n",
              "    </tr>\n",
              "  </thead>\n",
              "  <tbody>\n",
              "    <tr>\n",
              "      <th>79</th>\n",
              "      <td>5.7</td>\n",
              "      <td>2.6</td>\n",
              "      <td>3.5</td>\n",
              "      <td>1.0</td>\n",
              "    </tr>\n",
              "    <tr>\n",
              "      <th>54</th>\n",
              "      <td>6.5</td>\n",
              "      <td>2.8</td>\n",
              "      <td>4.6</td>\n",
              "      <td>1.5</td>\n",
              "    </tr>\n",
              "    <tr>\n",
              "      <th>106</th>\n",
              "      <td>4.9</td>\n",
              "      <td>2.5</td>\n",
              "      <td>4.5</td>\n",
              "      <td>1.7</td>\n",
              "    </tr>\n",
              "    <tr>\n",
              "      <th>90</th>\n",
              "      <td>5.5</td>\n",
              "      <td>2.6</td>\n",
              "      <td>4.4</td>\n",
              "      <td>1.2</td>\n",
              "    </tr>\n",
              "    <tr>\n",
              "      <th>145</th>\n",
              "      <td>6.7</td>\n",
              "      <td>3.0</td>\n",
              "      <td>5.2</td>\n",
              "      <td>2.3</td>\n",
              "    </tr>\n",
              "  </tbody>\n",
              "</table>\n",
              "</div>"
            ],
            "text/plain": [
              "     sepal length  sepal width  petal length  petal width\n",
              "79            5.7          2.6           3.5          1.0\n",
              "54            6.5          2.8           4.6          1.5\n",
              "106           4.9          2.5           4.5          1.7\n",
              "90            5.5          2.6           4.4          1.2\n",
              "145           6.7          3.0           5.2          2.3"
            ]
          },
          "execution_count": 9,
          "metadata": {},
          "output_type": "execute_result"
        }
      ],
      "source": [
        "# take a look at the data... make sure you understand what split of data is stored in each \n",
        "print('train_data shape: ',train_data.shape)\n",
        "print('test_data shape: ',test_data.shape)\n",
        "print('train_sln shape: ',train_sln.shape)\n",
        "print('test_sln shape: ',test_sln.shape)\n",
        "\n",
        "train_data.head()"
      ]
    },
    {
      "cell_type": "markdown",
      "metadata": {
        "id": "B0D5gJH69tHI"
      },
      "source": [
        "## Step 3: Create classifier/regressor object\n",
        "\n",
        "The syntax/wording for this is going to come directly from the `sklearn` documentation.\n",
        "- [Scikit Learn Decision Tree documentation](https://scikit-learn.org/stable/modules/tree.html)\n",
        "\n",
        "The name of the model will change based on whether you are doing a __classification__ or __regression__. \n",
        "- generally in the name: \n",
        "    - `tree.DecicionTreeClassifier()`\n",
        "    - `tree.DecisionTreeRegressor()`"
      ]
    },
    {
      "cell_type": "code",
      "execution_count": null,
      "metadata": {
        "id": "yK7gDECp9tHI"
      },
      "outputs": [],
      "source": [
        "#3. Create classifier/regressor object (change these parameters for Exercise #1)\n",
        "dt = tree.DecisionTreeClassifier()"
      ]
    },
    {
      "cell_type": "markdown",
      "metadata": {
        "id": "FN04I2d39tHI"
      },
      "source": [
        "## Step 4: Call `fit()` to train the model\n",
        "\n",
        "Each machine learning model has a training process associated with it. Scikit learn makes it easy to train whatever model you choose by simply calling `fit()` on that model. \n",
        "\n",
        "We generally pass two things into `fit()`:\n",
        "- `train_data`: the predictor variables we want to train our model on\n",
        "- `train_sln`: the labels for each training examples\n"
      ]
    },
    {
      "cell_type": "code",
      "execution_count": null,
      "metadata": {
        "id": "fvYkgQ-L9tHI",
        "outputId": "4fddd158-6598-4967-eca8-07cfe6c7fbd4"
      },
      "outputs": [
        {
          "data": {
            "text/plain": [
              "DecisionTreeClassifier()"
            ]
          },
          "execution_count": 13,
          "metadata": {},
          "output_type": "execute_result"
        }
      ],
      "source": [
        "dt.fit(train_data, train_sln)"
      ]
    },
    {
      "cell_type": "markdown",
      "metadata": {
        "id": "D7FeBxhl9tHI"
      },
      "source": [
        "## Step 5: Call `predict()` to get predictions\n",
        "\n",
        "After our model is trained, it's time to run our testing data through our model and see what the model predicts. \n",
        "\n",
        "Scikit learn lets us do this in one line: \n",
        "- we're saving what the function is returning as `predictions`\n",
        "- passing in `test_data`, which is the data without labels that was not included in training"
      ]
    },
    {
      "cell_type": "code",
      "execution_count": null,
      "metadata": {
        "id": "099CMtRt9tHJ"
      },
      "outputs": [],
      "source": [
        "predictions = dt.predict(test_data)"
      ]
    },
    {
      "cell_type": "markdown",
      "metadata": {
        "id": "mggZOeti9tHJ"
      },
      "source": [
        "# Step 6: Evaluate the Model\n",
        "\n",
        "Now that we have some predictions, we need to check to see how close we were by passing our predictions and the actual correct answers into a metric function. \n",
        "\n",
        "| **Type of ML** | **Metric**                | **Description**                                                                                              |\n",
        "|----------------|---------------------------|:--------------------------------------------------------------------------------------------------------------|\n",
        "| Classification | Accuracy                  | Number correct examples divided by total number                                                              |\n",
        "| Classification | Confusion Matrix          | Detailed table of where our model got confused. |\n",
        "| Regression     | Mean Absolute Error (MAE) | The average absolute distance from the target variable                                                       |\n",
        "| Regression     | Mean Squared Error (MSE)  | The average squared distance from the target variable                                                        |\n",
        "| Regression     | $R^2$                     | 1: perfectly fit data<br>0: same performance as guessing the mean of the target variable<br>-1: really bad.  |\n",
        "\n",
        "Available metrics can be found in the sklearn documentation [[sklearn metrics]](https://scikit-learn.org/stable/modules/classes.html#module-sklearn.metrics)"
      ]
    },
    {
      "cell_type": "code",
      "execution_count": null,
      "metadata": {
        "id": "w_ns7qGt9tHJ",
        "outputId": "8022c993-b980-4a40-e295-0a078ea6ca96"
      },
      "outputs": [
        {
          "name": "stdout",
          "output_type": "stream",
          "text": [
            "Accuracy: 0.9\n"
          ]
        }
      ],
      "source": [
        "from sklearn import metrics\n",
        "#6. call a metric function to evaluate the model\n",
        "print(\"Accuracy:\", metrics.accuracy_score(test_sln, predictions))"
      ]
    },
    {
      "cell_type": "markdown",
      "metadata": {
        "id": "ebxLoT3b9tHJ"
      },
      "source": [
        "### Here's an example of displaying a confusion matrix:\n",
        "\n",
        "Documentation link: https://scikit-learn.org/stable/modules/generated/sklearn.metrics.ConfusionMatrixDisplay.html#sklearn.metrics.ConfusionMatrixDisplay \n"
      ]
    },
    {
      "cell_type": "code",
      "execution_count": null,
      "metadata": {
        "id": "SJF7xC-Q9tHJ"
      },
      "outputs": [],
      "source": [
        "from sklearn.metrics import ConfusionMatrixDisplay\n",
        "import matplotlib.pyplot as plt\n",
        "#print out a confusion matrix\n",
        "iris_labels= [\"Iris-setosa\", \"Iris-versicolor\",\"Iris-virginica\"]\n",
        "conf_mat = metrics.confusion_matrix(test_sln, iris_predictions, labels=iris_labels)"
      ]
    },
    {
      "cell_type": "code",
      "execution_count": null,
      "metadata": {
        "id": "kfNheJWQ9tHJ",
        "outputId": "6421e20d-74a8-4ed6-a58b-d656e21efd24"
      },
      "outputs": [
        {
          "name": "stdout",
          "output_type": "stream",
          "text": [
            "                 Iris-setosa  Iris-versicolor  Iris-virginica\n",
            "Iris-setosa                9                0               0\n",
            "Iris-versicolor            0                8               3\n",
            "Iris-virginica             0                2               8\n"
          ]
        },
        {
          "data": {
            "image/png": "[encoded data removed]",
            "text/plain": [
              "<Figure size 432x288 with 2 Axes>"
            ]
          },
          "metadata": {
            "needs_background": "light"
          },
          "output_type": "display_data"
        }
      ],
      "source": [
        "#displaying a confusion matrix\n",
        "\n",
        "# option #1: text\n",
        "print(pandas.DataFrame(conf_mat,index = iris_labels, columns = iris_labels))\n",
        "\n",
        "# option #2: prettify\n",
        "displ = ConfusionMatrixDisplay(confusion_matrix=conf_mat, display_labels=iris_labels)\n",
        "displ.plot()\n",
        "plt.show()"
      ]
    },
    {
      "cell_type": "markdown",
      "metadata": {
        "id": "bydUN63r9tHK"
      },
      "source": [
        "## (Optional) Step 7: Print out the results to debug\n",
        "\n",
        "Sometimes its helpful to take a closer look at your predictions. Here's some code to do just that:"
      ]
    },
    {
      "cell_type": "code",
      "execution_count": null,
      "metadata": {
        "id": "GUZ0d1S99tHK",
        "outputId": "be0fa159-cced-45d0-f24d-26ae86856bff"
      },
      "outputs": [
        {
          "name": "stdout",
          "output_type": "stream",
          "text": [
            "___PREDICTED___ \t  ___ACTUAL___\n",
            "Iris-versicolor \t\t Iris-virginica\n",
            "Iris-virginica \t\t Iris-virginica\n",
            "Iris-virginica \t\t Iris-virginica\n",
            "Iris-versicolor \t\t Iris-versicolor\n",
            "Iris-virginica \t\t Iris-virginica\n",
            "Iris-versicolor \t\t Iris-versicolor\n",
            "Iris-virginica \t\t Iris-virginica\n",
            "Iris-virginica \t\t Iris-versicolor\n",
            "Iris-virginica \t\t Iris-virginica\n",
            "Iris-virginica \t\t Iris-virginica\n",
            "Iris-virginica \t\t Iris-virginica\n",
            "Iris-setosa \t\t Iris-setosa\n",
            "Iris-setosa \t\t Iris-setosa\n",
            "Iris-versicolor \t\t Iris-versicolor\n",
            "Iris-setosa \t\t Iris-setosa\n",
            "Iris-versicolor \t\t Iris-virginica\n",
            "Iris-setosa \t\t Iris-setosa\n",
            "Iris-virginica \t\t Iris-versicolor\n",
            "Iris-setosa \t\t Iris-setosa\n",
            "Iris-setosa \t\t Iris-setosa\n",
            "Iris-versicolor \t\t Iris-versicolor\n",
            "Iris-virginica \t\t Iris-virginica\n",
            "Iris-setosa \t\t Iris-setosa\n",
            "Iris-setosa \t\t Iris-setosa\n",
            "Iris-versicolor \t\t Iris-versicolor\n",
            "Iris-versicolor \t\t Iris-versicolor\n",
            "Iris-virginica \t\t Iris-versicolor\n",
            "Iris-versicolor \t\t Iris-versicolor\n",
            "Iris-setosa \t\t Iris-setosa\n",
            "Iris-versicolor \t\t Iris-versicolor\n"
          ]
        }
      ],
      "source": [
        "# Show the acutal and predicted (this isn't necessary, but may help catch bugs)\n",
        "print(\"___PREDICTED___ \\t  ___ACTUAL___\")\n",
        "for i in range(len(test_sln)):\n",
        "    print(iris_predictions[i],\"\\t\\t\", test_sln.iloc[i])"
      ]
    },
    {
      "cell_type": "markdown",
      "metadata": {
        "id": "PJ8DwI9K9tHK"
      },
      "source": [
        "# 💬 Group Exercise #1: \n",
        "\n",
        "Take a look at the [Decision Tree Classifier Documentation](https://scikit-learn.org/stable/modules/generated/sklearn.tree.DecisionTreeClassifier.html):\n",
        "- Experiment with different `random_state`s\n",
        "- Explore different parameters you could use in the `DecisionTreeClassifier`\n",
        "- Can you improve the 90% accuracy with `random_state=41`?\n",
        "- What happens when you do this? Why?"
      ]
    },
    {
      "cell_type": "code",
      "execution_count": null,
      "metadata": {
        "id": "yJzdpLNp9tHK",
        "outputId": "b9ce787d-7a1e-4c07-bd21-c07b100ecb18"
      },
      "outputs": [
        {
          "name": "stdout",
          "output_type": "stream",
          "text": [
            "0.6333333333333333\n"
          ]
        }
      ],
      "source": [
        "smol_dt = tree.DecisionTreeClassifier(criterion='entropy', max_depth=2, max_leaf_nodes=2)\n",
        "smol_dt.fit(train_data, train_sln)\n",
        "predictions = smol_dt.predict(test_data)\n",
        "acc = metrics.accuracy_score(test_sln, predictions)\n",
        "print(acc)"
      ]
    },
    {
      "cell_type": "markdown",
      "metadata": {
        "id": "gYxsTpZN9tHK"
      },
      "source": [
        "# Plotting Decision Trees\n",
        "\n",
        "You can use `matplotlib` to plot decision trees using the `sklearn.tree.plot_tree` method. "
      ]
    },
    {
      "cell_type": "code",
      "execution_count": null,
      "metadata": {
        "id": "3htnqbOc9tHL",
        "outputId": "5969e847-0887-4265-c0b3-9d0ab7f49fb4"
      },
      "outputs": [
        {
          "data": {
            "image/png": "[encoded data removed]",
            "text/plain": [
              "<Figure size 648x648 with 1 Axes>"
            ]
          },
          "metadata": {
            "needs_background": "light"
          },
          "output_type": "display_data"
        }
      ],
      "source": [
        "# visualizing decision tree\n",
        "import matplotlib.pyplot as plt\n",
        "\n",
        "plt.figure(figsize=(9,9)) # Makes it so the graph isn't tiny\n",
        "tree.plot_tree(dt); #if you remove the ;, you'll get more information about the tree"
      ]
    },
    {
      "cell_type": "code",
      "execution_count": null,
      "metadata": {
        "id": "EF-bVKQr9tHL"
      },
      "outputs": [],
      "source": [
        "#including this to make the plot display during slide mode"
      ]
    },
    {
      "cell_type": "code",
      "execution_count": null,
      "metadata": {
        "id": "fbl6l1wu9tHL",
        "outputId": "868a562d-67b1-4931-c6d5-acb883be30ab"
      },
      "outputs": [
        {
          "data": {
            "image/png": "[encoded data removed]",
            "text/plain": [
              "<Figure size 900x900 with 1 Axes>"
            ]
          },
          "metadata": {
            "needs_background": "light"
          },
          "output_type": "display_data"
        }
      ],
      "source": [
        "#tweak paramters to make it pretty\n",
        "import matplotlib.pyplot as plt\n",
        "fn=['sepal length (cm)','sepal width (cm)','petal length (cm)','petal width (cm)']\n",
        "cn=['setosa', 'versicolor', 'virginica']\n",
        "fig, axes = plt.subplots(nrows = 1,ncols = 1,figsize = (3,3), dpi=300)\n",
        "tree.plot_tree(dt,\n",
        "               feature_names = fn, \n",
        "               class_names=cn,\n",
        "               filled = True);"
      ]
    },
    {
      "cell_type": "code",
      "execution_count": null,
      "metadata": {
        "id": "ByhqfNpq9tHL"
      },
      "outputs": [],
      "source": [
        "#including this to make the plot display during slide mode"
      ]
    },
    {
      "cell_type": "markdown",
      "metadata": {
        "id": "Cw06FQpb9tHL"
      },
      "source": [
        "## Another pretty Confusion Matrix"
      ]
    },
    {
      "cell_type": "code",
      "execution_count": null,
      "metadata": {
        "id": "DeVWphRC9tHL",
        "outputId": "05633193-ec1e-40e8-ec91-07cf341b4c88"
      },
      "outputs": [
        {
          "data": {
            "text/plain": [
              "Text(0.5, 0, 'Predicted label')"
            ]
          },
          "execution_count": 39,
          "metadata": {},
          "output_type": "execute_result"
        },
        {
          "data": {
            "image/png": "[encoded data removed]",
            "text/plain": [
              "<Figure size 432x288 with 2 Axes>"
            ]
          },
          "metadata": {
            "needs_background": "light"
          },
          "output_type": "display_data"
        }
      ],
      "source": [
        "# a pretty confusion matrix\n",
        "import itertools\n",
        "\n",
        "cm=metrics.confusion_matrix(test_sln,iris_predictions)\n",
        "plt.imshow(cm, interpolation='nearest',cmap=plt.cm.Blues)\n",
        "plt.title('Decision Tree Conf Matrix, Iris Data')\n",
        "plt.colorbar()\n",
        "plt.xticks([0,1,2], dt.classes_,rotation=45)\n",
        "plt.yticks([0,1,2], dt.classes_)\n",
        "thresh = cm.max() / 2.\n",
        "for i, j in itertools.product(range(cm.shape[0]), range(cm.shape[1])):\n",
        "        plt.text(j, i, format(cm[i, j], '.2f'),\n",
        "                horizontalalignment=\"center\",\n",
        "                color=\"white\" if cm[i, j] > thresh else \"black\")\n",
        "plt.ylabel('True label')\n",
        "plt.xlabel('Predicted label')"
      ]
    },
    {
      "cell_type": "markdown",
      "metadata": {
        "id": "Vw9jgT7s9tHM"
      },
      "source": [
        "# 💬 Group Exercise #2: \n",
        "\n",
        "With the aid of the documentation, try the following:\n",
        "- Create a decision tree with an early stopping parameter\n",
        "- Visualize your trees to see if it is working right.\n",
        "- Look at your performance metrics to see how it changes performance.\n",
        "- Determine which of the featuers (petal length, sepal length, etc) were the most important.How does it determine these numbers?"
      ]
    },
    {
      "cell_type": "code",
      "execution_count": null,
      "metadata": {
        "id": "7PNq1hMy9tHM"
      },
      "outputs": [],
      "source": [
        "# code for exercise #2\n"
      ]
    },
    {
      "cell_type": "markdown",
      "metadata": {
        "id": "DuNSYn0Z9tHM"
      },
      "source": [
        "# 💬 Group Exercise #3: \n",
        "\n",
        "Check out the [scikit-learn documentation here](https://scikit-learn.org/stable/modules/classes.html)\n",
        "\n",
        "Find the documentation for the kNN classifier (i.e., the classifier, not an unsupervised algorithm). Answer the following questions:\n",
        "\n",
        "- What is the default value of k it uses?\n",
        "- Does it do weighted or unweighted kNN by default?\n",
        "- What is the accuracy on the Iris dataset for k = 100, both weighted and unweighted?\n",
        "- How do the weighted and unweighted versions do for small values of k?"
      ]
    },
    {
      "cell_type": "code",
      "execution_count": null,
      "metadata": {
        "id": "HD3YcqHk9tHM"
      },
      "outputs": [],
      "source": []
    },
    {
      "cell_type": "markdown",
      "metadata": {
        "id": "NNb-2mJj9tHM"
      },
      "source": [
        "# Let's try regression now:\n",
        "\n",
        "Here we:\n",
        "- load the data, get the right subset\n",
        "- set predictors and target variables\n",
        "- use `train_test_split()` to split the data"
      ]
    },
    {
      "cell_type": "code",
      "execution_count": null,
      "metadata": {
        "id": "6f27RuIF9tHM",
        "outputId": "d16ca522-4df2-4ab0-bdbe-8113d59af6a2"
      },
      "outputs": [
        {
          "name": "stderr",
          "output_type": "stream",
          "text": [
            "/Users/100022114/opt/anaconda3/lib/python3.8/site-packages/IPython/core/interactiveshell.py:3071: DtypeWarning: Columns (70,71,72,73,74,76,79) have mixed types.Specify dtype option on import or set low_memory=False.\n",
            "  has_raised = await self.run_ast_nodes(code_ast.body, cell_name,\n"
          ]
        },
        {
          "data": {
            "text/html": [
              "<div>\n",
              "<style scoped>\n",
              "    .dataframe tbody tr th:only-of-type {\n",
              "        vertical-align: middle;\n",
              "    }\n",
              "\n",
              "    .dataframe tbody tr th {\n",
              "        vertical-align: top;\n",
              "    }\n",
              "\n",
              "    .dataframe thead th {\n",
              "        text-align: right;\n",
              "    }\n",
              "</style>\n",
              "<table border=\"1\" class=\"dataframe\">\n",
              "  <thead>\n",
              "    <tr style=\"text-align: right;\">\n",
              "      <th></th>\n",
              "      <th>year</th>\n",
              "      <th>cylinders</th>\n",
              "      <th>displ</th>\n",
              "    </tr>\n",
              "  </thead>\n",
              "  <tbody>\n",
              "    <tr>\n",
              "      <th>4256</th>\n",
              "      <td>1985</td>\n",
              "      <td>4.0</td>\n",
              "      <td>2.2</td>\n",
              "    </tr>\n",
              "    <tr>\n",
              "      <th>2685</th>\n",
              "      <td>1995</td>\n",
              "      <td>6.0</td>\n",
              "      <td>4.0</td>\n",
              "    </tr>\n",
              "    <tr>\n",
              "      <th>35058</th>\n",
              "      <td>2020</td>\n",
              "      <td>6.0</td>\n",
              "      <td>4.3</td>\n",
              "    </tr>\n",
              "    <tr>\n",
              "      <th>10678</th>\n",
              "      <td>1986</td>\n",
              "      <td>6.0</td>\n",
              "      <td>2.8</td>\n",
              "    </tr>\n",
              "    <tr>\n",
              "      <th>18702</th>\n",
              "      <td>1984</td>\n",
              "      <td>8.0</td>\n",
              "      <td>5.0</td>\n",
              "    </tr>\n",
              "  </tbody>\n",
              "</table>\n",
              "</div>"
            ],
            "text/plain": [
              "       year  cylinders  displ\n",
              "4256   1985        4.0    2.2\n",
              "2685   1995        6.0    4.0\n",
              "35058  2020        6.0    4.3\n",
              "10678  1986        6.0    2.8\n",
              "18702  1984        8.0    5.0"
            ]
          },
          "execution_count": 41,
          "metadata": {},
          "output_type": "execute_result"
        }
      ],
      "source": [
        "# load in the vehicles.csv data for scikit learn\n",
        "import pandas\n",
        "import numpy\n",
        "\n",
        "# load data, get the right subset\n",
        "path = 'datasets/vehicles.csv' #'/content/drive/MyDrive/CS167/datasets/vehicles.csv'\n",
        "data = pandas.read_csv(path)\n",
        "gas_vehicles = data[data['fuelType']=='Regular'][['year', 'cylinders', 'displ', 'comb08']]\n",
        "gas_vehicles.dropna(inplace=True)\n",
        "\n",
        "# set the predictor variables and target variable\n",
        "predictors= ['year', 'cylinders', 'displ']\n",
        "target= 'comb08'\n",
        "\n",
        "# use train_test_split() to split the data\n",
        "train_data, test_data, train_sln, test_sln = train_test_split(gas_vehicles[predictors], gas_vehicles[target], test_size = 0.2, random_state=41)\n",
        "train_data.head()"
      ]
    },
    {
      "cell_type": "markdown",
      "metadata": {
        "id": "VxL6lDJi9tHN"
      },
      "source": [
        "And then we do the next steps:\n",
        "- build our model using `neighbors.KNeighborsRegressor()`\n",
        "- fit our model using `fit()` and passing in `train_data` and `train_sln`\n",
        "- get our predictions by calling `predict()`\n",
        "- evaluate our predictions using `metrics.mean_squared_error()`, and `metrics.r2_score()`"
      ]
    },
    {
      "cell_type": "code",
      "execution_count": null,
      "metadata": {
        "id": "yoUeZ2qM9tHN",
        "outputId": "22bedd58-5293-4288-faba-3801e3ade655"
      },
      "outputs": [
        {
          "name": "stdout",
          "output_type": "stream",
          "text": [
            "MSE:  6.798711839166046\n",
            "MAE:  1.7742740134028294\n",
            "r2:  0.7738706905208238\n"
          ]
        }
      ],
      "source": [
        "from sklearn import neighbors\n",
        "# create our model\n",
        "neigh = neighbors.KNeighborsRegressor()\n",
        "\n",
        "# fit (train) the model to the data\n",
        "neigh.fit(train_data, train_sln)\n",
        "\n",
        "# use the trained model to get predictions from our test_data\n",
        "predictions = neigh.predict(test_data)\n",
        "\n",
        "# use a metric to see how good our predictions are\n",
        "print('MSE: ', metrics.mean_squared_error(test_sln, predictions))\n",
        "print('MAE: ', metrics.mean_absolute_error(test_sln, predictions))\n",
        "print('r2: ', metrics.r2_score(test_sln, predictions))\n",
        "     "
      ]
    },
    {
      "cell_type": "markdown",
      "metadata": {
        "id": "XNl_J96v9tHN"
      },
      "source": [
        "# Normalizing using `StandardScaler`\n"
      ]
    },
    {
      "cell_type": "code",
      "execution_count": null,
      "metadata": {
        "id": "kAZ9LRxu9tHN",
        "outputId": "c41d1184-4b15-4cd3-d4a3-5c59672ba21b"
      },
      "outputs": [
        {
          "data": {
            "text/html": [
              "<div>\n",
              "<style scoped>\n",
              "    .dataframe tbody tr th:only-of-type {\n",
              "        vertical-align: middle;\n",
              "    }\n",
              "\n",
              "    .dataframe tbody tr th {\n",
              "        vertical-align: top;\n",
              "    }\n",
              "\n",
              "    .dataframe thead th {\n",
              "        text-align: right;\n",
              "    }\n",
              "</style>\n",
              "<table border=\"1\" class=\"dataframe\">\n",
              "  <thead>\n",
              "    <tr style=\"text-align: right;\">\n",
              "      <th></th>\n",
              "      <th>year</th>\n",
              "      <th>cylinders</th>\n",
              "      <th>displ</th>\n",
              "    </tr>\n",
              "  </thead>\n",
              "  <tbody>\n",
              "    <tr>\n",
              "      <th>4256</th>\n",
              "      <td>1985</td>\n",
              "      <td>4.0</td>\n",
              "      <td>2.2</td>\n",
              "    </tr>\n",
              "    <tr>\n",
              "      <th>2685</th>\n",
              "      <td>1995</td>\n",
              "      <td>6.0</td>\n",
              "      <td>4.0</td>\n",
              "    </tr>\n",
              "    <tr>\n",
              "      <th>35058</th>\n",
              "      <td>2020</td>\n",
              "      <td>6.0</td>\n",
              "      <td>4.3</td>\n",
              "    </tr>\n",
              "    <tr>\n",
              "      <th>10678</th>\n",
              "      <td>1986</td>\n",
              "      <td>6.0</td>\n",
              "      <td>2.8</td>\n",
              "    </tr>\n",
              "    <tr>\n",
              "      <th>18702</th>\n",
              "      <td>1984</td>\n",
              "      <td>8.0</td>\n",
              "      <td>5.0</td>\n",
              "    </tr>\n",
              "  </tbody>\n",
              "</table>\n",
              "</div>"
            ],
            "text/plain": [
              "       year  cylinders  displ\n",
              "4256   1985        4.0    2.2\n",
              "2685   1995        6.0    4.0\n",
              "35058  2020        6.0    4.3\n",
              "10678  1986        6.0    2.8\n",
              "18702  1984        8.0    5.0"
            ]
          },
          "execution_count": 44,
          "metadata": {},
          "output_type": "execute_result"
        }
      ],
      "source": [
        "train_data.head()"
      ]
    },
    {
      "cell_type": "code",
      "execution_count": null,
      "metadata": {
        "id": "0PlEN8Dt9tHN",
        "outputId": "1db028ac-2927-4b3f-8602-3e53d71b3bd6"
      },
      "outputs": [
        {
          "data": {
            "text/plain": [
              "array([[-1.26567897, -0.90229747, -0.71992797],\n",
              "       [-0.35862853,  0.41508442,  0.69575639],\n",
              "       [ 1.90899757,  0.41508442,  0.93170379],\n",
              "       ...,\n",
              "       [ 1.81829253, -0.90229747, -0.87722623],\n",
              "       [-0.44933357, -0.90229747, -0.48398058],\n",
              "       [-0.35862853,  1.73246631,  1.48224771]])"
            ]
          },
          "execution_count": 46,
          "metadata": {},
          "output_type": "execute_result"
        }
      ],
      "source": [
        "from sklearn.preprocessing import StandardScaler\n",
        "scaler = StandardScaler()\n",
        "scaler.fit(train_data)\n",
        "train_data_normalized = scaler.transform(train_data)\n",
        "test_data_normalized = scaler.transform(test_data)\n",
        "train_data_normalized"
      ]
    },
    {
      "cell_type": "markdown",
      "metadata": {
        "id": "K4xpKBdZ9tHN"
      },
      "source": [
        "# 💬 Group Exercise #4:\n",
        "Look up an appropriate Decision Tree algorithm and apply it to the vehicles data:\n",
        "- https://scikit-learn.org/stable/modules/classes.html\n",
        "- Using Default values of the decision tree, what is the $R^2$ metric?\n",
        "- Interpret the $R^2$ value... is it good or bad?"
      ]
    },
    {
      "cell_type": "code",
      "execution_count": null,
      "metadata": {
        "id": "gV1ye-4s9tHO"
      },
      "outputs": [],
      "source": []
    },
    {
      "cell_type": "markdown",
      "metadata": {
        "id": "39GwPW8-9tHO"
      },
      "source": [
        "# 💬 Group Exercise #5:\n",
        "Change your decision tree to have a `max_depth` of 3. \n",
        "- does this help or hurt the decision tree performance?\n",
        "\n",
        "Compare your decision tree to a kNN algorithm:\n",
        "- what values of k seem to help the performance?\n",
        "- What else can you do to help the performance?\n",
        "\n",
        "Can you get a higher $R^2$ valuue using a knn algorithm or adecision tree?\n",
        "- what does this indicate about the data?"
      ]
    },
    {
      "cell_type": "code",
      "execution_count": null,
      "metadata": {
        "id": "tACreGdx9tHO"
      },
      "outputs": [],
      "source": []
    }
  ],
  "metadata": {
    "celltoolbar": "Slideshow",
    "kernelspec": {
      "display_name": "Python 3",
      "language": "python",
      "name": "python3"
    },
    "language_info": {
      "codemirror_mode": {
        "name": "ipython",
        "version": 3
      },
      "file_extension": ".py",
      "mimetype": "text/x-python",
      "name": "python",
      "nbconvert_exporter": "python",
      "pygments_lexer": "ipython3",
      "version": "3.8.3"
    },
    "colab": {
      "provenance": [],
      "include_colab_link": true
    }
  },
  "nbformat": 4,
  "nbformat_minor": 0
}