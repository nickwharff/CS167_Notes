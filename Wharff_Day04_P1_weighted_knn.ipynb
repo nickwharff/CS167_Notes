{
  "cells": [
    {
      "cell_type": "markdown",
      "metadata": {
        "id": "view-in-github",
        "colab_type": "text"
      },
      "source": [
        "<a href=\"https://colab.research.google.com/github/nickwharff/CS167_Notes/blob/main/Wharff_Day04_P1_weighted_knn.ipynb\" target=\"_parent\"><img src=\"https://colab.research.google.com/assets/colab-badge.svg\" alt=\"Open In Colab\"/></a>"
      ]
    },
    {
      "cell_type": "markdown",
      "metadata": {
        "id": "22YAiRzihkao"
      },
      "source": [
        "# CS167: Day04 \n",
        "## Part 1: weighted kNN\n",
        "\n",
        "#### CS167: Machine Learning, J-Term 2023\n",
        "\n",
        "Friday, January 6th, 2023 -- Session I (9:00-10:15)\n",
        "\n",
        "[⏮ Day03 Part 2](https://github.com/merriekay/j23_cs167_notes/blob/main/Day03_P2_Missing_Data_Normalization.ipynb) | [Day03 Part 2⏩]()"
      ]
    },
    {
      "cell_type": "markdown",
      "metadata": {
        "id": "HClRDLSshkar"
      },
      "source": [
        "## Helpful Links:\n",
        "📆 [Course Schedule](https://docs.google.com/spreadsheets/d/e/2PACX-1vStj3FCEJqloUMLn2VtHa4yy1ILY6WvABhu4jd4cVUpPGkrx1mEjfTFmd77DMESR9HJ-8UBxgMDJL06/pubhtml?gid=0&single=true) | 🙋[PollEverywhere](https://pollev.com/meredithmoore011) | 📜 [Syllabus](https://analytics.drake.edu/~moore/j23_cs167/Syllabus.html)\n"
      ]
    },
    {
      "cell_type": "markdown",
      "metadata": {
        "id": "_h296PuLhkas"
      },
      "source": [
        "# Overview of Today:\n",
        "\n",
        "Part 1: Notebook #2 Questions, weighted kNN\n",
        "\n",
        "Part 2: Graphs, Metrics, and Testing"
      ]
    },
    {
      "cell_type": "markdown",
      "metadata": {
        "id": "CL1tswmbhkat"
      },
      "source": [
        "# Admin Stuff\n",
        "\n",
        "You should be working on:\n",
        "- [Notebook #2: kNN and Normalization](https://classroom.github.com/a/ZihGOnY-) is released today, but will be due on Friday 1/6 by 11:59pm.\n",
        "- Quiz #1 will be released today after class and will be due Monday 1/9/23 by 11:59pm. \n",
        "    - Blackboard\n",
        "    - To be completed individually\n",
        "    - Cite any external resoucres you use, please.\n"
      ]
    },
    {
      "cell_type": "markdown",
      "metadata": {
        "id": "Ucavs_yghkat"
      },
      "source": [
        "## Can't forget to load our data:\n",
        "\n",
        "And some of our favorite modulues, `pandas` and `numpy`"
      ]
    },
    {
      "cell_type": "code",
      "execution_count": null,
      "metadata": {
        "id": "xxW7g9Qshkau"
      },
      "outputs": [],
      "source": [
        "#run this cell if you're using Colab:\n",
        "from google.colab import drive\n",
        "drive.mount('/content/drive')"
      ]
    },
    {
      "cell_type": "code",
      "execution_count": null,
      "metadata": {
        "id": "1KQujjonhkav",
        "outputId": "2bab1811-29de-4ce7-c6bb-b8d34adea6cd"
      },
      "outputs": [
        {
          "data": {
            "text/html": [
              "<div>\n",
              "<style scoped>\n",
              "    .dataframe tbody tr th:only-of-type {\n",
              "        vertical-align: middle;\n",
              "    }\n",
              "\n",
              "    .dataframe tbody tr th {\n",
              "        vertical-align: top;\n",
              "    }\n",
              "\n",
              "    .dataframe thead th {\n",
              "        text-align: right;\n",
              "    }\n",
              "</style>\n",
              "<table border=\"1\" class=\"dataframe\">\n",
              "  <thead>\n",
              "    <tr style=\"text-align: right;\">\n",
              "      <th></th>\n",
              "      <th>sepal length</th>\n",
              "      <th>sepal width</th>\n",
              "      <th>petal length</th>\n",
              "      <th>petal width</th>\n",
              "      <th>species</th>\n",
              "    </tr>\n",
              "  </thead>\n",
              "  <tbody>\n",
              "    <tr>\n",
              "      <th>0</th>\n",
              "      <td>5.1</td>\n",
              "      <td>3.5</td>\n",
              "      <td>1.4</td>\n",
              "      <td>0.2</td>\n",
              "      <td>Iris-setosa</td>\n",
              "    </tr>\n",
              "    <tr>\n",
              "      <th>1</th>\n",
              "      <td>4.9</td>\n",
              "      <td>3.0</td>\n",
              "      <td>1.4</td>\n",
              "      <td>0.2</td>\n",
              "      <td>Iris-setosa</td>\n",
              "    </tr>\n",
              "    <tr>\n",
              "      <th>2</th>\n",
              "      <td>4.7</td>\n",
              "      <td>3.2</td>\n",
              "      <td>1.3</td>\n",
              "      <td>0.2</td>\n",
              "      <td>Iris-setosa</td>\n",
              "    </tr>\n",
              "    <tr>\n",
              "      <th>3</th>\n",
              "      <td>4.6</td>\n",
              "      <td>3.1</td>\n",
              "      <td>1.5</td>\n",
              "      <td>0.2</td>\n",
              "      <td>Iris-setosa</td>\n",
              "    </tr>\n",
              "    <tr>\n",
              "      <th>4</th>\n",
              "      <td>5.0</td>\n",
              "      <td>3.6</td>\n",
              "      <td>1.4</td>\n",
              "      <td>0.2</td>\n",
              "      <td>Iris-setosa</td>\n",
              "    </tr>\n",
              "  </tbody>\n",
              "</table>\n",
              "</div>"
            ],
            "text/plain": [
              "   sepal length  sepal width  petal length  petal width      species\n",
              "0           5.1          3.5           1.4          0.2  Iris-setosa\n",
              "1           4.9          3.0           1.4          0.2  Iris-setosa\n",
              "2           4.7          3.2           1.3          0.2  Iris-setosa\n",
              "3           4.6          3.1           1.5          0.2  Iris-setosa\n",
              "4           5.0          3.6           1.4          0.2  Iris-setosa"
            ]
          },
          "execution_count": 5,
          "metadata": {},
          "output_type": "execute_result"
        }
      ],
      "source": [
        "#import the data:\n",
        "#make sure the path on the line below corresponds to the path where you put your dataset.\n",
        "import pandas as pd\n",
        "import numpy as np\n",
        "path = 'datasets/irisData.csv'\n",
        "iris= pd.read_csv(path)\n",
        "iris.head()"
      ]
    },
    {
      "cell_type": "markdown",
      "metadata": {
        "id": "NxJZDdwWhkaw"
      },
      "source": [
        "## Demo of `copy()` and a DIY `z_score()` function"
      ]
    },
    {
      "cell_type": "code",
      "execution_count": null,
      "metadata": {
        "id": "CfiCtkZIhkaw"
      },
      "outputs": [],
      "source": [
        "def z_score(columns, data):\n",
        "    \"\"\"\n",
        "    takes in a list of columns to normalize using the z-score method\n",
        "    Params:\n",
        "        columns, a list of columns to normalize\n",
        "        data, the dataframe, preferably a copy\n",
        "    \"\"\"\n",
        "    for col in columns:\n",
        "        #get the mean and std\n",
        "        col_m = data[col].mean()\n",
        "        col_s = data[col].std()\n",
        "        \n",
        "        data[col] = (data[col] - col_m)/col_s"
      ]
    },
    {
      "cell_type": "code",
      "execution_count": null,
      "metadata": {
        "id": "4fbxwPb5hkax",
        "outputId": "6e02eb45-599b-4517-e24d-f288be7365fb"
      },
      "outputs": [
        {
          "data": {
            "text/html": [
              "<div>\n",
              "<style scoped>\n",
              "    .dataframe tbody tr th:only-of-type {\n",
              "        vertical-align: middle;\n",
              "    }\n",
              "\n",
              "    .dataframe tbody tr th {\n",
              "        vertical-align: top;\n",
              "    }\n",
              "\n",
              "    .dataframe thead th {\n",
              "        text-align: right;\n",
              "    }\n",
              "</style>\n",
              "<table border=\"1\" class=\"dataframe\">\n",
              "  <thead>\n",
              "    <tr style=\"text-align: right;\">\n",
              "      <th></th>\n",
              "      <th>sepal length</th>\n",
              "      <th>sepal width</th>\n",
              "      <th>petal length</th>\n",
              "      <th>petal width</th>\n",
              "      <th>species</th>\n",
              "      <th>distance_to_new</th>\n",
              "    </tr>\n",
              "  </thead>\n",
              "  <tbody>\n",
              "    <tr>\n",
              "      <th>76</th>\n",
              "      <td>1.155302</td>\n",
              "      <td>-0.585801</td>\n",
              "      <td>0.590184</td>\n",
              "      <td>0.263815</td>\n",
              "      <td>Iris-versicolor</td>\n",
              "      <td>0.591608</td>\n",
              "    </tr>\n",
              "    <tr>\n",
              "      <th>52</th>\n",
              "      <td>1.276066</td>\n",
              "      <td>0.106090</td>\n",
              "      <td>0.646860</td>\n",
              "      <td>0.394849</td>\n",
              "      <td>Iris-versicolor</td>\n",
              "      <td>0.700000</td>\n",
              "    </tr>\n",
              "    <tr>\n",
              "      <th>77</th>\n",
              "      <td>1.034539</td>\n",
              "      <td>-0.124540</td>\n",
              "      <td>0.703536</td>\n",
              "      <td>0.656917</td>\n",
              "      <td>Iris-versicolor</td>\n",
              "      <td>0.741620</td>\n",
              "    </tr>\n",
              "    <tr>\n",
              "      <th>50</th>\n",
              "      <td>1.396829</td>\n",
              "      <td>0.336720</td>\n",
              "      <td>0.533509</td>\n",
              "      <td>0.263815</td>\n",
              "      <td>Iris-versicolor</td>\n",
              "      <td>0.836660</td>\n",
              "    </tr>\n",
              "    <tr>\n",
              "      <th>129</th>\n",
              "      <td>1.638355</td>\n",
              "      <td>-0.124540</td>\n",
              "      <td>1.156943</td>\n",
              "      <td>0.525883</td>\n",
              "      <td>Iris-virginica</td>\n",
              "      <td>0.866025</td>\n",
              "    </tr>\n",
              "  </tbody>\n",
              "</table>\n",
              "</div>"
            ],
            "text/plain": [
              "     sepal length  sepal width  petal length  petal width          species  \\\n",
              "76       1.155302    -0.585801      0.590184     0.263815  Iris-versicolor   \n",
              "52       1.276066     0.106090      0.646860     0.394849  Iris-versicolor   \n",
              "77       1.034539    -0.124540      0.703536     0.656917  Iris-versicolor   \n",
              "50       1.396829     0.336720      0.533509     0.263815  Iris-versicolor   \n",
              "129      1.638355    -0.124540      1.156943     0.525883   Iris-virginica   \n",
              "\n",
              "     distance_to_new  \n",
              "76          0.591608  \n",
              "52          0.700000  \n",
              "77          0.741620  \n",
              "50          0.836660  \n",
              "129         0.866025  "
            ]
          },
          "execution_count": 13,
          "metadata": {},
          "output_type": "execute_result"
        }
      ],
      "source": [
        "iris_norm = iris.copy()\n",
        "z_score(['sepal length', 'sepal width', 'petal width', 'petal length'], iris_norm)\n",
        "iris_norm.head()"
      ]
    },
    {
      "cell_type": "markdown",
      "metadata": {
        "id": "uLTppxDGhkax"
      },
      "source": [
        "# Quick Review:"
      ]
    },
    {
      "cell_type": "markdown",
      "metadata": {
        "id": "8voOkk4Zhkay"
      },
      "source": [
        "## Machine Learning Variations\n",
        "\n",
        "We are going to learn about a lot of different types of machine learning in CS167. Here are a few categories to look out for: \n",
        "- __classifcation__: identify which category it goes in. Examples: Spam or ham? Eric or Tim? Fish, amphibian, reptile, bird, or mammal\n",
        "- __regression__: real-valued labels. Examples: price of Bitcoin, tomorrow's temperature, etc.\n",
        "- __supervised learning__: data has labels, goal is to predict the labels of new instance. \n",
        "- __unsupervised learning__: data does not have a label, the goal is to analyze/cluster the examples. \n",
        "- __other issues__: missing data, sequential data, outlier anomaly detetion, and many more. "
      ]
    },
    {
      "cell_type": "markdown",
      "metadata": {
        "id": "yK6DXYLchkay"
      },
      "source": [
        "## 🚨 Terminology Alert 🚨\n",
        "Each row in the table represents a __training example__, a previously-seen, known instance of the thing we are trying to model. \n",
        "\n",
        "Each column in the table represents a __feature__, some attribute or variable that each training example has a value for. \n",
        "\n",
        "__Target variable__: the 'feature' we will try to predict(e.g. species)--it's value is unkonwn for any new cases not in the training data.\n",
        "\n",
        "__Predictor variables__: (or just predictors), the features that will be used to make predictions of the target variable. (e.g. `sepal length`, `petal length`, `sepal width`, `petal width`"
      ]
    },
    {
      "cell_type": "markdown",
      "metadata": {
        "id": "r2vXsshWhkay"
      },
      "source": [
        "__k-Nearest-Neighbor Algorihm__: Predict the _most commonly appearing_ class among the __k__ closest training examples."
      ]
    },
    {
      "cell_type": "markdown",
      "metadata": {
        "id": "0lzc9xTnhkaz"
      },
      "source": [
        "## 3-Nearest-Neighbor Algorithm\n",
        "\n",
        "> Wait... why did we skip 2-NN?\n",
        "\n",
        "### What will a 3NN algorithm predict?\n",
        "\n",
        "<div>\n",
        "<img src=\"https://github.com/merriekay/j23_cs167_notes/blob/main/images/day03_3NN_iris.png?raw=1\" width=450/>\n",
        "</div>"
      ]
    },
    {
      "cell_type": "markdown",
      "metadata": {
        "id": "hB_Oc5Wuhkaz"
      },
      "source": [
        "# Remember our kNN function?"
      ]
    },
    {
      "cell_type": "code",
      "execution_count": null,
      "metadata": {
        "id": "GX9LL6O2hkaz"
      },
      "outputs": [],
      "source": [
        "def kNN(specimen, data, k):\n",
        "    # write your code in here to make this function work\n",
        "    # 1. calculate distances\n",
        "    data['distance_to_new'] = np.sqrt(\n",
        "    (specimen['petal length'] - data['petal length'])**2 \n",
        "    +(specimen['sepal length'] - data['sepal length'])**2 \n",
        "    +(specimen['petal width'] - data['petal width'])**2\n",
        "    +(specimen['sepal width'] - data['sepal width'])**2)\n",
        "\n",
        "    # 2. sort\n",
        "    data.sort_values(['distance_to_new'], inplace=True)\n",
        "    \n",
        "    # 3. predict\n",
        "    prediction = data.iloc[0:k]['species'].mode()\n",
        "\n",
        "    return prediction"
      ]
    },
    {
      "cell_type": "code",
      "execution_count": null,
      "metadata": {
        "id": "luneVHFxhkaz",
        "outputId": "a07ccb79-e84b-4208-9776-5a830177a857"
      },
      "outputs": [
        {
          "data": {
            "text/plain": [
              "0    Iris-versicolor\n",
              "dtype: object"
            ]
          },
          "execution_count": 15,
          "metadata": {},
          "output_type": "execute_result"
        }
      ],
      "source": [
        "new_iris = {}\n",
        "new_iris['petal length'] = 5.1\n",
        "new_iris['sepal length'] = 7.2\n",
        "new_iris['petal width'] = 1.5\n",
        "new_iris['sepal width'] = 2.5\n",
        "\n",
        "kNN(new_iris, iris, 15)"
      ]
    },
    {
      "cell_type": "markdown",
      "metadata": {
        "id": "q51oPVxwhka0"
      },
      "source": [
        "## kNN for Regression?\n",
        "\n",
        "The only thing we need to change if our target variable is a real-valued number (continuous) is that rather than taking the `mode()` of the __k__ closest neighbors, we will take the `mean()` of the k closest neighbors."
      ]
    },
    {
      "cell_type": "markdown",
      "metadata": {
        "id": "v9I0COxQhka0"
      },
      "source": [
        "# ✨ New Material"
      ]
    },
    {
      "cell_type": "markdown",
      "metadata": {
        "id": "wEPo8Gochka0"
      },
      "source": [
        "## Are all neighbors created equal?\n",
        "\n",
        "The way we've learned kNN so far, each neighbor gets an equal vote in the decision of what to predict.\n",
        "\n",
        "Do we see any problems with this? If so, what?"
      ]
    },
    {
      "cell_type": "markdown",
      "metadata": {
        "id": "Bp2KFRuVhka0"
      },
      "source": [
        "<div>\n",
        "<img src=\"https://github.com/merriekay/j23_cs167_notes/blob/main/images/day04_wknn_motivation.png?raw=1\" width = 500/>\n",
        "</div>"
      ]
    },
    {
      "cell_type": "markdown",
      "metadata": {
        "id": "CRV_DDvxhka0"
      },
      "source": [
        "Should neighbors that are closer to the new instance get a larger share of the vote?"
      ]
    },
    {
      "cell_type": "markdown",
      "metadata": {
        "id": "W0ztSL2Ehka1"
      },
      "source": [
        "# Weighted k-NNN Intuition:\n",
        "\n",
        "In weighted kNN, the nearest k points are given a weight, and the weights are grouped by the target variable. The class with the largest sum of weights will be the class that is predicted. \n",
        "\n",
        "The intuition is to give more weight to the points that are nearby and less weight to the points that are farther away.\n",
        "- distance-weighted voting"
      ]
    },
    {
      "cell_type": "markdown",
      "metadata": {
        "id": "LTqnfCn2hka1"
      },
      "source": [
        "In w-kNN, we want to predict the target variable with the most weight, where the weight is defined by the inverse distance function.\n",
        "\n",
        "## $w_{q,i} = \\frac{1}{d(x_q, x_i)^2}$\n",
        "\n",
        "> In English, you can read that as the __weight__ of a traning example is equal to 1 divided by the distance between the new instance and the traning example squared."
      ]
    },
    {
      "cell_type": "markdown",
      "metadata": {
        "id": "bCWZhD2Ihka1"
      },
      "source": [
        "## A w-kNN Example: Step 1\n",
        "\n",
        "Start by calculating the distance between the new example ('X'), and each of the other training examples:\n",
        "\n",
        "<div>\n",
        "<img src=\"https://github.com/merriekay/j23_cs167_notes/blob/main/images/day04_wknn_ex.png?raw=1\"/>\n",
        "</div>"
      ]
    },
    {
      "cell_type": "markdown",
      "metadata": {
        "id": "ZjUFe0VKhka1"
      },
      "source": [
        "## A w-kNN Example: Step 2\n",
        "\n",
        "Then, __calculate the weight___ of each training example using the inverse distance squared.\n",
        "\n",
        "<div>\n",
        "<img src=\"https://github.com/merriekay/j23_cs167_notes/blob/main/images/day04_wknn_ex1.png?raw=1\"/>\n",
        "</div>"
      ]
    },
    {
      "cell_type": "markdown",
      "metadata": {
        "id": "lA0frxqVhka1"
      },
      "source": [
        "## A w-kNN Example: Step 3\n",
        "\n",
        "Find the k closest neighbors--let's assume `k=3` for this example: \n",
        "<div>\n",
        "<img src=\"https://github.com/merriekay/j23_cs167_notes/blob/main/images/day04_wknn_ex2.png?raw=1\"/>\n",
        "</div>"
      ]
    },
    {
      "cell_type": "markdown",
      "metadata": {
        "id": "EKCCJRd7hka1"
      },
      "source": [
        "Then, sum the weights for each possible class: \n",
        "- __orange__: $1$\n",
        "- __blue__: $1/16 + 1/9 = 0.115$\n",
        "\n",
        "### What would a __normal 3NN__ predict? Weighted 3NN?"
      ]
    },
    {
      "cell_type": "markdown",
      "metadata": {
        "id": "s_VxmLj8hka1"
      },
      "source": [
        "## Let's write some code: \n",
        "\n",
        "Write a new function `weighted_kNN()`\n",
        "\n",
        "Pass the iris measurements (specimen), data frame, and k as parameters and return the precited class."
      ]
    },
    {
      "cell_type": "code",
      "execution_count": null,
      "metadata": {
        "id": "JjMhK354hka2"
      },
      "outputs": [],
      "source": [
        "def w_knn(specimen, data, k):\n",
        "    #calculate the distance\n",
        "    \n",
        "    # calculate the weights (remember, weights are 1/d^2)\n",
        "    \n",
        "    # find the k closest neighbors\n",
        "    \n",
        "    # use gropuby to sum the weights of each species in the closest k\n",
        "    \n",
        "    #return the class that has the largest sum of weight."
      ]
    },
    {
      "cell_type": "code",
      "execution_count": null,
      "metadata": {
        "id": "MFDS7PyVhka2"
      },
      "outputs": [],
      "source": [
        "new_iris = {}\n",
        "new_iris['petal length'] = 5.1\n",
        "new_iris['sepal length'] = 7.2\n",
        "new_iris['petal width'] = 1.5\n",
        "new_iris['sepal width'] = 2.5\n",
        "\n",
        "kNN(new_iris, iris, 15)\n",
        "#new_iris['petal length']"
      ]
    },
    {
      "cell_type": "markdown",
      "metadata": {
        "id": "TeXL8MsLhka2"
      },
      "source": [
        "## Exercises:\n",
        "\n",
        "Normalize each of the predictor columns in the iris dataset\n",
        "\n",
        ">__Note__: you need a way to transform the new reading (the specimen) that you will make the prediction on so that the new one and the training data will all be on the same scale. How can you do that?\n",
        "\n",
        "Repeat your k-NN prediction code for the normalized data.\n",
        "- Does the value of k change the predictions? \n",
        "    - compare using `k=3`, and `k=5` on each method (normalized and non-normalized), (weighted and unweighted)"
      ]
    },
    {
      "cell_type": "markdown",
      "metadata": {
        "id": "5QMr67Fkhka2"
      },
      "source": [
        "## Use these tables to keep track of your predictions:\n",
        "### `k=3`\n",
        "|                    | **not normalized** | **normalized** |\n",
        "|--------------------|--------------------|----------------|\n",
        "| **unweighted kNN** |                    |                |\n",
        "| **weighted kNN**   |                    |                |\n",
        "\n",
        "## `k=5`\n",
        "\n",
        "|                    | **not normalized** | **normalized** |\n",
        "|--------------------|--------------------|----------------|\n",
        "| **unweighted kNN** |                    |                |\n",
        "| **weighted kNN**   |                    |                |"
      ]
    },
    {
      "cell_type": "markdown",
      "metadata": {
        "id": "FmzzIhvqhka2"
      },
      "source": [
        "# 💬 Discussion Question\n",
        "\n",
        "Should we __always__ normalize our data? Why or why not?\n",
        "\n",
        "When does it make sense to normalize? When might it make more sense not to?"
      ]
    },
    {
      "cell_type": "code",
      "execution_count": null,
      "metadata": {
        "id": "pt4uQLVQhka2"
      },
      "outputs": [],
      "source": []
    }
  ],
  "metadata": {
    "celltoolbar": "Slideshow",
    "kernelspec": {
      "display_name": "Python 3",
      "language": "python",
      "name": "python3"
    },
    "language_info": {
      "codemirror_mode": {
        "name": "ipython",
        "version": 3
      },
      "file_extension": ".py",
      "mimetype": "text/x-python",
      "name": "python",
      "nbconvert_exporter": "python",
      "pygments_lexer": "ipython3",
      "version": "3.8.3"
    },
    "colab": {
      "provenance": [],
      "include_colab_link": true
    }
  },
  "nbformat": 4,
  "nbformat_minor": 0
}