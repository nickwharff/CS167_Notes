{
  "cells": [
    {
      "cell_type": "markdown",
      "metadata": {
        "id": "view-in-github",
        "colab_type": "text"
      },
      "source": [
        "<a href=\"https://colab.research.google.com/github/nickwharff/CS167_Notes/blob/main/Wharff_Day04_P1_weighted_knn.ipynb\" target=\"_parent\"><img src=\"https://colab.research.google.com/assets/colab-badge.svg\" alt=\"Open In Colab\"/></a>"
      ]
    },
    {
      "cell_type": "markdown",
      "metadata": {
        "id": "22YAiRzihkao"
      },
      "source": [
        "# CS167: Day04 \n",
        "## Part 1: weighted kNN\n",
        "\n",
        "#### CS167: Machine Learning, J-Term 2023\n",
        "\n",
        "Friday, January 6th, 2023 -- Session I (9:00-10:15)\n",
        "\n",
        "[⏮ Day03 Part 2](https://github.com/merriekay/j23_cs167_notes/blob/main/Day03_P2_Missing_Data_Normalization.ipynb) | [Day03 Part 2⏩]()"
      ]
    },
    {
      "cell_type": "markdown",
      "metadata": {
        "id": "HClRDLSshkar"
      },
      "source": [
        "## Helpful Links:\n",
        "📆 [Course Schedule](https://docs.google.com/spreadsheets/d/e/2PACX-1vStj3FCEJqloUMLn2VtHa4yy1ILY6WvABhu4jd4cVUpPGkrx1mEjfTFmd77DMESR9HJ-8UBxgMDJL06/pubhtml?gid=0&single=true) | 🙋[PollEverywhere](https://pollev.com/meredithmoore011) | 📜 [Syllabus](https://analytics.drake.edu/~moore/j23_cs167/Syllabus.html)\n"
      ]
    },
    {
      "cell_type": "markdown",
      "metadata": {
        "id": "_h296PuLhkas"
      },
      "source": [
        "# Overview of Today:\n",
        "\n",
        "Part 1: Notebook #2 Questions, weighted kNN\n",
        "\n",
        "Part 2: Graphs, Metrics, and Testing"
      ]
    },
    {
      "cell_type": "markdown",
      "metadata": {
        "id": "CL1tswmbhkat"
      },
      "source": [
        "# Admin Stuff\n",
        "\n",
        "You should be working on:\n",
        "- [Notebook #2: kNN and Normalization](https://classroom.github.com/a/ZihGOnY-) is released today, but will be due on Friday 1/6 by 11:59pm.\n",
        "- Quiz #1 will be released today after class and will be due Monday 1/9/23 by 11:59pm. \n",
        "    - Blackboard\n",
        "    - To be completed individually\n",
        "    - Cite any external resoucres you use, please.\n"
      ]
    },
    {
      "cell_type": "markdown",
      "metadata": {
        "id": "Ucavs_yghkat"
      },
      "source": [
        "## Can't forget to load our data:\n",
        "\n",
        "And some of our favorite modulues, `pandas` and `numpy`"
      ]
    },
    {
      "cell_type": "code",
      "execution_count": 1,
      "metadata": {
        "id": "xxW7g9Qshkau",
        "colab": {
          "base_uri": "https://localhost:8080/"
        },
        "outputId": "247bfd8b-d976-4513-e271-7e6c26708fae"
      },
      "outputs": [
        {
          "output_type": "stream",
          "name": "stdout",
          "text": [
            "Mounted at /content/drive\n"
          ]
        }
      ],
      "source": [
        "#run this cell if you're using Colab:\n",
        "from google.colab import drive\n",
        "drive.mount('/content/drive')"
      ]
    },
    {
      "cell_type": "code",
      "execution_count": 2,
      "metadata": {
        "id": "1KQujjonhkav",
        "outputId": "5a79e393-6f7a-4b31-b1d6-7574520c221d",
        "colab": {
          "base_uri": "https://localhost:8080/",
          "height": 206
        }
      },
      "outputs": [
        {
          "output_type": "execute_result",
          "data": {
            "text/plain": [
              "   sepal length  sepal width  petal length  petal width      species\n",
              "0           5.1          3.5           1.4          0.2  Iris-setosa\n",
              "1           4.9          3.0           1.4          0.2  Iris-setosa\n",
              "2           4.7          3.2           1.3          0.2  Iris-setosa\n",
              "3           4.6          3.1           1.5          0.2  Iris-setosa\n",
              "4           5.0          3.6           1.4          0.2  Iris-setosa"
            ],
            "text/html": [
              "\n",
              "  <div id=\"df-ba030d67-f375-486c-bb6c-cb86dd9ccd64\">\n",
              "    <div class=\"colab-df-container\">\n",
              "      <div>\n",
              "<style scoped>\n",
              "    .dataframe tbody tr th:only-of-type {\n",
              "        vertical-align: middle;\n",
              "    }\n",
              "\n",
              "    .dataframe tbody tr th {\n",
              "        vertical-align: top;\n",
              "    }\n",
              "\n",
              "    .dataframe thead th {\n",
              "        text-align: right;\n",
              "    }\n",
              "</style>\n",
              "<table border=\"1\" class=\"dataframe\">\n",
              "  <thead>\n",
              "    <tr style=\"text-align: right;\">\n",
              "      <th></th>\n",
              "      <th>sepal length</th>\n",
              "      <th>sepal width</th>\n",
              "      <th>petal length</th>\n",
              "      <th>petal width</th>\n",
              "      <th>species</th>\n",
              "    </tr>\n",
              "  </thead>\n",
              "  <tbody>\n",
              "    <tr>\n",
              "      <th>0</th>\n",
              "      <td>5.1</td>\n",
              "      <td>3.5</td>\n",
              "      <td>1.4</td>\n",
              "      <td>0.2</td>\n",
              "      <td>Iris-setosa</td>\n",
              "    </tr>\n",
              "    <tr>\n",
              "      <th>1</th>\n",
              "      <td>4.9</td>\n",
              "      <td>3.0</td>\n",
              "      <td>1.4</td>\n",
              "      <td>0.2</td>\n",
              "      <td>Iris-setosa</td>\n",
              "    </tr>\n",
              "    <tr>\n",
              "      <th>2</th>\n",
              "      <td>4.7</td>\n",
              "      <td>3.2</td>\n",
              "      <td>1.3</td>\n",
              "      <td>0.2</td>\n",
              "      <td>Iris-setosa</td>\n",
              "    </tr>\n",
              "    <tr>\n",
              "      <th>3</th>\n",
              "      <td>4.6</td>\n",
              "      <td>3.1</td>\n",
              "      <td>1.5</td>\n",
              "      <td>0.2</td>\n",
              "      <td>Iris-setosa</td>\n",
              "    </tr>\n",
              "    <tr>\n",
              "      <th>4</th>\n",
              "      <td>5.0</td>\n",
              "      <td>3.6</td>\n",
              "      <td>1.4</td>\n",
              "      <td>0.2</td>\n",
              "      <td>Iris-setosa</td>\n",
              "    </tr>\n",
              "  </tbody>\n",
              "</table>\n",
              "</div>\n",
              "      <button class=\"colab-df-convert\" onclick=\"convertToInteractive('df-ba030d67-f375-486c-bb6c-cb86dd9ccd64')\"\n",
              "              title=\"Convert this dataframe to an interactive table.\"\n",
              "              style=\"display:none;\">\n",
              "        \n",
              "  <svg xmlns=\"http://www.w3.org/2000/svg\" height=\"24px\"viewBox=\"0 0 24 24\"\n",
              "       width=\"24px\">\n",
              "    <path d=\"M0 0h24v24H0V0z\" fill=\"none\"/>\n",
              "    <path d=\"M18.56 5.44l.94 2.06.94-2.06 2.06-.94-2.06-.94-.94-2.06-.94 2.06-2.06.94zm-11 1L8.5 8.5l.94-2.06 2.06-.94-2.06-.94L8.5 2.5l-.94 2.06-2.06.94zm10 10l.94 2.06.94-2.06 2.06-.94-2.06-.94-.94-2.06-.94 2.06-2.06.94z\"/><path d=\"M17.41 7.96l-1.37-1.37c-.4-.4-.92-.59-1.43-.59-.52 0-1.04.2-1.43.59L10.3 9.45l-7.72 7.72c-.78.78-.78 2.05 0 2.83L4 21.41c.39.39.9.59 1.41.59.51 0 1.02-.2 1.41-.59l7.78-7.78 2.81-2.81c.8-.78.8-2.07 0-2.86zM5.41 20L4 18.59l7.72-7.72 1.47 1.35L5.41 20z\"/>\n",
              "  </svg>\n",
              "      </button>\n",
              "      \n",
              "  <style>\n",
              "    .colab-df-container {\n",
              "      display:flex;\n",
              "      flex-wrap:wrap;\n",
              "      gap: 12px;\n",
              "    }\n",
              "\n",
              "    .colab-df-convert {\n",
              "      background-color: #E8F0FE;\n",
              "      border: none;\n",
              "      border-radius: 50%;\n",
              "      cursor: pointer;\n",
              "      display: none;\n",
              "      fill: #1967D2;\n",
              "      height: 32px;\n",
              "      padding: 0 0 0 0;\n",
              "      width: 32px;\n",
              "    }\n",
              "\n",
              "    .colab-df-convert:hover {\n",
              "      background-color: #E2EBFA;\n",
              "      box-shadow: 0px 1px 2px rgba(60, 64, 67, 0.3), 0px 1px 3px 1px rgba(60, 64, 67, 0.15);\n",
              "      fill: #174EA6;\n",
              "    }\n",
              "\n",
              "    [theme=dark] .colab-df-convert {\n",
              "      background-color: #3B4455;\n",
              "      fill: #D2E3FC;\n",
              "    }\n",
              "\n",
              "    [theme=dark] .colab-df-convert:hover {\n",
              "      background-color: #434B5C;\n",
              "      box-shadow: 0px 1px 3px 1px rgba(0, 0, 0, 0.15);\n",
              "      filter: drop-shadow(0px 1px 2px rgba(0, 0, 0, 0.3));\n",
              "      fill: #FFFFFF;\n",
              "    }\n",
              "  </style>\n",
              "\n",
              "      <script>\n",
              "        const buttonEl =\n",
              "          document.querySelector('#df-ba030d67-f375-486c-bb6c-cb86dd9ccd64 button.colab-df-convert');\n",
              "        buttonEl.style.display =\n",
              "          google.colab.kernel.accessAllowed ? 'block' : 'none';\n",
              "\n",
              "        async function convertToInteractive(key) {\n",
              "          const element = document.querySelector('#df-ba030d67-f375-486c-bb6c-cb86dd9ccd64');\n",
              "          const dataTable =\n",
              "            await google.colab.kernel.invokeFunction('convertToInteractive',\n",
              "                                                     [key], {});\n",
              "          if (!dataTable) return;\n",
              "\n",
              "          const docLinkHtml = 'Like what you see? Visit the ' +\n",
              "            '<a target=\"_blank\" href=https://colab.research.google.com/notebooks/data_table.ipynb>data table notebook</a>'\n",
              "            + ' to learn more about interactive tables.';\n",
              "          element.innerHTML = '';\n",
              "          dataTable['output_type'] = 'display_data';\n",
              "          await google.colab.output.renderOutput(dataTable, element);\n",
              "          const docLink = document.createElement('div');\n",
              "          docLink.innerHTML = docLinkHtml;\n",
              "          element.appendChild(docLink);\n",
              "        }\n",
              "      </script>\n",
              "    </div>\n",
              "  </div>\n",
              "  "
            ]
          },
          "metadata": {},
          "execution_count": 2
        }
      ],
      "source": [
        "#import the data:\n",
        "#make sure the path on the line below corresponds to the path where you put your dataset.\n",
        "import pandas as pd\n",
        "import numpy as np\n",
        "path = '/content/drive/MyDrive/CS167/datasets/irisData.csv'\n",
        "iris= pd.read_csv(path)\n",
        "iris.head()"
      ]
    },
    {
      "cell_type": "markdown",
      "metadata": {
        "id": "NxJZDdwWhkaw"
      },
      "source": [
        "## Demo of `copy()` and a DIY `z_score()` function"
      ]
    },
    {
      "cell_type": "code",
      "execution_count": 3,
      "metadata": {
        "id": "CfiCtkZIhkaw"
      },
      "outputs": [],
      "source": [
        "def z_score(columns, data):\n",
        "    \"\"\"\n",
        "    takes in a list of columns to normalize using the z-score method\n",
        "    Params:\n",
        "        columns, a list of columns to normalize\n",
        "        data, the dataframe, preferably a copy\n",
        "    \"\"\"\n",
        "    for col in columns:\n",
        "        #get the mean and std\n",
        "        col_m = data[col].mean()\n",
        "        col_s = data[col].std()\n",
        "        \n",
        "        data[col] = (data[col] - col_m)/col_s\n",
        "\n",
        "        # Thank you Professor Moore for this function"
      ]
    },
    {
      "cell_type": "code",
      "execution_count": 4,
      "metadata": {
        "id": "4fbxwPb5hkax",
        "outputId": "a39f712f-7d1d-43f5-a899-28ce19d4e566",
        "colab": {
          "base_uri": "https://localhost:8080/",
          "height": 206
        }
      },
      "outputs": [
        {
          "output_type": "execute_result",
          "data": {
            "text/plain": [
              "   sepal length  sepal width  petal length  petal width      species\n",
              "0     -0.897674     1.028611     -1.336794    -1.308593  Iris-setosa\n",
              "1     -1.139200    -0.124540     -1.336794    -1.308593  Iris-setosa\n",
              "2     -1.380727     0.336720     -1.393470    -1.308593  Iris-setosa\n",
              "3     -1.501490     0.106090     -1.280118    -1.308593  Iris-setosa\n",
              "4     -1.018437     1.259242     -1.336794    -1.308593  Iris-setosa"
            ],
            "text/html": [
              "\n",
              "  <div id=\"df-f50b99e8-47fb-4ee0-9001-c221846736e4\">\n",
              "    <div class=\"colab-df-container\">\n",
              "      <div>\n",
              "<style scoped>\n",
              "    .dataframe tbody tr th:only-of-type {\n",
              "        vertical-align: middle;\n",
              "    }\n",
              "\n",
              "    .dataframe tbody tr th {\n",
              "        vertical-align: top;\n",
              "    }\n",
              "\n",
              "    .dataframe thead th {\n",
              "        text-align: right;\n",
              "    }\n",
              "</style>\n",
              "<table border=\"1\" class=\"dataframe\">\n",
              "  <thead>\n",
              "    <tr style=\"text-align: right;\">\n",
              "      <th></th>\n",
              "      <th>sepal length</th>\n",
              "      <th>sepal width</th>\n",
              "      <th>petal length</th>\n",
              "      <th>petal width</th>\n",
              "      <th>species</th>\n",
              "    </tr>\n",
              "  </thead>\n",
              "  <tbody>\n",
              "    <tr>\n",
              "      <th>0</th>\n",
              "      <td>-0.897674</td>\n",
              "      <td>1.028611</td>\n",
              "      <td>-1.336794</td>\n",
              "      <td>-1.308593</td>\n",
              "      <td>Iris-setosa</td>\n",
              "    </tr>\n",
              "    <tr>\n",
              "      <th>1</th>\n",
              "      <td>-1.139200</td>\n",
              "      <td>-0.124540</td>\n",
              "      <td>-1.336794</td>\n",
              "      <td>-1.308593</td>\n",
              "      <td>Iris-setosa</td>\n",
              "    </tr>\n",
              "    <tr>\n",
              "      <th>2</th>\n",
              "      <td>-1.380727</td>\n",
              "      <td>0.336720</td>\n",
              "      <td>-1.393470</td>\n",
              "      <td>-1.308593</td>\n",
              "      <td>Iris-setosa</td>\n",
              "    </tr>\n",
              "    <tr>\n",
              "      <th>3</th>\n",
              "      <td>-1.501490</td>\n",
              "      <td>0.106090</td>\n",
              "      <td>-1.280118</td>\n",
              "      <td>-1.308593</td>\n",
              "      <td>Iris-setosa</td>\n",
              "    </tr>\n",
              "    <tr>\n",
              "      <th>4</th>\n",
              "      <td>-1.018437</td>\n",
              "      <td>1.259242</td>\n",
              "      <td>-1.336794</td>\n",
              "      <td>-1.308593</td>\n",
              "      <td>Iris-setosa</td>\n",
              "    </tr>\n",
              "  </tbody>\n",
              "</table>\n",
              "</div>\n",
              "      <button class=\"colab-df-convert\" onclick=\"convertToInteractive('df-f50b99e8-47fb-4ee0-9001-c221846736e4')\"\n",
              "              title=\"Convert this dataframe to an interactive table.\"\n",
              "              style=\"display:none;\">\n",
              "        \n",
              "  <svg xmlns=\"http://www.w3.org/2000/svg\" height=\"24px\"viewBox=\"0 0 24 24\"\n",
              "       width=\"24px\">\n",
              "    <path d=\"M0 0h24v24H0V0z\" fill=\"none\"/>\n",
              "    <path d=\"M18.56 5.44l.94 2.06.94-2.06 2.06-.94-2.06-.94-.94-2.06-.94 2.06-2.06.94zm-11 1L8.5 8.5l.94-2.06 2.06-.94-2.06-.94L8.5 2.5l-.94 2.06-2.06.94zm10 10l.94 2.06.94-2.06 2.06-.94-2.06-.94-.94-2.06-.94 2.06-2.06.94z\"/><path d=\"M17.41 7.96l-1.37-1.37c-.4-.4-.92-.59-1.43-.59-.52 0-1.04.2-1.43.59L10.3 9.45l-7.72 7.72c-.78.78-.78 2.05 0 2.83L4 21.41c.39.39.9.59 1.41.59.51 0 1.02-.2 1.41-.59l7.78-7.78 2.81-2.81c.8-.78.8-2.07 0-2.86zM5.41 20L4 18.59l7.72-7.72 1.47 1.35L5.41 20z\"/>\n",
              "  </svg>\n",
              "      </button>\n",
              "      \n",
              "  <style>\n",
              "    .colab-df-container {\n",
              "      display:flex;\n",
              "      flex-wrap:wrap;\n",
              "      gap: 12px;\n",
              "    }\n",
              "\n",
              "    .colab-df-convert {\n",
              "      background-color: #E8F0FE;\n",
              "      border: none;\n",
              "      border-radius: 50%;\n",
              "      cursor: pointer;\n",
              "      display: none;\n",
              "      fill: #1967D2;\n",
              "      height: 32px;\n",
              "      padding: 0 0 0 0;\n",
              "      width: 32px;\n",
              "    }\n",
              "\n",
              "    .colab-df-convert:hover {\n",
              "      background-color: #E2EBFA;\n",
              "      box-shadow: 0px 1px 2px rgba(60, 64, 67, 0.3), 0px 1px 3px 1px rgba(60, 64, 67, 0.15);\n",
              "      fill: #174EA6;\n",
              "    }\n",
              "\n",
              "    [theme=dark] .colab-df-convert {\n",
              "      background-color: #3B4455;\n",
              "      fill: #D2E3FC;\n",
              "    }\n",
              "\n",
              "    [theme=dark] .colab-df-convert:hover {\n",
              "      background-color: #434B5C;\n",
              "      box-shadow: 0px 1px 3px 1px rgba(0, 0, 0, 0.15);\n",
              "      filter: drop-shadow(0px 1px 2px rgba(0, 0, 0, 0.3));\n",
              "      fill: #FFFFFF;\n",
              "    }\n",
              "  </style>\n",
              "\n",
              "      <script>\n",
              "        const buttonEl =\n",
              "          document.querySelector('#df-f50b99e8-47fb-4ee0-9001-c221846736e4 button.colab-df-convert');\n",
              "        buttonEl.style.display =\n",
              "          google.colab.kernel.accessAllowed ? 'block' : 'none';\n",
              "\n",
              "        async function convertToInteractive(key) {\n",
              "          const element = document.querySelector('#df-f50b99e8-47fb-4ee0-9001-c221846736e4');\n",
              "          const dataTable =\n",
              "            await google.colab.kernel.invokeFunction('convertToInteractive',\n",
              "                                                     [key], {});\n",
              "          if (!dataTable) return;\n",
              "\n",
              "          const docLinkHtml = 'Like what you see? Visit the ' +\n",
              "            '<a target=\"_blank\" href=https://colab.research.google.com/notebooks/data_table.ipynb>data table notebook</a>'\n",
              "            + ' to learn more about interactive tables.';\n",
              "          element.innerHTML = '';\n",
              "          dataTable['output_type'] = 'display_data';\n",
              "          await google.colab.output.renderOutput(dataTable, element);\n",
              "          const docLink = document.createElement('div');\n",
              "          docLink.innerHTML = docLinkHtml;\n",
              "          element.appendChild(docLink);\n",
              "        }\n",
              "      </script>\n",
              "    </div>\n",
              "  </div>\n",
              "  "
            ]
          },
          "metadata": {},
          "execution_count": 4
        }
      ],
      "source": [
        "iris_norm = iris.copy()\n",
        "z_score(['sepal length', 'sepal width', 'petal width', 'petal length'], iris_norm)\n",
        "iris_norm.head()"
      ]
    },
    {
      "cell_type": "markdown",
      "metadata": {
        "id": "uLTppxDGhkax"
      },
      "source": [
        "# Quick Review:"
      ]
    },
    {
      "cell_type": "markdown",
      "metadata": {
        "id": "8voOkk4Zhkay"
      },
      "source": [
        "## Machine Learning Variations\n",
        "\n",
        "We are going to learn about a lot of different types of machine learning in CS167. Here are a few categories to look out for: \n",
        "- __classifcation__: identify which category it goes in. Examples: Spam or ham? Eric or Tim? Fish, amphibian, reptile, bird, or mammal\n",
        "- __regression__: real-valued labels. Examples: price of Bitcoin, tomorrow's temperature, etc.\n",
        "- __supervised learning__: data has labels, goal is to predict the labels of new instance. \n",
        "- __unsupervised learning__: data does not have a label, the goal is to analyze/cluster the examples. \n",
        "- __other issues__: missing data, sequential data, outlier anomaly detetion, and many more. "
      ]
    },
    {
      "cell_type": "markdown",
      "metadata": {
        "id": "yK6DXYLchkay"
      },
      "source": [
        "## 🚨 Terminology Alert 🚨\n",
        "Each row in the table represents a __training example__, a previously-seen, known instance of the thing we are trying to model. \n",
        "\n",
        "Each column in the table represents a __feature__, some attribute or variable that each training example has a value for. \n",
        "\n",
        "__Target variable__: the 'feature' we will try to predict(e.g. species)--it's value is unkonwn for any new cases not in the training data.\n",
        "\n",
        "__Predictor variables__: (or just predictors), the features that will be used to make predictions of the target variable. (e.g. `sepal length`, `petal length`, `sepal width`, `petal width`"
      ]
    },
    {
      "cell_type": "markdown",
      "metadata": {
        "id": "r2vXsshWhkay"
      },
      "source": [
        "__k-Nearest-Neighbor Algorihm__: Predict the _most commonly appearing_ class among the __k__ closest training examples."
      ]
    },
    {
      "cell_type": "markdown",
      "metadata": {
        "id": "0lzc9xTnhkaz"
      },
      "source": [
        "## 3-Nearest-Neighbor Algorithm\n",
        "\n",
        "> Wait... why did we skip 2-NN?\n",
        "\n",
        "### What will a 3NN algorithm predict?\n",
        "\n",
        "<div>\n",
        "<img src=\"https://github.com/merriekay/j23_cs167_notes/blob/main/images/day03_3NN_iris.png?raw=1\" width=450/>\n",
        "</div>"
      ]
    },
    {
      "cell_type": "markdown",
      "metadata": {
        "id": "hB_Oc5Wuhkaz"
      },
      "source": [
        "# Remember our kNN function?"
      ]
    },
    {
      "cell_type": "code",
      "execution_count": 44,
      "metadata": {
        "id": "GX9LL6O2hkaz"
      },
      "outputs": [],
      "source": [
        "def kNN(specimen, data, k):\n",
        "    # write your code in here to make this function work\n",
        "    # 1. calculate distances\n",
        "    data['distance_to_new'] = np.sqrt(\n",
        "    (specimen['petal length'] - data['petal length'])**2 \n",
        "    +(specimen['sepal length'] - data['sepal length'])**2 \n",
        "    +(specimen['petal width'] - data['petal width'])**2\n",
        "    +(specimen['sepal width'] - data['sepal width'])**2)\n",
        "\n",
        "    # 2. sort\n",
        "    data.sort_values(['distance_to_new'], inplace=True)\n",
        "    \n",
        "    # 3. predict\n",
        "    prediction = data.iloc[0:k]['species'].mode()\n",
        "\n",
        "    return prediction[0] # if you just want name return prediction[0]"
      ]
    },
    {
      "cell_type": "code",
      "execution_count": 45,
      "metadata": {
        "id": "luneVHFxhkaz",
        "outputId": "332baaa7-63be-47dc-fb26-a72404ad1394",
        "colab": {
          "base_uri": "https://localhost:8080/",
          "height": 35
        }
      },
      "outputs": [
        {
          "output_type": "execute_result",
          "data": {
            "text/plain": [
              "'Iris-versicolor'"
            ],
            "application/vnd.google.colaboratory.intrinsic+json": {
              "type": "string"
            }
          },
          "metadata": {},
          "execution_count": 45
        }
      ],
      "source": [
        "new_iris = {}\n",
        "new_iris['petal length'] = 5.1\n",
        "new_iris['sepal length'] = 7.2\n",
        "new_iris['petal width'] = 1.5\n",
        "new_iris['sepal width'] = 2.5\n",
        "\n",
        "kNN(new_iris, iris, 15)"
      ]
    },
    {
      "cell_type": "markdown",
      "metadata": {
        "id": "q51oPVxwhka0"
      },
      "source": [
        "## kNN for Regression?\n",
        "\n",
        "The only thing we need to change if our target variable is a real-valued number (continuous) is that rather than taking the `mode()` of the __k__ closest neighbors, we will take the `mean()` of the k closest neighbors."
      ]
    },
    {
      "cell_type": "markdown",
      "metadata": {
        "id": "v9I0COxQhka0"
      },
      "source": [
        "# ✨ New Material"
      ]
    },
    {
      "cell_type": "markdown",
      "metadata": {
        "id": "wEPo8Gochka0"
      },
      "source": [
        "## Are all neighbors created equal?\n",
        "\n",
        "The way we've learned kNN so far, each neighbor gets an equal vote in the decision of what to predict.\n",
        "\n",
        "Do we see any problems with this? If so, what?"
      ]
    },
    {
      "cell_type": "markdown",
      "metadata": {
        "id": "Bp2KFRuVhka0"
      },
      "source": [
        "<div>\n",
        "<img src=\"https://github.com/merriekay/j23_cs167_notes/blob/main/images/day04_wknn_motivation.png?raw=1\" width = 500/>\n",
        "</div>"
      ]
    },
    {
      "cell_type": "markdown",
      "metadata": {
        "id": "CRV_DDvxhka0"
      },
      "source": [
        "Should neighbors that are closer to the new instance get a larger share of the vote?"
      ]
    },
    {
      "cell_type": "markdown",
      "metadata": {
        "id": "W0ztSL2Ehka1"
      },
      "source": [
        "# Weighted k-NNN Intuition:\n",
        "\n",
        "In weighted kNN, the nearest k points are given a weight, and the weights are grouped by the target variable. The class with the largest sum of weights will be the class that is predicted. \n",
        "\n",
        "The intuition is to give more weight to the points that are nearby and less weight to the points that are farther away.\n",
        "- distance-weighted voting"
      ]
    },
    {
      "cell_type": "markdown",
      "metadata": {
        "id": "LTqnfCn2hka1"
      },
      "source": [
        "In w-kNN, we want to predict the target variable with the most weight, where the weight is defined by the inverse distance function.\n",
        "\n",
        "## $w_{q,i} = \\frac{1}{d(x_q, x_i)^2}$\n",
        "\n",
        "> In English, you can read that as the __weight__ of a traning example is equal to 1 divided by the distance between the new instance and the traning example squared."
      ]
    },
    {
      "cell_type": "markdown",
      "metadata": {
        "id": "bCWZhD2Ihka1"
      },
      "source": [
        "## A w-kNN Example: Step 1\n",
        "\n",
        "Start by calculating the distance between the new example ('X'), and each of the other training examples:\n",
        "\n",
        "<div>\n",
        "<img src=\"https://github.com/merriekay/j23_cs167_notes/blob/main/images/day04_wknn_ex.png?raw=1\"/>\n",
        "</div>"
      ]
    },
    {
      "cell_type": "markdown",
      "metadata": {
        "id": "ZjUFe0VKhka1"
      },
      "source": [
        "## A w-kNN Example: Step 2\n",
        "\n",
        "Then, __calculate the weight___ of each training example using the inverse distance squared.\n",
        "\n",
        "<div>\n",
        "<img src=\"https://github.com/merriekay/j23_cs167_notes/blob/main/images/day04_wknn_ex1.png?raw=1\"/>\n",
        "</div>"
      ]
    },
    {
      "cell_type": "markdown",
      "metadata": {
        "id": "lA0frxqVhka1"
      },
      "source": [
        "## A w-kNN Example: Step 3\n",
        "\n",
        "Find the k closest neighbors--let's assume `k=3` for this example: \n",
        "<div>\n",
        "<img src=\"https://github.com/merriekay/j23_cs167_notes/blob/main/images/day04_wknn_ex2.png?raw=1\"/>\n",
        "</div>"
      ]
    },
    {
      "cell_type": "markdown",
      "metadata": {
        "id": "EKCCJRd7hka1"
      },
      "source": [
        "Then, sum the weights for each possible class: \n",
        "- __orange__: $1$\n",
        "- __blue__: $1/16 + 1/9 = 0.115$\n",
        "\n",
        "### What would a __normal 3NN__ predict? Weighted 3NN?"
      ]
    },
    {
      "cell_type": "markdown",
      "metadata": {
        "id": "s_VxmLj8hka1"
      },
      "source": [
        "## Let's write some code: \n",
        "\n",
        "Write a new function `weighted_kNN()`\n",
        "\n",
        "Pass the iris measurements (specimen), data frame, and k as parameters and return the precited class."
      ]
    },
    {
      "cell_type": "code",
      "execution_count": 43,
      "metadata": {
        "id": "JjMhK354hka2",
        "colab": {
          "base_uri": "https://localhost:8080/",
          "height": 35
        },
        "outputId": "1a9eb21b-02a9-4e6e-91bd-b34e2e7287cc"
      },
      "outputs": [
        {
          "output_type": "execute_result",
          "data": {
            "text/plain": [
              "'Iris-versicolor'"
            ],
            "application/vnd.google.colaboratory.intrinsic+json": {
              "type": "string"
            }
          },
          "metadata": {},
          "execution_count": 43
        }
      ],
      "source": [
        "def w_knn(specimen, data, k):\n",
        "    #calculate the distance\n",
        "    data['distance_to_new'] = np.sqrt(\n",
        "    (specimen['petal length'] - data['petal length'])**2 \n",
        "    +(specimen['sepal length'] - data['sepal length'])**2 \n",
        "    +(specimen['petal width'] - data['petal width'])**2\n",
        "    +(specimen['sepal width'] - data['sepal width'])**2)\n",
        "\n",
        "    # calculate the weights (remember, weights are 1/d^2)\n",
        "    data['weight'] = 1/(data['distance_to_new']**2)\n",
        "    \n",
        "    # find the k closest neighbors\n",
        "    data.sort_values(['distance_to_new'], inplace=True)\n",
        "    nn = data.iloc[0:k]\n",
        "    \n",
        "    # use groupby to sum the weights of each species in the closest k \n",
        "    # groupby([each species])[weights].sum()\n",
        "    results = nn.groupby(['species'])['weight'].sum()\n",
        "    # print(results)\n",
        "\n",
        "    # results = nn.groupby(['species]).weight.sum()\n",
        "    \n",
        "    #return the class that has the largest sum of weight.\n",
        "    idx = results.idxmax()\n",
        "    return results.idxmax()# , results.iloc[0]\n",
        "\n",
        "w_knn(new_iris, iris, 15)\n"
      ]
    },
    {
      "cell_type": "markdown",
      "source": [
        "`species`\n",
        "\n",
        "`Iris-versicolor    13.059271`\n",
        "\n",
        "`Iris-virginica      7.992415`\n",
        "\n",
        "`Name: weight, dtype: float64`\n",
        "\n",
        "This is a series where the species are the labels, no weight columns, so you don't index into the weight columns"
      ],
      "metadata": {
        "id": "ZtzmOs_dx8ms"
      }
    },
    {
      "cell_type": "code",
      "execution_count": 33,
      "metadata": {
        "id": "MFDS7PyVhka2",
        "colab": {
          "base_uri": "https://localhost:8080/"
        },
        "outputId": "c075a600-b772-4bfe-a36b-b40220c0804e"
      },
      "outputs": [
        {
          "output_type": "execute_result",
          "data": {
            "text/plain": [
              "0    Iris-versicolor\n",
              "dtype: object"
            ]
          },
          "metadata": {},
          "execution_count": 33
        }
      ],
      "source": [
        "new_iris = {}\n",
        "new_iris['petal length'] = 5.1\n",
        "new_iris['sepal length'] = 7.2\n",
        "new_iris['petal width'] = 1.5\n",
        "new_iris['sepal width'] = 2.5\n",
        "\n",
        "kNN(new_iris, iris, 15)\n",
        "\n",
        "#new_iris['petal length']"
      ]
    },
    {
      "cell_type": "markdown",
      "metadata": {
        "id": "TeXL8MsLhka2"
      },
      "source": [
        "## Exercises:\n",
        "\n",
        "Normalize each of the predictor columns in the iris dataset\n",
        "\n",
        ">__Note__: you need a way to transform the new reading (the specimen) that you will make the prediction on so that the new one and the training data will all be on the same scale. How can you do that?\n",
        "\n",
        "Repeat your k-NN prediction code for the normalized data.\n",
        "- Does the value of k change the predictions? \n",
        "    - compare using `k=3`, and `k=5` on each method (normalized and non-normalized), (weighted and unweighted)"
      ]
    },
    {
      "cell_type": "markdown",
      "metadata": {
        "id": "5QMr67Fkhka2"
      },
      "source": [
        "## Use these tables to keep track of your predictions:\n",
        "### `k=3`\n",
        "|                    | **not normalized** | **normalized** |\n",
        "|--------------------|--------------------|----------------|\n",
        "| **unweighted kNN** |  'versicolor'      |  'virginica'   |\n",
        "| **weighted kNN**   |  'versicolor'      |  'virginica'   |\n",
        "\n",
        "## `k=5`\n",
        "\n",
        "|                    | **not normalized** | **normalized** |\n",
        "|--------------------|--------------------|----------------|\n",
        "| **unweighted kNN** |     'versicolor'   |'versicolor'    |\n",
        "| **weighted kNN**   |    'versicolor'    | 'versicolor'   |"
      ]
    },
    {
      "cell_type": "code",
      "source": [
        "test_iris_norm = {}\n",
        "test_iris_norm['petal length'] = (new_iris['petal length'] - iris['petal length'].mean())/iris['petal length'].std()\n",
        "test_iris_norm['sepal length'] = (new_iris['sepal length'] - iris['sepal length'].mean())/iris['sepal length'].std()\n",
        "test_iris_norm['petal width'] = (new_iris['petal width'] - iris['petal width'].mean())/iris['petal width'].std()\n",
        "test_iris_norm['sepal width'] = (new_iris['sepal width'] - iris['sepal width'].mean())/iris['sepal width'].std()\n",
        "\n",
        "print(w_knn(new_iris, iris, 5))\n",
        "print(w_knn(test_iris_norm, iris_norm, 5))\n",
        "\n",
        "print(kNN(new_iris, iris, 5))\n",
        "print(kNN(test_iris_norm, iris_norm, 5))"
      ],
      "metadata": {
        "colab": {
          "base_uri": "https://localhost:8080/"
        },
        "id": "PpISIlu3vutj",
        "outputId": "e679f7a3-da99-4601-eca4-85b14e8c30d4"
      },
      "execution_count": 48,
      "outputs": [
        {
          "output_type": "stream",
          "name": "stdout",
          "text": [
            "Iris-versicolor\n",
            "Iris-versicolor\n",
            "Iris-versicolor\n",
            "Iris-versicolor\n"
          ]
        }
      ]
    },
    {
      "cell_type": "markdown",
      "metadata": {
        "id": "FmzzIhvqhka2"
      },
      "source": [
        "# 💬 Discussion Question\n",
        "\n",
        "Should we __always__ normalize our data? Why or why not?\n",
        "\n",
        "When does it make sense to normalize? When might it make more sense not to?"
      ]
    },
    {
      "cell_type": "code",
      "execution_count": null,
      "metadata": {
        "id": "pt4uQLVQhka2"
      },
      "outputs": [],
      "source": []
    }
  ],
  "metadata": {
    "celltoolbar": "Slideshow",
    "kernelspec": {
      "display_name": "Python 3",
      "language": "python",
      "name": "python3"
    },
    "language_info": {
      "codemirror_mode": {
        "name": "ipython",
        "version": 3
      },
      "file_extension": ".py",
      "mimetype": "text/x-python",
      "name": "python",
      "nbconvert_exporter": "python",
      "pygments_lexer": "ipython3",
      "version": "3.8.3"
    },
    "colab": {
      "provenance": [],
      "include_colab_link": true
    }
  },
  "nbformat": 4,
  "nbformat_minor": 0
}