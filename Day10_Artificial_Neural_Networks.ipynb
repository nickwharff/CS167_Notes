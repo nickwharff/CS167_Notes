{
  "nbformat": 4,
  "nbformat_minor": 0,
  "metadata": {
    "colab": {
      "provenance": [],
      "include_colab_link": true
    },
    "kernelspec": {
      "name": "python3",
      "display_name": "Python 3"
    },
    "language_info": {
      "name": "python"
    },
    "accelerator": "GPU",
    "gpuClass": "standard"
  },
  "cells": [
    {
      "cell_type": "markdown",
      "metadata": {
        "id": "view-in-github",
        "colab_type": "text"
      },
      "source": [
        "<a href=\"https://colab.research.google.com/github/nickwharff/CS167_Notes/blob/main/Day10_Artificial_Neural_Networks.ipynb\" target=\"_parent\"><img src=\"https://colab.research.google.com/assets/colab-badge.svg\" alt=\"Open In Colab\"/></a>"
      ]
    },
    {
      "cell_type": "markdown",
      "source": [
        "# Day10 Artificial Neural Networks\n",
        "\n",
        "We're going to start off by using sklearn MLP to implement a multilayer perceptron, and then we're going to use a deep learning framework, Tensorflow with Keras to build a neural network.\n",
        "\n",
        "__Documentation__: \n",
        "- [`sklearn.neural_network.MLPClassifier()`](https://scikit-learn.org/stable/modules/generated/sklearn.neural_network.MLPClassifier.html#sklearn.neural_network.MLPClassifier)\n",
        "- [`sklearn.neural_network.MLPRegressor()`](https://scikit-learn.org/stable/modules/generated/sklearn.neural_network.MLPRegressor.html#sklearn.neural_network.MLPRegressor)"
      ],
      "metadata": {
        "id": "3AOXKHiAmVLd"
      }
    },
    {
      "cell_type": "markdown",
      "source": [
        "## Data Preparation\n",
        "- Mount Drive\n",
        "- Load in `irisData.csv`\n",
        "- use `train_test_split` to split data \n",
        "- normalize using `slkearn.preprocessing.StandardScaler`"
      ],
      "metadata": {
        "id": "WdrdO_Q8m-od"
      }
    },
    {
      "cell_type": "code",
      "execution_count": null,
      "metadata": {
        "colab": {
          "base_uri": "https://localhost:8080/"
        },
        "id": "S4W-mCCqmFNl",
        "outputId": "792e97a7-3084-4a91-94a5-c591d8df3d40"
      },
      "outputs": [
        {
          "output_type": "stream",
          "name": "stdout",
          "text": [
            "Mounted at /content/drive\n"
          ]
        }
      ],
      "source": [
        "from google.colab import drive\n",
        "import pandas\n",
        "drive.mount('/content/drive')"
      ]
    },
    {
      "cell_type": "code",
      "source": [
        "data = pandas.read_csv('/content/drive/MyDrive/CS167/datasets/irisData.csv')\n",
        "data.head()"
      ],
      "metadata": {
        "colab": {
          "base_uri": "https://localhost:8080/",
          "height": 206
        },
        "id": "fVh_OIQ4mPd_",
        "outputId": "de2fa703-8ca3-43f5-e20a-e187210b5c65"
      },
      "execution_count": null,
      "outputs": [
        {
          "output_type": "execute_result",
          "data": {
            "text/plain": [
              "   sepal length  sepal width  petal length  petal width      species\n",
              "0           5.1          3.5           1.4          0.2  Iris-setosa\n",
              "1           4.9          3.0           1.4          0.2  Iris-setosa\n",
              "2           4.7          3.2           1.3          0.2  Iris-setosa\n",
              "3           4.6          3.1           1.5          0.2  Iris-setosa\n",
              "4           5.0          3.6           1.4          0.2  Iris-setosa"
            ],
            "text/html": [
              "\n",
              "  <div id=\"df-8d293568-262e-4624-8d61-57f3b83d5631\">\n",
              "    <div class=\"colab-df-container\">\n",
              "      <div>\n",
              "<style scoped>\n",
              "    .dataframe tbody tr th:only-of-type {\n",
              "        vertical-align: middle;\n",
              "    }\n",
              "\n",
              "    .dataframe tbody tr th {\n",
              "        vertical-align: top;\n",
              "    }\n",
              "\n",
              "    .dataframe thead th {\n",
              "        text-align: right;\n",
              "    }\n",
              "</style>\n",
              "<table border=\"1\" class=\"dataframe\">\n",
              "  <thead>\n",
              "    <tr style=\"text-align: right;\">\n",
              "      <th></th>\n",
              "      <th>sepal length</th>\n",
              "      <th>sepal width</th>\n",
              "      <th>petal length</th>\n",
              "      <th>petal width</th>\n",
              "      <th>species</th>\n",
              "    </tr>\n",
              "  </thead>\n",
              "  <tbody>\n",
              "    <tr>\n",
              "      <th>0</th>\n",
              "      <td>5.1</td>\n",
              "      <td>3.5</td>\n",
              "      <td>1.4</td>\n",
              "      <td>0.2</td>\n",
              "      <td>Iris-setosa</td>\n",
              "    </tr>\n",
              "    <tr>\n",
              "      <th>1</th>\n",
              "      <td>4.9</td>\n",
              "      <td>3.0</td>\n",
              "      <td>1.4</td>\n",
              "      <td>0.2</td>\n",
              "      <td>Iris-setosa</td>\n",
              "    </tr>\n",
              "    <tr>\n",
              "      <th>2</th>\n",
              "      <td>4.7</td>\n",
              "      <td>3.2</td>\n",
              "      <td>1.3</td>\n",
              "      <td>0.2</td>\n",
              "      <td>Iris-setosa</td>\n",
              "    </tr>\n",
              "    <tr>\n",
              "      <th>3</th>\n",
              "      <td>4.6</td>\n",
              "      <td>3.1</td>\n",
              "      <td>1.5</td>\n",
              "      <td>0.2</td>\n",
              "      <td>Iris-setosa</td>\n",
              "    </tr>\n",
              "    <tr>\n",
              "      <th>4</th>\n",
              "      <td>5.0</td>\n",
              "      <td>3.6</td>\n",
              "      <td>1.4</td>\n",
              "      <td>0.2</td>\n",
              "      <td>Iris-setosa</td>\n",
              "    </tr>\n",
              "  </tbody>\n",
              "</table>\n",
              "</div>\n",
              "      <button class=\"colab-df-convert\" onclick=\"convertToInteractive('df-8d293568-262e-4624-8d61-57f3b83d5631')\"\n",
              "              title=\"Convert this dataframe to an interactive table.\"\n",
              "              style=\"display:none;\">\n",
              "        \n",
              "  <svg xmlns=\"http://www.w3.org/2000/svg\" height=\"24px\"viewBox=\"0 0 24 24\"\n",
              "       width=\"24px\">\n",
              "    <path d=\"M0 0h24v24H0V0z\" fill=\"none\"/>\n",
              "    <path d=\"M18.56 5.44l.94 2.06.94-2.06 2.06-.94-2.06-.94-.94-2.06-.94 2.06-2.06.94zm-11 1L8.5 8.5l.94-2.06 2.06-.94-2.06-.94L8.5 2.5l-.94 2.06-2.06.94zm10 10l.94 2.06.94-2.06 2.06-.94-2.06-.94-.94-2.06-.94 2.06-2.06.94z\"/><path d=\"M17.41 7.96l-1.37-1.37c-.4-.4-.92-.59-1.43-.59-.52 0-1.04.2-1.43.59L10.3 9.45l-7.72 7.72c-.78.78-.78 2.05 0 2.83L4 21.41c.39.39.9.59 1.41.59.51 0 1.02-.2 1.41-.59l7.78-7.78 2.81-2.81c.8-.78.8-2.07 0-2.86zM5.41 20L4 18.59l7.72-7.72 1.47 1.35L5.41 20z\"/>\n",
              "  </svg>\n",
              "      </button>\n",
              "      \n",
              "  <style>\n",
              "    .colab-df-container {\n",
              "      display:flex;\n",
              "      flex-wrap:wrap;\n",
              "      gap: 12px;\n",
              "    }\n",
              "\n",
              "    .colab-df-convert {\n",
              "      background-color: #E8F0FE;\n",
              "      border: none;\n",
              "      border-radius: 50%;\n",
              "      cursor: pointer;\n",
              "      display: none;\n",
              "      fill: #1967D2;\n",
              "      height: 32px;\n",
              "      padding: 0 0 0 0;\n",
              "      width: 32px;\n",
              "    }\n",
              "\n",
              "    .colab-df-convert:hover {\n",
              "      background-color: #E2EBFA;\n",
              "      box-shadow: 0px 1px 2px rgba(60, 64, 67, 0.3), 0px 1px 3px 1px rgba(60, 64, 67, 0.15);\n",
              "      fill: #174EA6;\n",
              "    }\n",
              "\n",
              "    [theme=dark] .colab-df-convert {\n",
              "      background-color: #3B4455;\n",
              "      fill: #D2E3FC;\n",
              "    }\n",
              "\n",
              "    [theme=dark] .colab-df-convert:hover {\n",
              "      background-color: #434B5C;\n",
              "      box-shadow: 0px 1px 3px 1px rgba(0, 0, 0, 0.15);\n",
              "      filter: drop-shadow(0px 1px 2px rgba(0, 0, 0, 0.3));\n",
              "      fill: #FFFFFF;\n",
              "    }\n",
              "  </style>\n",
              "\n",
              "      <script>\n",
              "        const buttonEl =\n",
              "          document.querySelector('#df-8d293568-262e-4624-8d61-57f3b83d5631 button.colab-df-convert');\n",
              "        buttonEl.style.display =\n",
              "          google.colab.kernel.accessAllowed ? 'block' : 'none';\n",
              "\n",
              "        async function convertToInteractive(key) {\n",
              "          const element = document.querySelector('#df-8d293568-262e-4624-8d61-57f3b83d5631');\n",
              "          const dataTable =\n",
              "            await google.colab.kernel.invokeFunction('convertToInteractive',\n",
              "                                                     [key], {});\n",
              "          if (!dataTable) return;\n",
              "\n",
              "          const docLinkHtml = 'Like what you see? Visit the ' +\n",
              "            '<a target=\"_blank\" href=https://colab.research.google.com/notebooks/data_table.ipynb>data table notebook</a>'\n",
              "            + ' to learn more about interactive tables.';\n",
              "          element.innerHTML = '';\n",
              "          dataTable['output_type'] = 'display_data';\n",
              "          await google.colab.output.renderOutput(dataTable, element);\n",
              "          const docLink = document.createElement('div');\n",
              "          docLink.innerHTML = docLinkHtml;\n",
              "          element.appendChild(docLink);\n",
              "        }\n",
              "      </script>\n",
              "    </div>\n",
              "  </div>\n",
              "  "
            ]
          },
          "metadata": {},
          "execution_count": 2
        }
      ]
    },
    {
      "cell_type": "code",
      "source": [
        "import pandas\n",
        "import numpy\n",
        "from sklearn.model_selection import train_test_split\n",
        "\n",
        "#Split the dataset\n",
        "predictors = data.columns.drop('species')\n",
        "target = \"species\"\n",
        "train_data, test_data, train_sln, test_sln = train_test_split(data[predictors], data[target], test_size = 0.2, random_state=41)\n",
        "\n",
        "#Normalize Data\n",
        "from sklearn.preprocessing import StandardScaler\n",
        "scaler = StandardScaler()\n",
        "scaler.fit(train_data)\n",
        "train_data_norm = scaler.transform(train_data)\n",
        "test_data_norm = scaler.transform(test_data)"
      ],
      "metadata": {
        "id": "HXoWH_gsm5xu"
      },
      "execution_count": null,
      "outputs": []
    },
    {
      "cell_type": "markdown",
      "source": [
        "## Build a MLP using `sklearn`"
      ],
      "metadata": {
        "id": "_0-LG-vRnTWA"
      }
    },
    {
      "cell_type": "code",
      "source": [
        "# Set up MLP\n",
        "from sklearn.neural_network import MLPClassifier\n",
        "from sklearn import metrics\n",
        "from sklearn.metrics import confusion_matrix, ConfusionMatrixDisplay\n",
        "import matplotlib.pyplot as plt\n",
        "\n",
        "mlp = MLPClassifier(random_state=0,hidden_layer_sizes = (100,), max_iter = 800)\n",
        "mlp.fit(train_data_norm,train_sln)\n",
        "predictions = mlp.predict(test_data_norm)\n",
        "\n",
        "print(\"Accuracy: \", metrics.accuracy_score(test_sln,predictions))\n",
        "\n",
        "# Confusion Matrix\n",
        "vals = data[target].unique() ## possible classification values (species)\n",
        "conf_mat = metrics.confusion_matrix(test_sln, predictions, labels=vals)\n",
        "\n",
        "#print(pandas.DataFrame(conf_mat, index = \"True \" + vals, columns = \"Pre \" + vals))\n",
        "\n",
        "disp = ConfusionMatrixDisplay(confusion_matrix=conf_mat,display_labels=mlp.classes_)\n",
        "disp.plot()\n",
        "plt.show()"
      ],
      "metadata": {
        "colab": {
          "base_uri": "https://localhost:8080/",
          "height": 301
        },
        "id": "TitomiUrm7a8",
        "outputId": "b64bc1d7-5232-4527-9583-61f449dbc531"
      },
      "execution_count": null,
      "outputs": [
        {
          "output_type": "stream",
          "name": "stdout",
          "text": [
            "Accuracy:  0.9\n"
          ]
        },
        {
          "output_type": "display_data",
          "data": {
            "text/plain": [
              "<Figure size 432x288 with 2 Axes>"
            ],
            "image/png": "[encoded data removed]"
          },
          "metadata": {
            "needs_background": "light"
          }
        }
      ]
    },
    {
      "cell_type": "markdown",
      "source": [
        "## In-Class Exercise #1:\n",
        "\n",
        "1. Read in the Boston Housing dataset\n",
        "2. Normalize your data\n",
        "3. Use a [MLPRegressor](https://scikit-learn.org/stable/modules/generated/sklearn.neural_network.MLPRegressor.html) to predict the price of a house 'MEDV'\n",
        "4. Play around with changing the parameters, see what the best R2 score you can get is. "
      ],
      "metadata": {
        "id": "XU6W48v3n6a5"
      }
    },
    {
      "cell_type": "code",
      "source": [
        "# Your code goes here for the In-Class Exercise\n",
        "# 1. Read in the Boston Housing dataset\n",
        "import pandas\n",
        "housing_data = pandas.read_csv('/content/drive/MyDrive/CS167/datasets/boston_housing.csv') \n",
        "\n",
        "# clean the data\n",
        "housing_data['CRIM'].fillna(housing_data['CRIM'].mean(),inplace=True)\n",
        "housing_data['ZN'].fillna(housing_data['ZN'].mean(),inplace=True)\n",
        "housing_data['INDUS'].fillna(housing_data['INDUS'].mean(),inplace=True)\n",
        "housing_data['CHAS'].fillna(housing_data['CHAS'].mean(),inplace=True)\n",
        "housing_data['AGE'].fillna(housing_data['AGE'].mean(),inplace=True)\n",
        "housing_data['LSTAT'].fillna(housing_data['LSTAT'].mean(),inplace=True)\n",
        "\n",
        "#Split the dataset\n",
        "predictors = housing_data.columns.drop('MEDV')\n",
        "target = \"MEDV\"\n",
        "train_data, test_data, train_sln, test_sln = train_test_split(housing_data[predictors], housing_data[target], test_size = 0.2, random_state=0)\n"
      ],
      "metadata": {
        "id": "mwjR4p5OnZw2"
      },
      "execution_count": null,
      "outputs": []
    },
    {
      "cell_type": "code",
      "source": [
        "#2. Normalize the data\n",
        "from sklearn.preprocessing import StandardScaler\n"
      ],
      "metadata": {
        "id": "9oRUdXmOoDw5"
      },
      "execution_count": null,
      "outputs": []
    },
    {
      "cell_type": "code",
      "source": [
        "#3. Use a MLPRegressor to predict the price of a house 'MEDV'\n",
        "from sklearn.neural_network import MLPRegressor\n",
        "from sklearn import metrics\n",
        "\n"
      ],
      "metadata": {
        "id": "y--pDP_LoJES"
      },
      "execution_count": null,
      "outputs": []
    },
    {
      "cell_type": "code",
      "source": [
        "#4. Play around with the parameters"
      ],
      "metadata": {
        "id": "VzJjXtUKoVsy"
      },
      "execution_count": null,
      "outputs": []
    },
    {
      "cell_type": "markdown",
      "source": [
        "# Introducing Deep Learning Frameworks\n",
        "\n",
        "Go ahead and go up to 'Runtime', and select 'change runtime type' from the dropdown list, select 'GPU'. If you complete this step correctly, the following code should say `Found GPU at: /device:GPU:0` or something similar."
      ],
      "metadata": {
        "id": "BnifibodoYy4"
      }
    },
    {
      "cell_type": "code",
      "source": [
        "import tensorflow as tf\n",
        "device_name = tf.test.gpu_device_name()\n",
        "if device_name != '/device:GPU:0':\n",
        "  raise SystemError('GPU device not found')\n",
        "print('Found GPU at: {}'.format(device_name))"
      ],
      "metadata": {
        "colab": {
          "base_uri": "https://localhost:8080/"
        },
        "id": "VPr2BFJjoXHP",
        "outputId": "2c20f8a8-d6ed-414b-d9a6-d67096c5db49"
      },
      "execution_count": null,
      "outputs": [
        {
          "output_type": "stream",
          "name": "stdout",
          "text": [
            "Found GPU at: /device:GPU:0\n"
          ]
        }
      ]
    },
    {
      "cell_type": "markdown",
      "source": [
        "# Iris Dataset with Keras"
      ],
      "metadata": {
        "id": "j2hk43HFohZi"
      }
    },
    {
      "cell_type": "code",
      "source": [
        "import warnings\n",
        "warnings.simplefilter(action='ignore', category=FutureWarning)\n",
        "warnings.simplefilter(action='ignore', category=DeprecationWarning)\n",
        "\n",
        "from keras.models import Sequential\n",
        "from keras.layers import Dense\n",
        "\n",
        "from sklearn.datasets import load_iris\n",
        "from sklearn.model_selection import train_test_split\n",
        "from sklearn.preprocessing import OneHotEncoder, StandardScaler\n",
        "import numpy\n",
        "\n",
        "# we're going to use the iris dataset, but load it from sklearn \n",
        "iris = load_iris()\n",
        "X = iris['data']\n",
        "y = iris['target']\n",
        "names = iris['target_names']\n",
        "feature_names = iris['feature_names']\n",
        "\n",
        "# One hot encoding\n",
        "enc = OneHotEncoder()\n",
        "Y = enc.fit_transform(y[:, numpy.newaxis]).toarray()\n",
        "\n",
        "# Split the data set into training and testing\n",
        "X_train, X_test, Y_train, Y_test = train_test_split(X, Y, test_size=0.2, random_state=2)\n",
        "\n",
        "#normalize the data\n",
        "scaler = StandardScaler()\n",
        "scaler.fit(X_train)\n",
        "X_train_norm = scaler.transform(X_train)\n",
        "X_test_norm = scaler.transform(X_test)"
      ],
      "metadata": {
        "id": "gdE9zJcxofRT"
      },
      "execution_count": null,
      "outputs": []
    },
    {
      "cell_type": "code",
      "source": [
        "# display a row of data\n",
        "print(X_train_norm[0,:])\n",
        "print(Y_train[0,:])"
      ],
      "metadata": {
        "colab": {
          "base_uri": "https://localhost:8080/"
        },
        "id": "yD2jLOLWomXh",
        "outputId": "92457909-05a3-4d99-a3d6-b05ba25d0507"
      },
      "execution_count": null,
      "outputs": [
        {
          "output_type": "stream",
          "name": "stdout",
          "text": [
            "[ 0.37346331 -0.58519388  0.54075378  0.74234434]\n",
            "[0. 0. 1.]\n"
          ]
        }
      ]
    },
    {
      "cell_type": "code",
      "source": [
        "#build our neural network model\n",
        "n_features = X.shape[1] #X generally stands for our predictors\n",
        "n_classes = Y.shape[1] #Y generally stands for our target\n",
        "\n",
        "model = Sequential(name='iris_1')\n",
        "model.add(Dense(2, input_dim=n_features, activation='relu'))\n",
        "model.add(Dense(2, activation='relu'))\n",
        "model.add(Dense(n_classes, activation='softmax'))\n",
        "\n",
        "from sklearn.metrics import r2_score\n",
        "\n",
        "# Compile model\n",
        "model.compile(loss='mean_squared_error',\n",
        "              optimizer='sgd', \n",
        "              metrics=['accuracy'])\n",
        "model.summary()"
      ],
      "metadata": {
        "colab": {
          "base_uri": "https://localhost:8080/"
        },
        "id": "SV_iL0VropGm",
        "outputId": "027846bd-d5d0-425d-d49a-2a4516f973e7"
      },
      "execution_count": null,
      "outputs": [
        {
          "output_type": "stream",
          "name": "stdout",
          "text": [
            "Model: \"iris_1\"\n",
            "_________________________________________________________________\n",
            " Layer (type)                Output Shape              Param #   \n",
            "=================================================================\n",
            " dense_21 (Dense)            (None, 2)                 10        \n",
            "                                                                 \n",
            " dense_22 (Dense)            (None, 2)                 6         \n",
            "                                                                 \n",
            " dense_23 (Dense)            (None, 3)                 9         \n",
            "                                                                 \n",
            "=================================================================\n",
            "Total params: 25\n",
            "Trainable params: 25\n",
            "Non-trainable params: 0\n",
            "_________________________________________________________________\n"
          ]
        }
      ]
    },
    {
      "cell_type": "markdown",
      "source": [
        "## Keras Documentation: \n",
        "https://keras.io/api/models/model_training_apis/ "
      ],
      "metadata": {
        "id": "yrfvgXS8ouMC"
      }
    },
    {
      "cell_type": "code",
      "source": [
        "# train the model\n",
        "history = model.fit(X_train_norm, Y_train, validation_split=0.2, batch_size=15, epochs=10) #add verbose = 0 to make output minimal\n",
        "\n",
        "# cross-validation; make predictions and get error\n",
        "print(\"----\"*30)\n",
        "mse, acc =  model.evaluate(X_test_norm, Y_test)\n",
        "print('Mean Squared Error:',mse)\n",
        "print('Test accuracy:', acc)"
      ],
      "metadata": {
        "colab": {
          "base_uri": "https://localhost:8080/"
        },
        "id": "mHAWFcvYorNP",
        "outputId": "0cf67b4e-3a69-47fb-ff8c-d7f64e7829cb"
      },
      "execution_count": null,
      "outputs": [
        {
          "output_type": "stream",
          "name": "stdout",
          "text": [
            "Epoch 1/10\n",
            "7/7 [==============================] - 0s 17ms/step - loss: 0.2100 - accuracy: 0.5833 - val_loss: 0.1993 - val_accuracy: 0.6250\n",
            "Epoch 2/10\n",
            "7/7 [==============================] - 0s 12ms/step - loss: 0.2097 - accuracy: 0.5833 - val_loss: 0.1989 - val_accuracy: 0.6250\n",
            "Epoch 3/10\n",
            "7/7 [==============================] - 0s 9ms/step - loss: 0.2094 - accuracy: 0.5938 - val_loss: 0.1984 - val_accuracy: 0.6250\n",
            "Epoch 4/10\n",
            "7/7 [==============================] - 0s 8ms/step - loss: 0.2091 - accuracy: 0.5938 - val_loss: 0.1978 - val_accuracy: 0.6250\n",
            "Epoch 5/10\n",
            "7/7 [==============================] - 0s 10ms/step - loss: 0.2087 - accuracy: 0.5938 - val_loss: 0.1973 - val_accuracy: 0.6250\n",
            "Epoch 6/10\n",
            "7/7 [==============================] - 0s 8ms/step - loss: 0.2084 - accuracy: 0.5938 - val_loss: 0.1968 - val_accuracy: 0.6250\n",
            "Epoch 7/10\n",
            "7/7 [==============================] - 0s 11ms/step - loss: 0.2081 - accuracy: 0.6042 - val_loss: 0.1962 - val_accuracy: 0.6250\n",
            "Epoch 8/10\n",
            "7/7 [==============================] - 0s 11ms/step - loss: 0.2077 - accuracy: 0.5833 - val_loss: 0.1957 - val_accuracy: 0.6250\n",
            "Epoch 9/10\n",
            "7/7 [==============================] - 0s 8ms/step - loss: 0.2074 - accuracy: 0.5938 - val_loss: 0.1951 - val_accuracy: 0.6250\n",
            "Epoch 10/10\n",
            "7/7 [==============================] - 0s 10ms/step - loss: 0.2070 - accuracy: 0.6042 - val_loss: 0.1946 - val_accuracy: 0.6250\n",
            "------------------------------------------------------------------------------------------------------------------------\n",
            "1/1 [==============================] - 0s 30ms/step - loss: 0.1984 - accuracy: 0.6667\n",
            "Mean Squared Error: 0.19838298857212067\n",
            "Test accuracy: 0.6666666865348816\n"
          ]
        }
      ]
    },
    {
      "cell_type": "markdown",
      "source": [
        "## 👀 Take a closer look: "
      ],
      "metadata": {
        "id": "BpHaTH9gt_01"
      }
    },
    {
      "cell_type": "code",
      "source": [
        "import keras\n",
        "from matplotlib import pyplot as plt\n",
        "plt.plot(history.history['accuracy'])\n",
        "plt.plot(history.history['val_accuracy'])\n",
        "plt.title('model accuracy')\n",
        "plt.ylabel('accuracy')\n",
        "plt.xlabel('epoch')\n",
        "plt.legend(['train', 'val'])\n",
        "plt.show()"
      ],
      "metadata": {
        "colab": {
          "base_uri": "https://localhost:8080/",
          "height": 295
        },
        "id": "VFmdQBRwsJ9k",
        "outputId": "9279a7bf-9dcd-4d20-deb1-bf5b2e3dff78"
      },
      "execution_count": null,
      "outputs": [
        {
          "output_type": "display_data",
          "data": {
            "text/plain": [
              "<Figure size 432x288 with 1 Axes>"
            ],
            "image/png": "[encoded data removed]"
          },
          "metadata": {
            "needs_background": "light"
          }
        }
      ]
    },
    {
      "cell_type": "code",
      "source": [
        "plt.plot(history.history['loss'])\n",
        "plt.plot(history.history['val_loss'])\n",
        "plt.title('model loss')\n",
        "plt.ylabel('loss')\n",
        "plt.xlabel('epoch')\n",
        "plt.legend(['train', 'val'])\n",
        "plt.show()"
      ],
      "metadata": {
        "colab": {
          "base_uri": "https://localhost:8080/",
          "height": 295
        },
        "id": "RkWoCtSZt5B6",
        "outputId": "d404223b-3301-4730-cb1f-323493a027d8"
      },
      "execution_count": null,
      "outputs": [
        {
          "output_type": "display_data",
          "data": {
            "text/plain": [
              "<Figure size 432x288 with 1 Axes>"
            ],
            "image/png": "[encoded data removed]"
          },
          "metadata": {
            "needs_background": "light"
          }
        }
      ]
    },
    {
      "cell_type": "markdown",
      "source": [
        "# Boston Housing Dataset with Keras"
      ],
      "metadata": {
        "id": "iWxhMrpYo6MC"
      }
    },
    {
      "cell_type": "code",
      "source": [
        "from keras.datasets import boston_housing\n",
        "\n",
        "# we're going to use the Bosting housing dataset, but load it from keras \n",
        "housing_data = boston_housing.load_data(test_split=0.2) #it comes with it's own test/train split :) \n",
        "(X_train, Y_train), (X_test, Y_test) = housing_data"
      ],
      "metadata": {
        "id": "mPniBtLFo2Q9"
      },
      "execution_count": null,
      "outputs": []
    },
    {
      "cell_type": "code",
      "source": [
        "# normalize the data\n",
        "scaler = StandardScaler()\n",
        "scaler.fit(X_train)\n",
        "X_train_norm = scaler.transform(X_train)\n",
        "X_test_norm = scaler.transform(X_test)"
      ],
      "metadata": {
        "id": "jzi3HCJ9o9qV"
      },
      "execution_count": null,
      "outputs": []
    },
    {
      "cell_type": "code",
      "source": [
        "### need to execute this to get access to RSquare function\n",
        "!pip install tensorflow_addons"
      ],
      "metadata": {
        "colab": {
          "base_uri": "https://localhost:8080/"
        },
        "id": "DFHGeYbZo_PO",
        "outputId": "5c7a99c7-14d1-4449-9757-cb6b3b37405b"
      },
      "execution_count": null,
      "outputs": [
        {
          "output_type": "stream",
          "name": "stdout",
          "text": [
            "Looking in indexes: https://pypi.org/simple, https://us-python.pkg.dev/colab-wheels/public/simple/\n",
            "Requirement already satisfied: tensorflow_addons in /usr/local/lib/python3.8/dist-packages (0.19.0)\n",
            "Requirement already satisfied: typeguard>=2.7 in /usr/local/lib/python3.8/dist-packages (from tensorflow_addons) (2.7.1)\n",
            "Requirement already satisfied: packaging in /usr/local/lib/python3.8/dist-packages (from tensorflow_addons) (21.3)\n",
            "Requirement already satisfied: pyparsing!=3.0.5,>=2.0.2 in /usr/local/lib/python3.8/dist-packages (from packaging->tensorflow_addons) (3.0.9)\n"
          ]
        }
      ]
    },
    {
      "cell_type": "code",
      "source": [
        "from keras import models\n",
        "from keras import layers\n",
        "\n",
        "from tensorflow_addons.metrics import RSquare\n",
        "\n",
        "#build our model\n",
        "n_features = X_train.shape[1] # get the number of input values for the input layer\n",
        "\n",
        "model = Sequential(name='boston_housing1')   #initialize the model\n",
        "\n",
        "#add some layers. Dense is a fully connected layer\n",
        "model.add(layers.Dense(64, input_dim= n_features, activation='relu'))\n",
        "model.add(layers.Dense(64, activation='relu'))\n",
        "\n",
        "#Since we are doing a regressions, we only want one value as an ouput, so our last layer has a Dense layer with 1 neuron.\n",
        "model.add(layers.Dense(1)) #default activation function is \"linear\"\n",
        "\n",
        "from sklearn.metrics import r2_score\n",
        "# Compile model\n",
        "model.compile(loss='mean_squared_error',\n",
        "              optimizer='sgd', \n",
        "              metrics= RSquare()) #tf.keras.losses.MeanSquaredError()\n",
        "model.summary()"
      ],
      "metadata": {
        "colab": {
          "base_uri": "https://localhost:8080/"
        },
        "id": "CwlPcyl0pA9Q",
        "outputId": "c3952a00-f045-4e81-ca3f-2814dcf117a8"
      },
      "execution_count": null,
      "outputs": [
        {
          "output_type": "stream",
          "name": "stdout",
          "text": [
            "Model: \"boston_housing1\"\n",
            "_________________________________________________________________\n",
            " Layer (type)                Output Shape              Param #   \n",
            "=================================================================\n",
            " dense_36 (Dense)            (None, 64)                896       \n",
            "                                                                 \n",
            " dense_37 (Dense)            (None, 64)                4160      \n",
            "                                                                 \n",
            " dense_38 (Dense)            (None, 1)                 65        \n",
            "                                                                 \n",
            "=================================================================\n",
            "Total params: 5,121\n",
            "Trainable params: 5,121\n",
            "Non-trainable params: 0\n",
            "_________________________________________________________________\n"
          ]
        }
      ]
    },
    {
      "cell_type": "code",
      "source": [
        "# train the model\n",
        "history = model.fit(X_train_norm, Y_train, epochs=50, validation_split=0.1, batch_size=15, verbose=1)\n",
        "\n",
        "print(\"----\"*30)\n",
        "\n",
        "# cross-validation; make predictions and get error\n",
        "test_mse_score, test_r2_score = model.evaluate(X_test_norm, Y_test)\n",
        "print('MSE:', test_mse_score)\n",
        "print('r2:', test_r2_score)"
      ],
      "metadata": {
        "colab": {
          "base_uri": "https://localhost:8080/"
        },
        "id": "5O0CcVhepDnx",
        "outputId": "cf22cf66-1bb6-41ca-844f-95d819324257"
      },
      "execution_count": null,
      "outputs": [
        {
          "output_type": "stream",
          "name": "stdout",
          "text": [
            "Epoch 1/50\n",
            "25/25 [==============================] - 0s 5ms/step - loss: 1.3299 - r_square: 0.9851 - val_loss: 4.0080 - val_r_square: 0.9061\n",
            "Epoch 2/50\n",
            "25/25 [==============================] - 0s 4ms/step - loss: 1.2771 - r_square: 0.9857 - val_loss: 2.9203 - val_r_square: 0.9316\n",
            "Epoch 3/50\n",
            "25/25 [==============================] - 0s 4ms/step - loss: 1.0829 - r_square: 0.9879 - val_loss: 2.7034 - val_r_square: 0.9367\n",
            "Epoch 4/50\n",
            "25/25 [==============================] - 0s 4ms/step - loss: 1.3088 - r_square: 0.9853 - val_loss: 3.6359 - val_r_square: 0.9148\n",
            "Epoch 5/50\n",
            "25/25 [==============================] - 0s 3ms/step - loss: 1.2348 - r_square: 0.9862 - val_loss: 2.5604 - val_r_square: 0.9400\n",
            "Epoch 6/50\n",
            "25/25 [==============================] - 0s 4ms/step - loss: 1.0212 - r_square: 0.9886 - val_loss: 5.6770 - val_r_square: 0.8670\n",
            "Epoch 7/50\n",
            "25/25 [==============================] - 0s 4ms/step - loss: 1.6460 - r_square: 0.9816 - val_loss: 3.5672 - val_r_square: 0.9164\n",
            "Epoch 8/50\n",
            "25/25 [==============================] - 0s 4ms/step - loss: 1.5524 - r_square: 0.9826 - val_loss: 2.6797 - val_r_square: 0.9372\n",
            "Epoch 9/50\n",
            "25/25 [==============================] - 0s 4ms/step - loss: 1.1733 - r_square: 0.9869 - val_loss: 3.9238 - val_r_square: 0.9081\n",
            "Epoch 10/50\n",
            "25/25 [==============================] - 0s 4ms/step - loss: 1.0774 - r_square: 0.9879 - val_loss: 2.6268 - val_r_square: 0.9385\n",
            "Epoch 11/50\n",
            "25/25 [==============================] - 0s 4ms/step - loss: 2.0735 - r_square: 0.9768 - val_loss: 2.9987 - val_r_square: 0.9297\n",
            "Epoch 12/50\n",
            "25/25 [==============================] - 0s 4ms/step - loss: 1.3705 - r_square: 0.9846 - val_loss: 3.6283 - val_r_square: 0.9150\n",
            "Epoch 13/50\n",
            "25/25 [==============================] - 0s 3ms/step - loss: 1.6330 - r_square: 0.9817 - val_loss: 3.1824 - val_r_square: 0.9254\n",
            "Epoch 14/50\n",
            "25/25 [==============================] - 0s 3ms/step - loss: 1.8462 - r_square: 0.9793 - val_loss: 5.3249 - val_r_square: 0.8752\n",
            "Epoch 15/50\n",
            "25/25 [==============================] - 0s 3ms/step - loss: 1.6812 - r_square: 0.9812 - val_loss: 11.3197 - val_r_square: 0.7348\n",
            "Epoch 16/50\n",
            "25/25 [==============================] - 0s 4ms/step - loss: 1.7078 - r_square: 0.9809 - val_loss: 2.3933 - val_r_square: 0.9439\n",
            "Epoch 17/50\n",
            "25/25 [==============================] - 0s 3ms/step - loss: 1.0771 - r_square: 0.9879 - val_loss: 2.2245 - val_r_square: 0.9479\n",
            "Epoch 18/50\n",
            "25/25 [==============================] - 0s 4ms/step - loss: 1.0986 - r_square: 0.9877 - val_loss: 2.4297 - val_r_square: 0.9431\n",
            "Epoch 19/50\n",
            "25/25 [==============================] - 0s 4ms/step - loss: 1.0977 - r_square: 0.9877 - val_loss: 4.7228 - val_r_square: 0.8893\n",
            "Epoch 20/50\n",
            "25/25 [==============================] - 0s 4ms/step - loss: 1.5319 - r_square: 0.9828 - val_loss: 2.5643 - val_r_square: 0.9399\n",
            "Epoch 21/50\n",
            "25/25 [==============================] - 0s 4ms/step - loss: 1.4282 - r_square: 0.9840 - val_loss: 3.3849 - val_r_square: 0.9207\n",
            "Epoch 22/50\n",
            "25/25 [==============================] - 0s 4ms/step - loss: 1.1691 - r_square: 0.9869 - val_loss: 2.9684 - val_r_square: 0.9304\n",
            "Epoch 23/50\n",
            "25/25 [==============================] - 0s 4ms/step - loss: 1.2486 - r_square: 0.9860 - val_loss: 2.3819 - val_r_square: 0.9442\n",
            "Epoch 24/50\n",
            "25/25 [==============================] - 0s 3ms/step - loss: 1.1864 - r_square: 0.9867 - val_loss: 4.0022 - val_r_square: 0.9062\n",
            "Epoch 25/50\n",
            "25/25 [==============================] - 0s 4ms/step - loss: 1.3562 - r_square: 0.9848 - val_loss: 2.5651 - val_r_square: 0.9399\n",
            "Epoch 26/50\n",
            "25/25 [==============================] - 0s 4ms/step - loss: 1.0142 - r_square: 0.9886 - val_loss: 2.4631 - val_r_square: 0.9423\n",
            "Epoch 27/50\n",
            "25/25 [==============================] - 0s 4ms/step - loss: 0.9013 - r_square: 0.9899 - val_loss: 3.3466 - val_r_square: 0.9216\n",
            "Epoch 28/50\n",
            "25/25 [==============================] - 0s 4ms/step - loss: 1.1694 - r_square: 0.9869 - val_loss: 2.5677 - val_r_square: 0.9398\n",
            "Epoch 29/50\n",
            "25/25 [==============================] - 0s 4ms/step - loss: 0.9843 - r_square: 0.9890 - val_loss: 3.3210 - val_r_square: 0.9222\n",
            "Epoch 30/50\n",
            "25/25 [==============================] - 0s 4ms/step - loss: 1.2129 - r_square: 0.9864 - val_loss: 2.7048 - val_r_square: 0.9366\n",
            "Epoch 31/50\n",
            "25/25 [==============================] - 0s 4ms/step - loss: 1.0072 - r_square: 0.9887 - val_loss: 3.7247 - val_r_square: 0.9127\n",
            "Epoch 32/50\n",
            "25/25 [==============================] - 0s 4ms/step - loss: 1.2592 - r_square: 0.9859 - val_loss: 3.2513 - val_r_square: 0.9238\n",
            "Epoch 33/50\n",
            "25/25 [==============================] - 0s 3ms/step - loss: 1.4342 - r_square: 0.9839 - val_loss: 3.0456 - val_r_square: 0.9286\n",
            "Epoch 34/50\n",
            "25/25 [==============================] - 0s 4ms/step - loss: 1.2232 - r_square: 0.9863 - val_loss: 2.9063 - val_r_square: 0.9319\n",
            "Epoch 35/50\n",
            "25/25 [==============================] - 0s 4ms/step - loss: 1.1350 - r_square: 0.9873 - val_loss: 6.0320 - val_r_square: 0.8587\n",
            "Epoch 36/50\n",
            "25/25 [==============================] - 0s 3ms/step - loss: 1.1710 - r_square: 0.9869 - val_loss: 2.5047 - val_r_square: 0.9413\n",
            "Epoch 37/50\n",
            "25/25 [==============================] - 0s 4ms/step - loss: 0.9564 - r_square: 0.9893 - val_loss: 2.3807 - val_r_square: 0.9442\n",
            "Epoch 38/50\n",
            "25/25 [==============================] - 0s 4ms/step - loss: 0.9118 - r_square: 0.9898 - val_loss: 4.4089 - val_r_square: 0.8967\n",
            "Epoch 39/50\n",
            "25/25 [==============================] - 0s 4ms/step - loss: 0.9296 - r_square: 0.9896 - val_loss: 3.1450 - val_r_square: 0.9263\n",
            "Epoch 40/50\n",
            "25/25 [==============================] - 0s 4ms/step - loss: 1.0855 - r_square: 0.9878 - val_loss: 2.9913 - val_r_square: 0.9299\n",
            "Epoch 41/50\n",
            "25/25 [==============================] - 0s 4ms/step - loss: 0.9345 - r_square: 0.9895 - val_loss: 3.6551 - val_r_square: 0.9144\n",
            "Epoch 42/50\n",
            "25/25 [==============================] - 0s 4ms/step - loss: 1.0028 - r_square: 0.9888 - val_loss: 2.8863 - val_r_square: 0.9324\n",
            "Epoch 43/50\n",
            "25/25 [==============================] - 0s 4ms/step - loss: 1.0235 - r_square: 0.9885 - val_loss: 2.6505 - val_r_square: 0.9379\n",
            "Epoch 44/50\n",
            "25/25 [==============================] - 0s 3ms/step - loss: 0.9166 - r_square: 0.9897 - val_loss: 2.8199 - val_r_square: 0.9339\n",
            "Epoch 45/50\n",
            "25/25 [==============================] - 0s 4ms/step - loss: 0.7717 - r_square: 0.9914 - val_loss: 6.0624 - val_r_square: 0.8580\n",
            "Epoch 46/50\n",
            "25/25 [==============================] - 0s 4ms/step - loss: 1.5030 - r_square: 0.9832 - val_loss: 3.5444 - val_r_square: 0.9170\n",
            "Epoch 47/50\n",
            "25/25 [==============================] - 0s 4ms/step - loss: 1.3682 - r_square: 0.9847 - val_loss: 3.7405 - val_r_square: 0.9124\n",
            "Epoch 48/50\n",
            "25/25 [==============================] - 0s 4ms/step - loss: 1.1312 - r_square: 0.9873 - val_loss: 4.3789 - val_r_square: 0.8974\n",
            "Epoch 49/50\n",
            "25/25 [==============================] - 0s 4ms/step - loss: 1.0021 - r_square: 0.9888 - val_loss: 3.5860 - val_r_square: 0.9160\n",
            "Epoch 50/50\n",
            "25/25 [==============================] - 0s 4ms/step - loss: 1.3633 - r_square: 0.9847 - val_loss: 3.0504 - val_r_square: 0.9285\n",
            "------------------------------------------------------------------------------------------------------------------------\n",
            "4/4 [==============================] - 0s 3ms/step - loss: 12.0200 - r_square: 0.8556\n",
            "MSE: 12.019968032836914\n",
            "r2: 0.8556053042411804\n"
          ]
        }
      ]
    },
    {
      "cell_type": "code",
      "source": [
        "history.history #this will show you what was saved in the history variable"
      ],
      "metadata": {
        "id": "N2z5o-vRwBF7"
      },
      "execution_count": null,
      "outputs": []
    },
    {
      "cell_type": "code",
      "source": [
        "import pandas\n",
        "#pandas.DataFrame(history.history).plot(figsize=(8,5), title='Boston Housing')\n",
        "#plt.show()\n",
        "\n",
        "import keras\n",
        "from matplotlib import pyplot as plt\n",
        "plt.plot(history.history['loss'])\n",
        "plt.plot(history.history['val_loss'])\n",
        "plt.title('model loss')\n",
        "plt.ylabel('MSE')\n",
        "plt.xlabel('epoch')\n",
        "plt.legend(['train', 'val'])\n",
        "plt.show()"
      ],
      "metadata": {
        "colab": {
          "base_uri": "https://localhost:8080/",
          "height": 295
        },
        "id": "FQC0Yz9wqrb-",
        "outputId": "964a950a-4366-4b36-f21a-6c9a0468afc4"
      },
      "execution_count": null,
      "outputs": [
        {
          "output_type": "display_data",
          "data": {
            "text/plain": [
              "<Figure size 432x288 with 1 Axes>"
            ],
            "image/png": "[encoded data removed]"
          },
          "metadata": {
            "needs_background": "light"
          }
        }
      ]
    },
    {
      "cell_type": "code",
      "source": [
        "import keras\n",
        "from matplotlib import pyplot as plt\n",
        "plt.plot(history.history['r_square'])\n",
        "plt.plot(history.history['val_r_square'])\n",
        "plt.title('model accuracy')\n",
        "plt.ylabel('R^2')\n",
        "plt.xlabel('epoch')\n",
        "plt.legend(['train', 'val'])\n",
        "plt.show()"
      ],
      "metadata": {
        "colab": {
          "base_uri": "https://localhost:8080/",
          "height": 295
        },
        "id": "7GhwgH-Rp1O1",
        "outputId": "c2c47680-6383-40c6-a17a-b4b3fcf0f531"
      },
      "execution_count": null,
      "outputs": [
        {
          "output_type": "display_data",
          "data": {
            "text/plain": [
              "<Figure size 432x288 with 1 Axes>"
            ],
            "image/png": "[encoded data removed]"
          },
          "metadata": {
            "needs_background": "light"
          }
        }
      ]
    },
    {
      "cell_type": "markdown",
      "source": [
        "# In Class Exercise #2\n",
        "What parameters from the models above do you think you can/should change? \n",
        "\n",
        "\n",
        "Try these\n",
        "- Change the number of neurons in each layer.  \n",
        "- Add a layer to the model.\n",
        "- Change the activation function of the model, [here is the documentation](https://keras.io/api/layers/activations/)\n",
        "- Change the optimizer, [here is the documentation](https://keras.io/api/optimizers/) with a list of options\n",
        "- look at the [metrics](https://keras.io/api/metrics/) try adding another metric."
      ],
      "metadata": {
        "id": "35EulYVbpItw"
      }
    },
    {
      "cell_type": "code",
      "source": [],
      "metadata": {
        "id": "zSHfkbwzpFmh"
      },
      "execution_count": null,
      "outputs": []
    }
  ]
}