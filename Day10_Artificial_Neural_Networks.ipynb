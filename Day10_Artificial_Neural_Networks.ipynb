{
  "nbformat": 4,
  "nbformat_minor": 0,
  "metadata": {
    "colab": {
      "provenance": [],
      "include_colab_link": true
    },
    "kernelspec": {
      "name": "python3",
      "display_name": "Python 3"
    },
    "language_info": {
      "name": "python"
    },
    "accelerator": "GPU",
    "gpuClass": "standard"
  },
  "cells": [
    {
      "cell_type": "markdown",
      "metadata": {
        "id": "view-in-github",
        "colab_type": "text"
      },
      "source": [
        "<a href=\"https://colab.research.google.com/github/nickwharff/CS167_Notes/blob/main/Day10_Artificial_Neural_Networks.ipynb\" target=\"_parent\"><img src=\"https://colab.research.google.com/assets/colab-badge.svg\" alt=\"Open In Colab\"/></a>"
      ]
    },
    {
      "cell_type": "markdown",
      "source": [
        "# Day10 Artificial Neural Networks\n",
        "\n",
        "We're going to start off by using sklearn MLP to implement a multilayer perceptron, and then we're going to use a deep learning framework, Tensorflow with Keras to build a neural network.\n",
        "\n",
        "__Documentation__: \n",
        "- [`sklearn.neural_network.MLPClassifier()`](https://scikit-learn.org/stable/modules/generated/sklearn.neural_network.MLPClassifier.html#sklearn.neural_network.MLPClassifier)\n",
        "- [`sklearn.neural_network.MLPRegressor()`](https://scikit-learn.org/stable/modules/generated/sklearn.neural_network.MLPRegressor.html#sklearn.neural_network.MLPRegressor)"
      ],
      "metadata": {
        "id": "3AOXKHiAmVLd"
      }
    },
    {
      "cell_type": "markdown",
      "source": [
        "## Data Preparation\n",
        "- Mount Drive\n",
        "- Load in `irisData.csv`\n",
        "- use `train_test_split` to split data \n",
        "- normalize using `slkearn.preprocessing.StandardScaler`"
      ],
      "metadata": {
        "id": "WdrdO_Q8m-od"
      }
    },
    {
      "cell_type": "code",
      "execution_count": 1,
      "metadata": {
        "colab": {
          "base_uri": "https://localhost:8080/"
        },
        "id": "S4W-mCCqmFNl",
        "outputId": "5bd3a78e-0d84-4af5-867c-b18151aca07f"
      },
      "outputs": [
        {
          "output_type": "stream",
          "name": "stdout",
          "text": [
            "Mounted at /content/drive\n"
          ]
        }
      ],
      "source": [
        "from google.colab import drive\n",
        "import pandas\n",
        "drive.mount('/content/drive')"
      ]
    },
    {
      "cell_type": "code",
      "source": [
        "data = pandas.read_csv('/content/drive/MyDrive/CS167/datasets/irisData.csv')\n",
        "data.head()"
      ],
      "metadata": {
        "colab": {
          "base_uri": "https://localhost:8080/",
          "height": 206
        },
        "id": "fVh_OIQ4mPd_",
        "outputId": "3ec9f616-439b-4fa5-e23f-2efcfb47c4ca"
      },
      "execution_count": 2,
      "outputs": [
        {
          "output_type": "execute_result",
          "data": {
            "text/plain": [
              "   sepal length  sepal width  petal length  petal width      species\n",
              "0           5.1          3.5           1.4          0.2  Iris-setosa\n",
              "1           4.9          3.0           1.4          0.2  Iris-setosa\n",
              "2           4.7          3.2           1.3          0.2  Iris-setosa\n",
              "3           4.6          3.1           1.5          0.2  Iris-setosa\n",
              "4           5.0          3.6           1.4          0.2  Iris-setosa"
            ],
            "text/html": [
              "\n",
              "  <div id=\"df-74d582cb-2c37-44db-b1c2-ca34115a6d26\">\n",
              "    <div class=\"colab-df-container\">\n",
              "      <div>\n",
              "<style scoped>\n",
              "    .dataframe tbody tr th:only-of-type {\n",
              "        vertical-align: middle;\n",
              "    }\n",
              "\n",
              "    .dataframe tbody tr th {\n",
              "        vertical-align: top;\n",
              "    }\n",
              "\n",
              "    .dataframe thead th {\n",
              "        text-align: right;\n",
              "    }\n",
              "</style>\n",
              "<table border=\"1\" class=\"dataframe\">\n",
              "  <thead>\n",
              "    <tr style=\"text-align: right;\">\n",
              "      <th></th>\n",
              "      <th>sepal length</th>\n",
              "      <th>sepal width</th>\n",
              "      <th>petal length</th>\n",
              "      <th>petal width</th>\n",
              "      <th>species</th>\n",
              "    </tr>\n",
              "  </thead>\n",
              "  <tbody>\n",
              "    <tr>\n",
              "      <th>0</th>\n",
              "      <td>5.1</td>\n",
              "      <td>3.5</td>\n",
              "      <td>1.4</td>\n",
              "      <td>0.2</td>\n",
              "      <td>Iris-setosa</td>\n",
              "    </tr>\n",
              "    <tr>\n",
              "      <th>1</th>\n",
              "      <td>4.9</td>\n",
              "      <td>3.0</td>\n",
              "      <td>1.4</td>\n",
              "      <td>0.2</td>\n",
              "      <td>Iris-setosa</td>\n",
              "    </tr>\n",
              "    <tr>\n",
              "      <th>2</th>\n",
              "      <td>4.7</td>\n",
              "      <td>3.2</td>\n",
              "      <td>1.3</td>\n",
              "      <td>0.2</td>\n",
              "      <td>Iris-setosa</td>\n",
              "    </tr>\n",
              "    <tr>\n",
              "      <th>3</th>\n",
              "      <td>4.6</td>\n",
              "      <td>3.1</td>\n",
              "      <td>1.5</td>\n",
              "      <td>0.2</td>\n",
              "      <td>Iris-setosa</td>\n",
              "    </tr>\n",
              "    <tr>\n",
              "      <th>4</th>\n",
              "      <td>5.0</td>\n",
              "      <td>3.6</td>\n",
              "      <td>1.4</td>\n",
              "      <td>0.2</td>\n",
              "      <td>Iris-setosa</td>\n",
              "    </tr>\n",
              "  </tbody>\n",
              "</table>\n",
              "</div>\n",
              "      <button class=\"colab-df-convert\" onclick=\"convertToInteractive('df-74d582cb-2c37-44db-b1c2-ca34115a6d26')\"\n",
              "              title=\"Convert this dataframe to an interactive table.\"\n",
              "              style=\"display:none;\">\n",
              "        \n",
              "  <svg xmlns=\"http://www.w3.org/2000/svg\" height=\"24px\"viewBox=\"0 0 24 24\"\n",
              "       width=\"24px\">\n",
              "    <path d=\"M0 0h24v24H0V0z\" fill=\"none\"/>\n",
              "    <path d=\"M18.56 5.44l.94 2.06.94-2.06 2.06-.94-2.06-.94-.94-2.06-.94 2.06-2.06.94zm-11 1L8.5 8.5l.94-2.06 2.06-.94-2.06-.94L8.5 2.5l-.94 2.06-2.06.94zm10 10l.94 2.06.94-2.06 2.06-.94-2.06-.94-.94-2.06-.94 2.06-2.06.94z\"/><path d=\"M17.41 7.96l-1.37-1.37c-.4-.4-.92-.59-1.43-.59-.52 0-1.04.2-1.43.59L10.3 9.45l-7.72 7.72c-.78.78-.78 2.05 0 2.83L4 21.41c.39.39.9.59 1.41.59.51 0 1.02-.2 1.41-.59l7.78-7.78 2.81-2.81c.8-.78.8-2.07 0-2.86zM5.41 20L4 18.59l7.72-7.72 1.47 1.35L5.41 20z\"/>\n",
              "  </svg>\n",
              "      </button>\n",
              "      \n",
              "  <style>\n",
              "    .colab-df-container {\n",
              "      display:flex;\n",
              "      flex-wrap:wrap;\n",
              "      gap: 12px;\n",
              "    }\n",
              "\n",
              "    .colab-df-convert {\n",
              "      background-color: #E8F0FE;\n",
              "      border: none;\n",
              "      border-radius: 50%;\n",
              "      cursor: pointer;\n",
              "      display: none;\n",
              "      fill: #1967D2;\n",
              "      height: 32px;\n",
              "      padding: 0 0 0 0;\n",
              "      width: 32px;\n",
              "    }\n",
              "\n",
              "    .colab-df-convert:hover {\n",
              "      background-color: #E2EBFA;\n",
              "      box-shadow: 0px 1px 2px rgba(60, 64, 67, 0.3), 0px 1px 3px 1px rgba(60, 64, 67, 0.15);\n",
              "      fill: #174EA6;\n",
              "    }\n",
              "\n",
              "    [theme=dark] .colab-df-convert {\n",
              "      background-color: #3B4455;\n",
              "      fill: #D2E3FC;\n",
              "    }\n",
              "\n",
              "    [theme=dark] .colab-df-convert:hover {\n",
              "      background-color: #434B5C;\n",
              "      box-shadow: 0px 1px 3px 1px rgba(0, 0, 0, 0.15);\n",
              "      filter: drop-shadow(0px 1px 2px rgba(0, 0, 0, 0.3));\n",
              "      fill: #FFFFFF;\n",
              "    }\n",
              "  </style>\n",
              "\n",
              "      <script>\n",
              "        const buttonEl =\n",
              "          document.querySelector('#df-74d582cb-2c37-44db-b1c2-ca34115a6d26 button.colab-df-convert');\n",
              "        buttonEl.style.display =\n",
              "          google.colab.kernel.accessAllowed ? 'block' : 'none';\n",
              "\n",
              "        async function convertToInteractive(key) {\n",
              "          const element = document.querySelector('#df-74d582cb-2c37-44db-b1c2-ca34115a6d26');\n",
              "          const dataTable =\n",
              "            await google.colab.kernel.invokeFunction('convertToInteractive',\n",
              "                                                     [key], {});\n",
              "          if (!dataTable) return;\n",
              "\n",
              "          const docLinkHtml = 'Like what you see? Visit the ' +\n",
              "            '<a target=\"_blank\" href=https://colab.research.google.com/notebooks/data_table.ipynb>data table notebook</a>'\n",
              "            + ' to learn more about interactive tables.';\n",
              "          element.innerHTML = '';\n",
              "          dataTable['output_type'] = 'display_data';\n",
              "          await google.colab.output.renderOutput(dataTable, element);\n",
              "          const docLink = document.createElement('div');\n",
              "          docLink.innerHTML = docLinkHtml;\n",
              "          element.appendChild(docLink);\n",
              "        }\n",
              "      </script>\n",
              "    </div>\n",
              "  </div>\n",
              "  "
            ]
          },
          "metadata": {},
          "execution_count": 2
        }
      ]
    },
    {
      "cell_type": "code",
      "source": [
        "import pandas\n",
        "import numpy\n",
        "from sklearn.model_selection import train_test_split\n",
        "\n",
        "#Split the dataset\n",
        "predictors = data.columns.drop('species')\n",
        "target = \"species\"\n",
        "train_data, test_data, train_sln, test_sln = train_test_split(data[predictors], data[target], test_size = 0.2, random_state=41)\n",
        "\n",
        "#Normalize Data\n",
        "from sklearn.preprocessing import StandardScaler\n",
        "scaler = StandardScaler()\n",
        "scaler.fit(train_data)\n",
        "train_data_norm = scaler.transform(train_data)\n",
        "test_data_norm = scaler.transform(test_data)"
      ],
      "metadata": {
        "id": "HXoWH_gsm5xu"
      },
      "execution_count": 3,
      "outputs": []
    },
    {
      "cell_type": "markdown",
      "source": [
        "## Build a MLP using `sklearn`"
      ],
      "metadata": {
        "id": "_0-LG-vRnTWA"
      }
    },
    {
      "cell_type": "code",
      "source": [
        "# Set up MLP\n",
        "from sklearn.neural_network import MLPClassifier\n",
        "from sklearn import metrics\n",
        "from sklearn.metrics import confusion_matrix, ConfusionMatrixDisplay\n",
        "import matplotlib.pyplot as plt\n",
        "\n",
        "mlp = MLPClassifier(random_state=0,hidden_layer_sizes = (100,), max_iter = 800) # max_iter = epochs, hidden_layer_sizes = \n",
        "mlp.fit(train_data_norm,train_sln)\n",
        "predictions = mlp.predict(test_data_norm)\n",
        "\n",
        "print(\"Accuracy: \", metrics.accuracy_score(test_sln,predictions))\n",
        "\n",
        "# Confusion Matrix\n",
        "vals = data[target].unique() ## possible classification values (species)\n",
        "conf_mat = metrics.confusion_matrix(test_sln, predictions, labels=vals)\n",
        "\n",
        "#print(pandas.DataFrame(conf_mat, index = \"True \" + vals, columns = \"Pre \" + vals))\n",
        "\n",
        "disp = ConfusionMatrixDisplay(confusion_matrix=conf_mat,display_labels=mlp.classes_)\n",
        "disp.plot()\n",
        "plt.show()"
      ],
      "metadata": {
        "colab": {
          "base_uri": "https://localhost:8080/",
          "height": 300
        },
        "id": "TitomiUrm7a8",
        "outputId": "b879315e-71c0-426c-8267-da8069e798eb"
      },
      "execution_count": 6,
      "outputs": [
        {
          "output_type": "stream",
          "name": "stdout",
          "text": [
            "Accuracy:  0.9\n"
          ]
        },
        {
          "output_type": "display_data",
          "data": {
            "text/plain": [
              "<Figure size 432x288 with 2 Axes>"
            ],
            "image/png": "[encoded data removed]"
          },
          "metadata": {
            "needs_background": "light"
          }
        }
      ]
    },
    {
      "cell_type": "markdown",
      "source": [
        "## In-Class Exercise #1:\n",
        "\n",
        "1. Read in the Boston Housing dataset\n",
        "2. Normalize your data\n",
        "3. Use a [MLPRegressor](https://scikit-learn.org/stable/modules/generated/sklearn.neural_network.MLPRegressor.html) to predict the price of a house 'MEDV'\n",
        "4. Play around with changing the parameters, see what the best R2 score you can get is. "
      ],
      "metadata": {
        "id": "XU6W48v3n6a5"
      }
    },
    {
      "cell_type": "code",
      "source": [
        "# Your code goes here for the In-Class Exercise\n",
        "# 1. Read in the Boston Housing dataset\n",
        "import pandas\n",
        "housing_data = pandas.read_csv('/content/drive/MyDrive/CS167/datasets/boston_housing.csv') \n",
        "\n",
        "# clean the data\n",
        "housing_data['CRIM'].fillna(housing_data['CRIM'].mean(),inplace=True)\n",
        "housing_data['ZN'].fillna(housing_data['ZN'].mean(),inplace=True)\n",
        "housing_data['INDUS'].fillna(housing_data['INDUS'].mean(),inplace=True)\n",
        "housing_data['CHAS'].fillna(housing_data['CHAS'].mean(),inplace=True)\n",
        "housing_data['AGE'].fillna(housing_data['AGE'].mean(),inplace=True)\n",
        "housing_data['LSTAT'].fillna(housing_data['LSTAT'].mean(),inplace=True)\n",
        "\n",
        "#Split the dataset\n",
        "predictors = housing_data.columns.drop('MEDV')\n",
        "target = \"MEDV\"\n",
        "train_data, test_data, train_sln, test_sln = train_test_split(housing_data[predictors], housing_data[target], test_size = 0.2, random_state=0)\n"
      ],
      "metadata": {
        "id": "mwjR4p5OnZw2"
      },
      "execution_count": 7,
      "outputs": []
    },
    {
      "cell_type": "code",
      "source": [
        "#2. Normalize the data\n",
        "from sklearn.preprocessing import StandardScaler\n",
        "\n",
        "scaler = StandardScaler()\n",
        "scaler.fit(train_data)\n",
        "train_data_norm = scaler.transform(train_data)\n",
        "test_data_norm = scaler.transform(test_data)\n"
      ],
      "metadata": {
        "id": "9oRUdXmOoDw5"
      },
      "execution_count": 8,
      "outputs": []
    },
    {
      "cell_type": "code",
      "source": [
        "#3. Use a MLPRegressor to predict the price of a house 'MEDV'\n",
        "from sklearn.neural_network import MLPRegressor\n",
        "from sklearn import metrics\n",
        "\n",
        "mlp = MLPRegressor(random_state=3,hidden_layer_sizes = (100,), max_iter = 800) # max_iter = epochs, hidden_layer_sizes = \n",
        "mlp.fit(train_data_norm,train_sln)\n",
        "predictions = mlp.predict(test_data_norm)\n",
        "\n",
        "\n",
        "\n",
        "\n",
        "\n"
      ],
      "metadata": {
        "id": "y--pDP_LoJES",
        "colab": {
          "base_uri": "https://localhost:8080/"
        },
        "outputId": "7b6a533b-10c7-42aa-ac18-d0eb4af27239"
      },
      "execution_count": 10,
      "outputs": [
        {
          "output_type": "stream",
          "name": "stdout",
          "text": [
            "MSE:  21.813988646119686\n"
          ]
        }
      ]
    },
    {
      "cell_type": "code",
      "source": [
        "print(\"MSE: \", metrics.mean_squared_error(test_sln,predictions))\n",
        "\n",
        "print(\"R^2: \", metrics.r2_score(test_sln,predictions))"
      ],
      "metadata": {
        "colab": {
          "base_uri": "https://localhost:8080/"
        },
        "id": "81F0dxvHoejB",
        "outputId": "6472fa62-d12a-4053-eb20-c92e99fb0d44"
      },
      "execution_count": 11,
      "outputs": [
        {
          "output_type": "stream",
          "name": "stdout",
          "text": [
            "MSE:  21.813988646119686\n",
            "R^2:  0.7321084758908691\n"
          ]
        }
      ]
    },
    {
      "cell_type": "code",
      "source": [
        "#4. Play around with the parameters\n",
        "\n",
        "mlp = MLPRegressor(random_state=3,hidden_layer_sizes = (100,), learning_rate = 'invscaling', max_iter = 800) # max_iter = epochs, hidden_layer_sizes = \n",
        "mlp.fit(train_data_norm,train_sln)\n",
        "predictions = mlp.predict(test_data_norm)"
      ],
      "metadata": {
        "id": "VzJjXtUKoVsy"
      },
      "execution_count": 25,
      "outputs": []
    },
    {
      "cell_type": "code",
      "source": [
        "print(\"MSE: \", metrics.mean_squared_error(test_sln,predictions))\n",
        "\n",
        "print(\"R^2: \", metrics.r2_score(test_sln,predictions))"
      ],
      "metadata": {
        "colab": {
          "base_uri": "https://localhost:8080/"
        },
        "id": "QYRLjptZpK4Q",
        "outputId": "6eaffccf-bb9d-4d8a-96f4-2143f61e0123"
      },
      "execution_count": 26,
      "outputs": [
        {
          "output_type": "stream",
          "name": "stdout",
          "text": [
            "MSE:  20.89375086348106\n",
            "R^2:  0.7434096600132749\n"
          ]
        }
      ]
    },
    {
      "cell_type": "markdown",
      "source": [
        "# Introducing Deep Learning Frameworks\n",
        "\n",
        "Go ahead and go up to 'Runtime', and select 'change runtime type' from the dropdown list, select 'GPU'. If you complete this step correctly, the following code should say `Found GPU at: /device:GPU:0` or something similar."
      ],
      "metadata": {
        "id": "BnifibodoYy4"
      }
    },
    {
      "cell_type": "code",
      "source": [
        "import tensorflow as tf\n",
        "device_name = tf.test.gpu_device_name()\n",
        "if device_name != '/device:GPU:0':\n",
        "  raise SystemError('GPU device not found')\n",
        "print('Found GPU at: {}'.format(device_name))"
      ],
      "metadata": {
        "colab": {
          "base_uri": "https://localhost:8080/"
        },
        "id": "VPr2BFJjoXHP",
        "outputId": "c3fcae2b-d553-4d66-de32-9c54acd925be"
      },
      "execution_count": 27,
      "outputs": [
        {
          "output_type": "stream",
          "name": "stdout",
          "text": [
            "Found GPU at: /device:GPU:0\n"
          ]
        }
      ]
    },
    {
      "cell_type": "markdown",
      "source": [
        "# Iris Dataset with Keras"
      ],
      "metadata": {
        "id": "j2hk43HFohZi"
      }
    },
    {
      "cell_type": "code",
      "source": [
        "import warnings\n",
        "warnings.simplefilter(action='ignore', category=FutureWarning)\n",
        "warnings.simplefilter(action='ignore', category=DeprecationWarning)\n",
        "\n",
        "from keras.models import Sequential\n",
        "from keras.layers import Dense\n",
        "\n",
        "from sklearn.datasets import load_iris\n",
        "from sklearn.model_selection import train_test_split\n",
        "from sklearn.preprocessing import OneHotEncoder, StandardScaler\n",
        "import numpy\n",
        "\n",
        "# we're going to use the iris dataset, but load it from sklearn \n",
        "iris = load_iris()\n",
        "X = iris['data']\n",
        "y = iris['target']\n",
        "names = iris['target_names']\n",
        "feature_names = iris['feature_names']\n",
        "\n",
        "# One hot encoding\n",
        "enc = OneHotEncoder() # dummy variables\n",
        "Y = enc.fit_transform(y[:, numpy.newaxis]).toarray()\n",
        "\n",
        "# Split the data set into training and testing\n",
        "X_train, X_test, Y_train, Y_test = train_test_split(X, Y, test_size=0.2, random_state=2)\n",
        "\n",
        "#normalize the data\n",
        "scaler = StandardScaler()\n",
        "scaler.fit(X_train)\n",
        "X_train_norm = scaler.transform(X_train)\n",
        "X_test_norm = scaler.transform(X_test)"
      ],
      "metadata": {
        "id": "gdE9zJcxofRT"
      },
      "execution_count": 28,
      "outputs": []
    },
    {
      "cell_type": "code",
      "source": [
        "# display a row of data\n",
        "print(X_train_norm[0,:])\n",
        "print(Y_train[0,:]) # 3 element list, placement of 1 indicates which type of flower it is"
      ],
      "metadata": {
        "colab": {
          "base_uri": "https://localhost:8080/"
        },
        "id": "yD2jLOLWomXh",
        "outputId": "061052a1-c9f3-4dad-af59-883d5e4602c4"
      },
      "execution_count": 29,
      "outputs": [
        {
          "output_type": "stream",
          "name": "stdout",
          "text": [
            "[ 0.37346331 -0.58519388  0.54075378  0.74234434]\n",
            "[0. 0. 1.]\n"
          ]
        }
      ]
    },
    {
      "cell_type": "markdown",
      "source": [
        "# Keras parameters\n",
        "\n",
        "Dense(units = dimensionality of output space, input_dimension = dimension of input space, activation = activation function)\n",
        "\n",
        "use a `softmax` for output layer, as it is useful for multi-class classification"
      ],
      "metadata": {
        "id": "ApTzOvtTu7Xc"
      }
    },
    {
      "cell_type": "code",
      "source": [
        "#build our neural network model\n",
        "n_features = X.shape[1] #X generally stands for our predictors\n",
        "n_classes = Y.shape[1] #Y generally stands for our target\n",
        "\n",
        "model = Sequential(name='iris_1') # Sequential imported from keras.models\n",
        "model.add(Dense(2, input_dim=n_features, activation='relu')) # Dense imported from keras.layers\n",
        "model.add(Dense(2, activation='relu')) # Dense = every neuron is connected to every neuron in next layer\n",
        "model.add(Dense(n_classes, activation='softmax')) # softmax is good with multi class classification\n",
        "\n",
        "# 2 = units/dimensionality of output space\n",
        "\n",
        "from sklearn.metrics import r2_score\n",
        "\n",
        "# Compile model\n",
        "model.compile(loss='mean_squared_error',\n",
        "              optimizer='sgd', \n",
        "              metrics=['accuracy'])\n",
        "model.summary()"
      ],
      "metadata": {
        "colab": {
          "base_uri": "https://localhost:8080/"
        },
        "id": "SV_iL0VropGm",
        "outputId": "2fcf7fe2-6004-4952-ce92-7ff462e66576"
      },
      "execution_count": 30,
      "outputs": [
        {
          "output_type": "stream",
          "name": "stdout",
          "text": [
            "Model: \"iris_1\"\n",
            "_________________________________________________________________\n",
            " Layer (type)                Output Shape              Param #   \n",
            "=================================================================\n",
            " dense (Dense)               (None, 2)                 10        \n",
            "                                                                 \n",
            " dense_1 (Dense)             (None, 2)                 6         \n",
            "                                                                 \n",
            " dense_2 (Dense)             (None, 3)                 9         \n",
            "                                                                 \n",
            "=================================================================\n",
            "Total params: 25\n",
            "Trainable params: 25\n",
            "Non-trainable params: 0\n",
            "_________________________________________________________________\n"
          ]
        }
      ]
    },
    {
      "cell_type": "markdown",
      "source": [
        "## Keras Documentation: \n",
        "https://keras.io/api/models/model_training_apis/ "
      ],
      "metadata": {
        "id": "yrfvgXS8ouMC"
      }
    },
    {
      "cell_type": "code",
      "source": [
        "# train the model\n",
        "history = model.fit(X_train_norm, Y_train, validation_split=0.2, batch_size=15, epochs=10) #add verbose = 0 to make output minimal\n",
        "\n",
        "# history automatically saves all of these values so that we can plot data, access weights, etc\n",
        "\n",
        "# cross-validation; make predictions and get error\n",
        "print(\"----\"*30)\n",
        "mse, acc =  model.evaluate(X_test_norm, Y_test)\n",
        "print('Mean Squared Error:',mse)\n",
        "print('Test accuracy:', acc)"
      ],
      "metadata": {
        "colab": {
          "base_uri": "https://localhost:8080/"
        },
        "id": "mHAWFcvYorNP",
        "outputId": "f6e4a6cd-be2b-4cb6-d6b3-ef6abc7dec6e"
      },
      "execution_count": 34,
      "outputs": [
        {
          "output_type": "stream",
          "name": "stdout",
          "text": [
            "Epoch 1/10\n",
            "7/7 [==============================] - 0s 11ms/step - loss: 0.2332 - accuracy: 0.4896 - val_loss: 0.2144 - val_accuracy: 0.5000\n",
            "Epoch 2/10\n",
            "7/7 [==============================] - 0s 7ms/step - loss: 0.2329 - accuracy: 0.4688 - val_loss: 0.2143 - val_accuracy: 0.5000\n",
            "Epoch 3/10\n",
            "7/7 [==============================] - 0s 6ms/step - loss: 0.2327 - accuracy: 0.4688 - val_loss: 0.2143 - val_accuracy: 0.5000\n",
            "Epoch 4/10\n",
            "7/7 [==============================] - 0s 6ms/step - loss: 0.2324 - accuracy: 0.4792 - val_loss: 0.2142 - val_accuracy: 0.5000\n",
            "Epoch 5/10\n",
            "7/7 [==============================] - 0s 6ms/step - loss: 0.2321 - accuracy: 0.4688 - val_loss: 0.2142 - val_accuracy: 0.5000\n",
            "Epoch 6/10\n",
            "7/7 [==============================] - 0s 7ms/step - loss: 0.2318 - accuracy: 0.4792 - val_loss: 0.2141 - val_accuracy: 0.5000\n",
            "Epoch 7/10\n",
            "7/7 [==============================] - 0s 6ms/step - loss: 0.2315 - accuracy: 0.4792 - val_loss: 0.2140 - val_accuracy: 0.5000\n",
            "Epoch 8/10\n",
            "7/7 [==============================] - 0s 6ms/step - loss: 0.2313 - accuracy: 0.4792 - val_loss: 0.2140 - val_accuracy: 0.5000\n",
            "Epoch 9/10\n",
            "7/7 [==============================] - 0s 7ms/step - loss: 0.2310 - accuracy: 0.4792 - val_loss: 0.2139 - val_accuracy: 0.5000\n",
            "Epoch 10/10\n",
            "7/7 [==============================] - 0s 6ms/step - loss: 0.2307 - accuracy: 0.4792 - val_loss: 0.2139 - val_accuracy: 0.5000\n",
            "------------------------------------------------------------------------------------------------------------------------\n",
            "1/1 [==============================] - 0s 21ms/step - loss: 0.2130 - accuracy: 0.6667\n",
            "Mean Squared Error: 0.2129903882741928\n",
            "Test accuracy: 0.6666666865348816\n"
          ]
        }
      ]
    },
    {
      "cell_type": "markdown",
      "source": [
        "## 👀 Take a closer look: "
      ],
      "metadata": {
        "id": "BpHaTH9gt_01"
      }
    },
    {
      "cell_type": "code",
      "source": [
        "import keras\n",
        "from matplotlib import pyplot as plt\n",
        "plt.plot(history.history['accuracy'])\n",
        "plt.plot(history.history['val_accuracy'])\n",
        "plt.title('model accuracy')\n",
        "plt.ylabel('accuracy')\n",
        "plt.xlabel('epoch')\n",
        "plt.legend(['train', 'val'])\n",
        "plt.show()"
      ],
      "metadata": {
        "colab": {
          "base_uri": "https://localhost:8080/",
          "height": 295
        },
        "id": "VFmdQBRwsJ9k",
        "outputId": "735efc22-93f6-4bd0-9fc9-e870fdc07621"
      },
      "execution_count": 35,
      "outputs": [
        {
          "output_type": "display_data",
          "data": {
            "text/plain": [
              "<Figure size 432x288 with 1 Axes>"
            ],
            "image/png": "[encoded data removed]"
          },
          "metadata": {
            "needs_background": "light"
          }
        }
      ]
    },
    {
      "cell_type": "code",
      "source": [
        "plt.plot(history.history['loss'])\n",
        "plt.plot(history.history['val_loss'])\n",
        "plt.title('model loss')\n",
        "plt.ylabel('loss')\n",
        "plt.xlabel('epoch')\n",
        "plt.legend(['train', 'val'])\n",
        "plt.show()"
      ],
      "metadata": {
        "colab": {
          "base_uri": "https://localhost:8080/",
          "height": 295
        },
        "id": "RkWoCtSZt5B6",
        "outputId": "daeeef5e-ca9e-4e07-c85f-86e45f297d0a"
      },
      "execution_count": 36,
      "outputs": [
        {
          "output_type": "display_data",
          "data": {
            "text/plain": [
              "<Figure size 432x288 with 1 Axes>"
            ],
            "image/png": "[encoded data removed]"
          },
          "metadata": {
            "needs_background": "light"
          }
        }
      ]
    },
    {
      "cell_type": "markdown",
      "source": [
        "# Boston Housing Dataset with Keras"
      ],
      "metadata": {
        "id": "iWxhMrpYo6MC"
      }
    },
    {
      "cell_type": "code",
      "source": [
        "from keras.datasets import boston_housing\n",
        "\n",
        "# we're going to use the Bosting housing dataset, but load it from keras \n",
        "housing_data = boston_housing.load_data(test_split=0.2) #it comes with it's own test/train split :) \n",
        "(X_train, Y_train), (X_test, Y_test) = housing_data"
      ],
      "metadata": {
        "id": "mPniBtLFo2Q9",
        "colab": {
          "base_uri": "https://localhost:8080/"
        },
        "outputId": "965cb0d5-02b2-4817-c08b-df97c2f9675d"
      },
      "execution_count": 37,
      "outputs": [
        {
          "output_type": "stream",
          "name": "stdout",
          "text": [
            "Downloading data from https://storage.googleapis.com/tensorflow/tf-keras-datasets/boston_housing.npz\n",
            "57026/57026 [==============================] - 0s 0us/step\n"
          ]
        }
      ]
    },
    {
      "cell_type": "code",
      "source": [
        "# normalize the data\n",
        "scaler = StandardScaler()\n",
        "scaler.fit(X_train)\n",
        "X_train_norm = scaler.transform(X_train)\n",
        "X_test_norm = scaler.transform(X_test)"
      ],
      "metadata": {
        "id": "jzi3HCJ9o9qV"
      },
      "execution_count": 38,
      "outputs": []
    },
    {
      "cell_type": "markdown",
      "source": [
        "# Colab Tip!\n",
        "\n",
        "Can run command line commands in google colab by putting an '!' in front\n",
        "- ie `!pip install tensorflow_addons`"
      ],
      "metadata": {
        "id": "j_1tcqD-wjYU"
      }
    },
    {
      "cell_type": "code",
      "source": [
        "### need to execute this to get access to RSquare function\n",
        "!pip install tensorflow_addons"
      ],
      "metadata": {
        "colab": {
          "base_uri": "https://localhost:8080/"
        },
        "id": "DFHGeYbZo_PO",
        "outputId": "75220186-d2e3-4114-d84d-638eb3f0cf7c"
      },
      "execution_count": 39,
      "outputs": [
        {
          "output_type": "stream",
          "name": "stdout",
          "text": [
            "Looking in indexes: https://pypi.org/simple, https://us-python.pkg.dev/colab-wheels/public/simple/\n",
            "Collecting tensorflow_addons\n",
            "  Downloading tensorflow_addons-0.19.0-cp38-cp38-manylinux_2_17_x86_64.manylinux2014_x86_64.whl (1.1 MB)\n",
            "\u001b[2K     \u001b[90m━━━━━━━━━━━━━━━━━━━━━━━━━━━━━━━━━━━━━━━━\u001b[0m \u001b[32m1.1/1.1 MB\u001b[0m \u001b[31m16.8 MB/s\u001b[0m eta \u001b[36m0:00:00\u001b[0m\n",
            "\u001b[?25hRequirement already satisfied: typeguard>=2.7 in /usr/local/lib/python3.8/dist-packages (from tensorflow_addons) (2.7.1)\n",
            "Requirement already satisfied: packaging in /usr/local/lib/python3.8/dist-packages (from tensorflow_addons) (21.3)\n",
            "Requirement already satisfied: pyparsing!=3.0.5,>=2.0.2 in /usr/local/lib/python3.8/dist-packages (from packaging->tensorflow_addons) (3.0.9)\n",
            "Installing collected packages: tensorflow_addons\n",
            "Successfully installed tensorflow_addons-0.19.0\n"
          ]
        }
      ]
    },
    {
      "cell_type": "code",
      "source": [
        "from keras import models\n",
        "from keras import layers\n",
        "\n",
        "from tensorflow_addons.metrics import RSquare\n",
        "\n",
        "#build our model\n",
        "n_features = X_train.shape[1] # get the number of input values for the input layer\n",
        "\n",
        "model = Sequential(name='boston_housing1')   #initialize the model\n",
        "\n",
        "#add some layers. Dense is a fully connected layer\n",
        "model.add(layers.Dense(64, input_dim= n_features, activation='relu'))\n",
        "model.add(layers.Dense(64, activation='relu'))\n",
        "\n",
        "#Since we are doing a regressions, we only want one value as an ouput, so our last layer has a Dense layer with 1 neuron.\n",
        "model.add(layers.Dense(1)) #default activation function is \"linear\"\n",
        "\n",
        "from sklearn.metrics import r2_score\n",
        "# Compile model\n",
        "model.compile(loss='mean_squared_error',\n",
        "              optimizer='sgd', \n",
        "              metrics= RSquare()) #tf.keras.losses.MeanSquaredError()\n",
        "model.summary()"
      ],
      "metadata": {
        "colab": {
          "base_uri": "https://localhost:8080/"
        },
        "id": "CwlPcyl0pA9Q",
        "outputId": "fbdc52b3-365d-41e4-a900-770381b60b86"
      },
      "execution_count": 40,
      "outputs": [
        {
          "output_type": "stream",
          "name": "stdout",
          "text": [
            "Model: \"boston_housing1\"\n",
            "_________________________________________________________________\n",
            " Layer (type)                Output Shape              Param #   \n",
            "=================================================================\n",
            " dense_3 (Dense)             (None, 64)                896       \n",
            "                                                                 \n",
            " dense_4 (Dense)             (None, 64)                4160      \n",
            "                                                                 \n",
            " dense_5 (Dense)             (None, 1)                 65        \n",
            "                                                                 \n",
            "=================================================================\n",
            "Total params: 5,121\n",
            "Trainable params: 5,121\n",
            "Non-trainable params: 0\n",
            "_________________________________________________________________\n"
          ]
        }
      ]
    },
    {
      "cell_type": "code",
      "source": [
        "# train the model\n",
        "history = model.fit(X_train_norm, Y_train, epochs=50, validation_split=0.1, batch_size=15, verbose=1)\n",
        "\n",
        "print(\"----\"*30)\n",
        "\n",
        "# cross-validation; make predictions and get error\n",
        "test_mse_score, test_r2_score = model.evaluate(X_test_norm, Y_test)\n",
        "print('MSE:', test_mse_score)\n",
        "print('r2:', test_r2_score)"
      ],
      "metadata": {
        "colab": {
          "base_uri": "https://localhost:8080/"
        },
        "id": "5O0CcVhepDnx",
        "outputId": "82d5716c-b12e-47ba-ffb1-8c855daa7952"
      },
      "execution_count": 41,
      "outputs": [
        {
          "output_type": "stream",
          "name": "stdout",
          "text": [
            "Epoch 1/50\n",
            "25/25 [==============================] - 1s 11ms/step - loss: 297.9337 - r_square: -2.3377 - val_loss: 354.3061 - val_r_square: -7.3015\n",
            "Epoch 2/50\n",
            "25/25 [==============================] - 0s 4ms/step - loss: 207.4925 - r_square: -1.3245 - val_loss: 54.0231 - val_r_square: -0.2658\n",
            "Epoch 3/50\n",
            "25/25 [==============================] - 0s 4ms/step - loss: 48.9328 - r_square: 0.4518 - val_loss: 25.3744 - val_r_square: 0.4055\n",
            "Epoch 4/50\n",
            "25/25 [==============================] - 0s 4ms/step - loss: 39.7451 - r_square: 0.5547 - val_loss: 17.0351 - val_r_square: 0.6009\n",
            "Epoch 5/50\n",
            "25/25 [==============================] - 0s 5ms/step - loss: 29.0038 - r_square: 0.6751 - val_loss: 43.4445 - val_r_square: -0.0179\n",
            "Epoch 6/50\n",
            "25/25 [==============================] - 0s 5ms/step - loss: 22.6794 - r_square: 0.7459 - val_loss: 21.0542 - val_r_square: 0.5067\n",
            "Epoch 7/50\n",
            "25/25 [==============================] - 0s 5ms/step - loss: 23.5988 - r_square: 0.7356 - val_loss: 39.6069 - val_r_square: 0.0720\n",
            "Epoch 8/50\n",
            "25/25 [==============================] - 0s 4ms/step - loss: 32.5332 - r_square: 0.6355 - val_loss: 10.5079 - val_r_square: 0.7538\n",
            "Epoch 9/50\n",
            "25/25 [==============================] - 0s 4ms/step - loss: 13.2329 - r_square: 0.8518 - val_loss: 25.5373 - val_r_square: 0.4017\n",
            "Epoch 10/50\n",
            "25/25 [==============================] - 0s 4ms/step - loss: 16.8760 - r_square: 0.8109 - val_loss: 16.5145 - val_r_square: 0.6131\n",
            "Epoch 11/50\n",
            "25/25 [==============================] - 0s 4ms/step - loss: 13.6169 - r_square: 0.8475 - val_loss: 26.9650 - val_r_square: 0.3682\n",
            "Epoch 12/50\n",
            "25/25 [==============================] - 0s 4ms/step - loss: 27.4029 - r_square: 0.6930 - val_loss: 19.4662 - val_r_square: 0.5439\n",
            "Epoch 13/50\n",
            "25/25 [==============================] - 0s 4ms/step - loss: 14.9989 - r_square: 0.8320 - val_loss: 9.8547 - val_r_square: 0.7691\n",
            "Epoch 14/50\n",
            "25/25 [==============================] - 0s 4ms/step - loss: 11.0323 - r_square: 0.8764 - val_loss: 6.6713 - val_r_square: 0.8437\n",
            "Epoch 15/50\n",
            "25/25 [==============================] - 0s 4ms/step - loss: 13.7693 - r_square: 0.8457 - val_loss: 40.0353 - val_r_square: 0.0620\n",
            "Epoch 16/50\n",
            "25/25 [==============================] - 0s 4ms/step - loss: 26.5714 - r_square: 0.7023 - val_loss: 12.9128 - val_r_square: 0.6974\n",
            "Epoch 17/50\n",
            "25/25 [==============================] - 0s 4ms/step - loss: 13.7778 - r_square: 0.8457 - val_loss: 472.1524 - val_r_square: -10.0627\n",
            "Epoch 18/50\n",
            "25/25 [==============================] - 0s 4ms/step - loss: 116.9584 - r_square: -0.3103 - val_loss: 32.1234 - val_r_square: 0.2473\n",
            "Epoch 19/50\n",
            "25/25 [==============================] - 0s 4ms/step - loss: 29.6211 - r_square: 0.6682 - val_loss: 31.2623 - val_r_square: 0.2675\n",
            "Epoch 20/50\n",
            "25/25 [==============================] - 0s 4ms/step - loss: 18.4561 - r_square: 0.7932 - val_loss: 28.9859 - val_r_square: 0.3209\n",
            "Epoch 21/50\n",
            "25/25 [==============================] - 0s 4ms/step - loss: 15.3788 - r_square: 0.8277 - val_loss: 8.8922 - val_r_square: 0.7917\n",
            "Epoch 22/50\n",
            "25/25 [==============================] - 0s 4ms/step - loss: 15.8554 - r_square: 0.8224 - val_loss: 40.2075 - val_r_square: 0.0579\n",
            "Epoch 23/50\n",
            "25/25 [==============================] - 0s 5ms/step - loss: 13.3276 - r_square: 0.8507 - val_loss: 61.6766 - val_r_square: -0.4451\n",
            "Epoch 24/50\n",
            "25/25 [==============================] - 0s 5ms/step - loss: 12.2970 - r_square: 0.8622 - val_loss: 9.4919 - val_r_square: 0.7776\n",
            "Epoch 25/50\n",
            "25/25 [==============================] - 0s 5ms/step - loss: 7.6332 - r_square: 0.9145 - val_loss: 7.5925 - val_r_square: 0.8221\n",
            "Epoch 26/50\n",
            "25/25 [==============================] - 0s 4ms/step - loss: 7.5934 - r_square: 0.9149 - val_loss: 10.7796 - val_r_square: 0.7474\n",
            "Epoch 27/50\n",
            "25/25 [==============================] - 0s 4ms/step - loss: 7.0983 - r_square: 0.9205 - val_loss: 11.6805 - val_r_square: 0.7263\n",
            "Epoch 28/50\n",
            "25/25 [==============================] - 0s 4ms/step - loss: 14.5197 - r_square: 0.8373 - val_loss: 8.9321 - val_r_square: 0.7907\n",
            "Epoch 29/50\n",
            "25/25 [==============================] - 0s 4ms/step - loss: 10.3680 - r_square: 0.8838 - val_loss: 9.2252 - val_r_square: 0.7838\n",
            "Epoch 30/50\n",
            "25/25 [==============================] - 0s 4ms/step - loss: 7.4906 - r_square: 0.9161 - val_loss: 10.5774 - val_r_square: 0.7522\n",
            "Epoch 31/50\n",
            "25/25 [==============================] - 0s 5ms/step - loss: 6.5144 - r_square: 0.9270 - val_loss: 9.4838 - val_r_square: 0.7778\n",
            "Epoch 32/50\n",
            "25/25 [==============================] - 0s 4ms/step - loss: 7.3814 - r_square: 0.9173 - val_loss: 9.5505 - val_r_square: 0.7762\n",
            "Epoch 33/50\n",
            "25/25 [==============================] - 0s 4ms/step - loss: 5.0920 - r_square: 0.9430 - val_loss: 7.9750 - val_r_square: 0.8131\n",
            "Epoch 34/50\n",
            "25/25 [==============================] - 0s 4ms/step - loss: 4.4427 - r_square: 0.9502 - val_loss: 27.1512 - val_r_square: 0.3638\n",
            "Epoch 35/50\n",
            "25/25 [==============================] - 0s 5ms/step - loss: 5.1054 - r_square: 0.9428 - val_loss: 9.6807 - val_r_square: 0.7732\n",
            "Epoch 36/50\n",
            "25/25 [==============================] - 0s 4ms/step - loss: 4.3304 - r_square: 0.9515 - val_loss: 30.1639 - val_r_square: 0.2932\n",
            "Epoch 37/50\n",
            "25/25 [==============================] - 0s 4ms/step - loss: 8.1983 - r_square: 0.9082 - val_loss: 8.1077 - val_r_square: 0.8100\n",
            "Epoch 38/50\n",
            "25/25 [==============================] - 0s 4ms/step - loss: 5.2781 - r_square: 0.9409 - val_loss: 12.2202 - val_r_square: 0.7137\n",
            "Epoch 39/50\n",
            "25/25 [==============================] - 0s 4ms/step - loss: 4.9450 - r_square: 0.9446 - val_loss: 26.8862 - val_r_square: 0.3700\n",
            "Epoch 40/50\n",
            "25/25 [==============================] - 0s 4ms/step - loss: 4.8328 - r_square: 0.9459 - val_loss: 12.0372 - val_r_square: 0.7180\n",
            "Epoch 41/50\n",
            "25/25 [==============================] - 0s 4ms/step - loss: 9.1022 - r_square: 0.8980 - val_loss: 6.5743 - val_r_square: 0.8460\n",
            "Epoch 42/50\n",
            "25/25 [==============================] - 0s 4ms/step - loss: 3.9535 - r_square: 0.9557 - val_loss: 8.9896 - val_r_square: 0.7894\n",
            "Epoch 43/50\n",
            "25/25 [==============================] - 0s 4ms/step - loss: 4.3265 - r_square: 0.9515 - val_loss: 9.1451 - val_r_square: 0.7857\n",
            "Epoch 44/50\n",
            "25/25 [==============================] - 0s 4ms/step - loss: 3.7678 - r_square: 0.9578 - val_loss: 6.2203 - val_r_square: 0.8543\n",
            "Epoch 45/50\n",
            "25/25 [==============================] - 0s 5ms/step - loss: 6.6470 - r_square: 0.9255 - val_loss: 8.2330 - val_r_square: 0.8071\n",
            "Epoch 46/50\n",
            "25/25 [==============================] - 0s 4ms/step - loss: 5.2447 - r_square: 0.9412 - val_loss: 11.6043 - val_r_square: 0.7281\n",
            "Epoch 47/50\n",
            "25/25 [==============================] - 0s 4ms/step - loss: 5.8320 - r_square: 0.9347 - val_loss: 8.4168 - val_r_square: 0.8028\n",
            "Epoch 48/50\n",
            "25/25 [==============================] - 0s 4ms/step - loss: 4.7364 - r_square: 0.9469 - val_loss: 8.0945 - val_r_square: 0.8103\n",
            "Epoch 49/50\n",
            "25/25 [==============================] - 0s 4ms/step - loss: 4.0366 - r_square: 0.9548 - val_loss: 7.5604 - val_r_square: 0.8229\n",
            "Epoch 50/50\n",
            "25/25 [==============================] - 0s 4ms/step - loss: 3.3971 - r_square: 0.9619 - val_loss: 8.1720 - val_r_square: 0.8085\n",
            "------------------------------------------------------------------------------------------------------------------------\n",
            "4/4 [==============================] - 0s 4ms/step - loss: 14.3128 - r_square: 0.8281\n",
            "MSE: 14.312789916992188\n",
            "r2: 0.8280618786811829\n"
          ]
        }
      ]
    },
    {
      "cell_type": "code",
      "source": [
        "history.history #this will show you what was saved in the history variable"
      ],
      "metadata": {
        "id": "N2z5o-vRwBF7",
        "colab": {
          "base_uri": "https://localhost:8080/"
        },
        "outputId": "93ff1eab-ed59-4c75-b247-8d35c270e9c8"
      },
      "execution_count": 42,
      "outputs": [
        {
          "output_type": "execute_result",
          "data": {
            "text/plain": [
              "{'loss': [297.9337463378906,\n",
              "  207.49249267578125,\n",
              "  48.93276596069336,\n",
              "  39.74510955810547,\n",
              "  29.00383186340332,\n",
              "  22.679372787475586,\n",
              "  23.598840713500977,\n",
              "  32.5332145690918,\n",
              "  13.232922554016113,\n",
              "  16.875965118408203,\n",
              "  13.616901397705078,\n",
              "  27.40294075012207,\n",
              "  14.998894691467285,\n",
              "  11.032261848449707,\n",
              "  13.769330978393555,\n",
              "  26.571407318115234,\n",
              "  13.777750015258789,\n",
              "  116.95841217041016,\n",
              "  29.621063232421875,\n",
              "  18.456134796142578,\n",
              "  15.378830909729004,\n",
              "  15.855354309082031,\n",
              "  13.327588081359863,\n",
              "  12.297041893005371,\n",
              "  7.63321590423584,\n",
              "  7.5934271812438965,\n",
              "  7.09834098815918,\n",
              "  14.51973819732666,\n",
              "  10.368029594421387,\n",
              "  7.490592002868652,\n",
              "  6.514438629150391,\n",
              "  7.381352424621582,\n",
              "  5.0920090675354,\n",
              "  4.442652225494385,\n",
              "  5.105442523956299,\n",
              "  4.330360412597656,\n",
              "  8.198259353637695,\n",
              "  5.278106689453125,\n",
              "  4.944989204406738,\n",
              "  4.83277702331543,\n",
              "  9.102224349975586,\n",
              "  3.9535131454467773,\n",
              "  4.326504230499268,\n",
              "  3.7677865028381348,\n",
              "  6.6469526290893555,\n",
              "  5.244693279266357,\n",
              "  5.832001686096191,\n",
              "  4.736369609832764,\n",
              "  4.036562919616699,\n",
              "  3.3970813751220703],\n",
              " 'r_square': [-2.337707281112671,\n",
              "  -1.3244993686676025,\n",
              "  0.4518148899078369,\n",
              "  0.5547425746917725,\n",
              "  0.6750754117965698,\n",
              "  0.745927095413208,\n",
              "  0.7356261014938354,\n",
              "  0.6355361938476562,\n",
              "  0.8517541289329529,\n",
              "  0.8109412789344788,\n",
              "  0.8474521040916443,\n",
              "  0.6930099725723267,\n",
              "  0.83197021484375,\n",
              "  0.876407265663147,\n",
              "  0.8457444906234741,\n",
              "  0.7023252248764038,\n",
              "  0.8456505537033081,\n",
              "  -0.3102656602859497,\n",
              "  0.6681604385375977,\n",
              "  0.7932393550872803,\n",
              "  0.8277137279510498,\n",
              "  0.8223754167556763,\n",
              "  0.8506932258605957,\n",
              "  0.8622386455535889,\n",
              "  0.9144864082336426,\n",
              "  0.914932131767273,\n",
              "  0.9204786419868469,\n",
              "  0.8373377919197083,\n",
              "  0.8838488459587097,\n",
              "  0.9160842299461365,\n",
              "  0.9270199537277222,\n",
              "  0.9173080921173096,\n",
              "  0.9429551959037781,\n",
              "  0.9502297639846802,\n",
              "  0.9428046345710754,\n",
              "  0.9514877796173096,\n",
              "  0.9081563353538513,\n",
              "  0.9408702850341797,\n",
              "  0.9446021914482117,\n",
              "  0.9458591938018799,\n",
              "  0.8980293869972229,\n",
              "  0.9557095170021057,\n",
              "  0.9515308737754822,\n",
              "  0.9577901363372803,\n",
              "  0.9255354404449463,\n",
              "  0.9412446022033691,\n",
              "  0.9346651434898376,\n",
              "  0.9469392895698547,\n",
              "  0.9547790288925171,\n",
              "  0.9619431495666504],\n",
              " 'val_loss': [354.3060607910156,\n",
              "  54.02313232421875,\n",
              "  25.374393463134766,\n",
              "  17.035139083862305,\n",
              "  43.44446563720703,\n",
              "  21.054237365722656,\n",
              "  39.60692596435547,\n",
              "  10.507942199707031,\n",
              "  25.537309646606445,\n",
              "  16.51447868347168,\n",
              "  26.964954376220703,\n",
              "  19.466167449951172,\n",
              "  9.85467529296875,\n",
              "  6.6712646484375,\n",
              "  40.03531265258789,\n",
              "  12.91275405883789,\n",
              "  472.1524353027344,\n",
              "  32.12336730957031,\n",
              "  31.262346267700195,\n",
              "  28.985876083374023,\n",
              "  8.892167091369629,\n",
              "  40.20747375488281,\n",
              "  61.676578521728516,\n",
              "  9.491893768310547,\n",
              "  7.59253454208374,\n",
              "  10.77961540222168,\n",
              "  11.680482864379883,\n",
              "  8.932144165039062,\n",
              "  9.225247383117676,\n",
              "  10.577373504638672,\n",
              "  9.483799934387207,\n",
              "  9.550511360168457,\n",
              "  7.974974632263184,\n",
              "  27.151193618774414,\n",
              "  9.68073558807373,\n",
              "  30.163850784301758,\n",
              "  8.107693672180176,\n",
              "  12.220185279846191,\n",
              "  26.886159896850586,\n",
              "  12.037181854248047,\n",
              "  6.574268817901611,\n",
              "  8.989607810974121,\n",
              "  9.1450777053833,\n",
              "  6.220281600952148,\n",
              "  8.2330322265625,\n",
              "  11.60429859161377,\n",
              "  8.416753768920898,\n",
              "  8.094460487365723,\n",
              "  7.560431480407715,\n",
              "  8.171972274780273],\n",
              " 'val_r_square': [-7.3015241622924805,\n",
              "  -0.26578235626220703,\n",
              "  0.4054684638977051,\n",
              "  0.6008602380752563,\n",
              "  -0.01792013645172119,\n",
              "  0.5066913366317749,\n",
              "  0.07199490070343018,\n",
              "  0.7537949681282043,\n",
              "  0.4016512632369995,\n",
              "  0.6130595207214355,\n",
              "  0.36820101737976074,\n",
              "  0.5439003705978394,\n",
              "  0.7691012620925903,\n",
              "  0.8436897993087769,\n",
              "  0.061957597732543945,\n",
              "  0.6974493265151978,\n",
              "  -10.062708854675293,\n",
              "  0.24733740091323853,\n",
              "  0.2675114870071411,\n",
              "  0.3208500146865845,\n",
              "  0.7916531562805176,\n",
              "  0.057923734188079834,\n",
              "  -0.4451054334640503,\n",
              "  0.7776013612747192,\n",
              "  0.8221040964126587,\n",
              "  0.7474295496940613,\n",
              "  0.7263219356536865,\n",
              "  0.7907165288925171,\n",
              "  0.7838490009307861,\n",
              "  0.7521681785583496,\n",
              "  0.7777910232543945,\n",
              "  0.7762279510498047,\n",
              "  0.8131433725357056,\n",
              "  0.3638373017311096,\n",
              "  0.7731767296791077,\n",
              "  0.29324960708618164,\n",
              "  0.8100336790084839,\n",
              "  0.7136764526367188,\n",
              "  0.3700472116470337,\n",
              "  0.7179642915725708,\n",
              "  0.845962405204773,\n",
              "  0.7893701195716858,\n",
              "  0.7857273817062378,\n",
              "  0.8542564511299133,\n",
              "  0.8070969581604004,\n",
              "  0.7281069159507751,\n",
              "  0.8027923107147217,\n",
              "  0.8103437423706055,\n",
              "  0.8228562474250793,\n",
              "  0.8085275888442993]}"
            ]
          },
          "metadata": {},
          "execution_count": 42
        }
      ]
    },
    {
      "cell_type": "code",
      "source": [
        "import pandas\n",
        "#pandas.DataFrame(history.history).plot(figsize=(8,5), title='Boston Housing')\n",
        "#plt.show()\n",
        "\n",
        "import keras\n",
        "from matplotlib import pyplot as plt\n",
        "plt.plot(history.history['loss'])\n",
        "plt.plot(history.history['val_loss'])\n",
        "plt.title('model loss')\n",
        "plt.ylabel('MSE')\n",
        "plt.xlabel('epoch')\n",
        "plt.legend(['train', 'val'])\n",
        "plt.show()"
      ],
      "metadata": {
        "colab": {
          "base_uri": "https://localhost:8080/",
          "height": 295
        },
        "id": "FQC0Yz9wqrb-",
        "outputId": "aa6e460b-3500-46f0-e572-c9de0038883c"
      },
      "execution_count": 43,
      "outputs": [
        {
          "output_type": "display_data",
          "data": {
            "text/plain": [
              "<Figure size 432x288 with 1 Axes>"
            ],
            "image/png": "[encoded data removed]"
          },
          "metadata": {
            "needs_background": "light"
          }
        }
      ]
    },
    {
      "cell_type": "code",
      "source": [
        "import keras\n",
        "from matplotlib import pyplot as plt\n",
        "plt.plot(history.history['r_square'])\n",
        "plt.plot(history.history['val_r_square'])\n",
        "plt.title('model R^2')\n",
        "plt.ylabel('R^2')\n",
        "plt.xlabel('epoch')\n",
        "plt.legend(['train', 'val'])\n",
        "plt.show()"
      ],
      "metadata": {
        "colab": {
          "base_uri": "https://localhost:8080/",
          "height": 295
        },
        "id": "7GhwgH-Rp1O1",
        "outputId": "6e5caee6-4321-4215-bf9c-823faa4063fa"
      },
      "execution_count": 44,
      "outputs": [
        {
          "output_type": "display_data",
          "data": {
            "text/plain": [
              "<Figure size 432x288 with 1 Axes>"
            ],
            "image/png": "[encoded data removed]"
          },
          "metadata": {
            "needs_background": "light"
          }
        }
      ]
    },
    {
      "cell_type": "markdown",
      "source": [
        "# In Class Exercise #2\n",
        "What parameters from the models above do you think you can/should change? \n",
        "\n",
        "\n",
        "Try these\n",
        "- Change the number of neurons in each layer.  \n",
        "- Add a layer to the model.\n",
        "- Change the activation function of the model, [here is the documentation](https://keras.io/api/layers/activations/)\n",
        "- Change the optimizer, [here is the documentation](https://keras.io/api/optimizers/) with a list of options\n",
        "- look at the [metrics](https://keras.io/api/metrics/) try adding another metric."
      ],
      "metadata": {
        "id": "35EulYVbpItw"
      }
    },
    {
      "cell_type": "code",
      "source": [],
      "metadata": {
        "id": "zSHfkbwzpFmh"
      },
      "execution_count": null,
      "outputs": []
    }
  ]
}