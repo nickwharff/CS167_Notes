{
  "nbformat": 4,
  "nbformat_minor": 0,
  "metadata": {
    "colab": {
      "provenance": [],
      "authorship_tag": "ABX9TyMe38hHVf0bqFLUl068qToB",
      "include_colab_link": true
    },
    "kernelspec": {
      "name": "python3",
      "display_name": "Python 3"
    },
    "language_info": {
      "name": "python"
    }
  },
  "cells": [
    {
      "cell_type": "markdown",
      "metadata": {
        "id": "view-in-github",
        "colab_type": "text"
      },
      "source": [
        "<a href=\"https://colab.research.google.com/github/nickwharff/CS167_Notes/blob/main/J23_cs167_colab_tutorial.ipynb\" target=\"_parent\"><img src=\"https://colab.research.google.com/assets/colab-badge.svg\" alt=\"Open In Colab\"/></a>"
      ]
    },
    {
      "cell_type": "markdown",
      "source": [
        "# Colab Tutorial\n",
        "Jan 3rd, 2023\n",
        "\n",
        "You can run Python code in Colab. Use the short cut `shift + return`\n",
        "\n",
        "Markdown basics:\n",
        "-  '-' automatic bullet points\n",
        "- enter twice for new line\n",
        "- **bold text**, also __bold text__\n",
        "- *italicize*, also _italicize_\n",
        "- `typewriter/code text`\n",
        "- add link using [open bracket](www.google.com)\n",
        "- can also add a link using [link button above](https://)\n",
        "  - new level of indent using tab\n",
        "- can use [markdown table generator](https://www.tablesgenerator.com/markdown_tables)\n",
        "\n",
        "\n",
        "| A | B | C |\n",
        "|:---|:---:|---:|\n",
        "| 1 | 2 | 3 |\n",
        "| 4 | 5 | 6 |"
      ],
      "metadata": {
        "id": "yA8MoZtvh_Kx"
      }
    },
    {
      "cell_type": "code",
      "source": [
        "x = 3 + 2\n",
        "x; # colab automatically prints last line, add semicolon to avoid this"
      ],
      "metadata": {
        "colab": {
          "base_uri": "https://localhost:8080/"
        },
        "id": "d8nqDIvsiE1A",
        "outputId": "4e8e9b5d-0e33-4647-c736-c35647af8c6c"
      },
      "execution_count": 2,
      "outputs": [
        {
          "output_type": "execute_result",
          "data": {
            "text/plain": [
              "5"
            ]
          },
          "metadata": {},
          "execution_count": 2
        }
      ]
    },
    {
      "cell_type": "markdown",
      "source": [
        "# Google colab only runs the cell you request"
      ],
      "metadata": {
        "id": "2C_wWVF4kLhx"
      }
    },
    {
      "cell_type": "code",
      "source": [
        "def my_function(x,y):\n",
        "  print(x+y)\n",
        "\n",
        "my_function(1,5)"
      ],
      "metadata": {
        "colab": {
          "base_uri": "https://localhost:8080/"
        },
        "id": "1l_DBuNBkQui",
        "outputId": "f8737c5a-0b58-4ef6-a359-a4be4b14c405"
      },
      "execution_count": 3,
      "outputs": [
        {
          "output_type": "stream",
          "name": "stdout",
          "text": [
            "6\n"
          ]
        }
      ]
    }
  ]
}