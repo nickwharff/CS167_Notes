{
  "cells": [
    {
      "cell_type": "markdown",
      "metadata": {
        "id": "view-in-github",
        "colab_type": "text"
      },
      "source": [
        "<a href=\"https://colab.research.google.com/github/nickwharff/CS167_Notes/blob/main/Copy_of_Day01_Part2_Python_and_Pandas.ipynb\" target=\"_parent\"><img src=\"https://colab.research.google.com/assets/colab-badge.svg\" alt=\"Open In Colab\"/></a>"
      ]
    },
    {
      "cell_type": "markdown",
      "metadata": {
        "id": "QzNMtDgFBX8i"
      },
      "source": [
        "# CS167: Day01\n",
        "## Part 2: Python and Pandas\n",
        "\n",
        "#### CS167: Machine Learning, J-Term 2023\n",
        "\n",
        "Tuesday, January 3rd, 2023 -- Session II (10:30-11:45)\n",
        "\n",
        "[⏮ Day01 Part 1](https://github.com/merriekay/j23_cs167_notes/blob/main/Day01_Part%201--Welcome%20to%20CS167.ipynb)        [⏩ Day02 Part 1]()"
      ]
    },
    {
      "cell_type": "markdown",
      "metadata": {
        "id": "DiImFIuvBX8l"
      },
      "source": [
        "# Overview of Today:\n",
        "\n",
        "How this is going to work:\n",
        "\n",
        "|               | **Start Time** | **End Time** |\n",
        "|---------------|----------------|--------------|\n",
        "| ☑️ **Session 1** |    9:00 am     |   10:15 am |\n",
        "| 🔲 **Session 2** |    10:30 am    |   11:45 am   |"
      ]
    },
    {
      "cell_type": "markdown",
      "metadata": {
        "id": "jfJHVP6xBX8m"
      },
      "source": [
        "## Part 2 Plan: \n",
        "\n",
        "This part of Day01 is a lot more 'lab-like', the goal is to get you comfortable and familiar with iPython Notebooks, Python, Pandas, Github Classroom, and Google Colab. \n",
        "\n",
        "> Feel free to work ahead (you won't hurt my feelings), and together!\n",
        "\n",
        "\n",
        "- Google Colab Demonstration/Tutorial\n",
        "- Python Refresher\n",
        "- Intro to Pandas"
      ]
    },
    {
      "cell_type": "markdown",
      "metadata": {
        "id": "saXo2YggBX8m"
      },
      "source": [
        "# Intro to Google Colab:\n",
        "\n",
        "## What is Google colab?\n",
        "Colab is a great browser-based tool for developing IPython Notebooks. Colab allows anybody to write and execute Python code through the browser, and is especially well suited to machine learning, data analysis and education.\n",
        "\n",
        "It makes it really easy to open up someone else's notebook and run it yourself. It also makes it easy to annotate and explain what is happening in the code using Markdown cells."
      ]
    },
    {
      "cell_type": "markdown",
      "metadata": {
        "id": "nmAfj2jSBX8m"
      },
      "source": [
        "## How is Colab different from what you're using right now? \n",
        "- I'm currently using Jupyter Notebooks to present these slides, Colab doesn't work with RISE, the plugin I'm using to present things, so in class, I'll usually use Jupyter (which runs locally, and pre-dates Colab). "
      ]
    },
    {
      "cell_type": "markdown",
      "metadata": {
        "id": "W0oMx6ZcBX8n"
      },
      "source": [
        "## RISE + Jupyter Demo\n",
        "- A neat thing that this configuration allows me to do is run and edit code live while presenting slides. "
      ]
    },
    {
      "cell_type": "code",
      "execution_count": null,
      "metadata": {
        "id": "WAoxBNrLBX8n",
        "outputId": "82a257db-a506-4a66-d7cb-66a7dc5299ff",
        "colab": {
          "base_uri": "https://localhost:8080/"
        }
      },
      "outputs": [
        {
          "output_type": "stream",
          "name": "stdout",
          "text": [
            "10 3.14 machine learning hi x [1, 2, 3]\n"
          ]
        }
      ],
      "source": [
        "a=10\n",
        "b=3.14\n",
        "c = \"machine learning\"\n",
        "d = 'hi'\n",
        "e = 'x'\n",
        "f = [1,2,3]\n",
        "print(a,b,c,d,e,f)"
      ]
    },
    {
      "cell_type": "markdown",
      "metadata": {
        "id": "laJbF0AVBX8r"
      },
      "source": [
        "## Google Colab Demonstration\n",
        "\n",
        "For today's exercises, I'm going to ask that you use Google Colab. Before we dive in, I want to give a quick tutorial of some of the main features of Google Colab: \n",
        "\n",
        "- Adding Cells\n",
        "    - Text Cells\n",
        "    - Code Cells\n",
        "- Markdown Basics\n",
        "    - headings\n",
        "    - new line\n",
        "    - bold\n",
        "    - code\n",
        "    - italics\n",
        "    - lists and bullet points\n",
        "- Running Cells\n",
        "    - `shift + return`\n",
        "- Saving:\n",
        "    - to Google Drive\n",
        "    - to GitHub"
      ]
    },
    {
      "cell_type": "markdown",
      "metadata": {
        "id": "5-YYYmweBX8r"
      },
      "source": [
        "## What I'm asking of you:\n",
        "\n",
        "On Blackboard, you should find a file called `Day01_P2_Notes.txt`. This is the outline for today's Python Refresher course.\n",
        "\n",
        "For the rest of the class period, here's what I'm expecting:\n",
        "- Please don't just copy, paste, and run the code... \n",
        "    - take a second before running it and discuss with your group what you think is going to happen. This really helps us to understand where our underlying assumptions are incorrect."
      ]
    },
    {
      "cell_type": "markdown",
      "metadata": {
        "id": "LgAF4-mhBX8s"
      },
      "source": [
        "- When the outcome is different than you expected, dig in, and try to figure out why. If you're not sure why, raise your hand, and I'll come help explain. \n",
        "    - what does this difference say about how Python works?"
      ]
    },
    {
      "cell_type": "markdown",
      "metadata": {
        "id": "JWDzj7mXBX8s"
      },
      "source": [
        "- Answer the questions from the slides in text cells in your notebook. \n",
        "    - if something was of interest, add a text cell and describe what was of note. "
      ]
    },
    {
      "cell_type": "markdown",
      "metadata": {
        "id": "50TI_Zz3BX8s"
      },
      "source": [
        "# Let's get started!\n",
        "\n",
        "## Step 1: Create a new notebook\n",
        "\n",
        "There are two ways to do this. "
      ]
    },
    {
      "cell_type": "markdown",
      "metadata": {
        "id": "9x0oZTyABX8s"
      },
      "source": [
        "1. From Google Drive: https://drive.google.com/ \n",
        "> You may need to 'connect more apps', and select Google Colaboratory. \n",
        "<div>\n",
        "<img src=\"https://github.com/merriekay/j23_cs167_notes/blob/main/images/day01_p2_newcolab1.png?raw=1\"/ width=500>\n",
        "</div>\n"
      ]
    },
    {
      "cell_type": "markdown",
      "metadata": {
        "id": "bg0JBxmOBX8t"
      },
      "source": [
        "2. From Google Colab: https://colab.research.google.com/\n",
        "<div>\n",
        "<img src=\"https://github.com/merriekay/j23_cs167_notes/blob/main/images/day01_p2_newcolab.png?raw=1\"/ width=300>\n",
        "</div>\n"
      ]
    },
    {
      "cell_type": "markdown",
      "metadata": {
        "id": "mNXTqt-zBX8t"
      },
      "source": [
        "# 🫣 Wait, what am I supposed to be doing?\n",
        "\n",
        "Make sure you give your notebook a name (maybe `Day01_p2_notes.ipynb`), and save it to your Google Drive somewhere where you can find it.\n",
        "\n",
        "Your workflow for the rest of class should look something like this: \n",
        "- you should have the `Day01_P2_Notes.txt` file open, as well as your Colab Notebook. \n",
        "- Copy a section of text from the .txt file and paste it into a new cell in your Colab Notebook.\n",
        "- Take a minute and look over the code and predict what will happen. Some cells have specific instructions as to what you should be trying to predict. \n",
        "- Run the cell, and see if your prediction was correct. \n",
        "    - If so, great! Move on. \n",
        "    - If not, even better--you get to dig into why your expectations were different than how it actually worked, which is a great opportunity to learn something new :)\n",
        "- Move on to the next cell and repeat! "
      ]
    },
    {
      "cell_type": "markdown",
      "metadata": {
        "id": "rRe_liu0BX8t"
      },
      "source": [
        "For the Python review, I'm going to let you all go through it at your own pace, but I will interrupt and go over some of the `pandas` material when I notice people ready to get into it. \n",
        "\n",
        "I'll be walking around to provide moral support, nudges in the (hopefully) correct direction, and occasional dance moves (if the music you put on the shared playlist is good enough to make me dance🕺🏽🪩). \n",
        "> Feel free to flag me down if you get stuck, or don't understand how/why something is working."
      ]
    },
    {
      "cell_type": "markdown",
      "metadata": {
        "id": "SybX_WmUBX8t"
      },
      "source": [
        "# Accessing Data\n",
        "\n",
        "Google Colab is a cloud-based tool, which means that we need to store our data in the cloud as well. We cannot simply reference our local data and expect it to work. \n",
        "\n",
        "Go ahead and download the `restaurant.csv` file from Blackboard. It is in the Datasets folder. \n",
        "<div>\n",
        "<img src=\"https://github.com/merriekay/j23_cs167_notes/blob/main/images/restaurantcsv.png?raw=1\"/ width=600>\n",
        "</div>\n",
        "\n",
        "You'll need to put this file into your Google Drive. I would recommend having a `CS167` folder and a `datasets` folder inside of your `CS167` folder. "
      ]
    },
    {
      "cell_type": "markdown",
      "metadata": {
        "id": "ZafytZL5BX8u"
      },
      "source": [
        "To access this file in Google Colab, you'll need a little bit of code. "
      ]
    },
    {
      "cell_type": "code",
      "execution_count": null,
      "metadata": {
        "id": "VHJhAZtJBX8u"
      },
      "outputs": [],
      "source": [
        "# The first step is to mount your Google Drive to your Colab account. \n",
        "#You will be asked to authorize Colab to access your Google Drive. Follow the steps they lead you through.\n",
        "\n",
        "#this will only work in Google Colab.\n",
        "\n",
        "from google.colab import drive\n",
        "drive.mount('/content/drive')"
      ]
    },
    {
      "cell_type": "markdown",
      "metadata": {
        "id": "RQWHFE3zBX8u"
      },
      "source": [
        "# 🐼 Pandas\n",
        "__Pandas__ is a super powerful Python data analysis library. \n",
        "- it's built on top of another super powerful libray called `numpy`\n",
        "\n",
        "Using Google Colab, `pandas` should already be installed. If you see `In [*]` next to a cell, it means your computer is working on the task. "
      ]
    },
    {
      "cell_type": "code",
      "execution_count": null,
      "metadata": {
        "id": "EWmb_noABX8u"
      },
      "outputs": [],
      "source": [
        "#you should be able to run this without any issue.\n",
        "import pandas as pd"
      ]
    },
    {
      "cell_type": "markdown",
      "metadata": {
        "id": "KFed_o8zBX8u"
      },
      "source": [
        "## Creating a `DataFrame`:\n",
        "\n",
        "In `pandas`,there are two main datatypes, the first of which is a `DataFrame`. \n",
        "\n",
        "[Pandas Documentation](https://pandas.pydata.org/docs/reference/api/pandas.DataFrame.html) defines `DataFrames` as: \n",
        "> Two-dimensional, size-mutable, potentially heterogeneous tabular data.\n",
        "\n",
        "\n",
        "- basically, think of `DataFrames` as our excel sheets--two dimensional, tabular data.\n",
        "- Each column has a name, and you can use these names to filter and create subsets of data. \n",
        "- often, you'll see `DataFrames` abbreviated to `df`. "
      ]
    },
    {
      "cell_type": "code",
      "execution_count": null,
      "metadata": {
        "id": "mL1C_lhrBX8u",
        "outputId": "bbe33744-dad0-41ac-f58c-2ab5309dcc2a"
      },
      "outputs": [
        {
          "name": "stdout",
          "output_type": "stream",
          "text": [
            "data is a  <class 'pandas.core.frame.DataFrame'>\n"
          ]
        }
      ],
      "source": [
        "#use this line in Colab:\n",
        "#data = pd.read_csv('/content/drive/MyDrive/Courses/CS 167 January 2023/datasets/restaurant.csv')\n",
        "\n",
        "#this line is for Jupyter\n",
        "data = pd.read_csv('datasets/restaurant.csv')\n",
        "print(\"data is a \", type(data))"
      ]
    },
    {
      "cell_type": "markdown",
      "metadata": {
        "id": "RGUML0eeBX8v"
      },
      "source": [
        "### 📣 Helpful Method Alert: `df.head()`\n",
        "\n",
        "The `.head()` method can be called on any DataFrame, and by default will display the first 5 lines rows of the data, as well as the names of the columns. \n",
        "- if you want it to display more than 5 rows, you can provide a number as an argument to the method.\n",
        "\n",
        "In IPython notebooks, whatever you leave at the end of a cell will automatically output.\n",
        "\n",
        "So, when you put those two facts together, you get this nifty functionality: "
      ]
    },
    {
      "cell_type": "code",
      "execution_count": null,
      "metadata": {
        "id": "W3l17iR3BX8v",
        "outputId": "97dda4b9-cfb9-4229-eccf-ec1185b5d90c"
      },
      "outputs": [
        {
          "data": {
            "text/html": [
              "<div>\n",
              "<style scoped>\n",
              "    .dataframe tbody tr th:only-of-type {\n",
              "        vertical-align: middle;\n",
              "    }\n",
              "\n",
              "    .dataframe tbody tr th {\n",
              "        vertical-align: top;\n",
              "    }\n",
              "\n",
              "    .dataframe thead th {\n",
              "        text-align: right;\n",
              "    }\n",
              "</style>\n",
              "<table border=\"1\" class=\"dataframe\">\n",
              "  <thead>\n",
              "    <tr style=\"text-align: right;\">\n",
              "      <th></th>\n",
              "      <th>alt</th>\n",
              "      <th>bar</th>\n",
              "      <th>fri</th>\n",
              "      <th>hun</th>\n",
              "      <th>pat</th>\n",
              "      <th>price</th>\n",
              "      <th>rain</th>\n",
              "      <th>res</th>\n",
              "      <th>type</th>\n",
              "      <th>est</th>\n",
              "      <th>target</th>\n",
              "    </tr>\n",
              "  </thead>\n",
              "  <tbody>\n",
              "    <tr>\n",
              "      <th>0</th>\n",
              "      <td>Yes</td>\n",
              "      <td>No</td>\n",
              "      <td>No</td>\n",
              "      <td>Yes</td>\n",
              "      <td>Some</td>\n",
              "      <td>$$$</td>\n",
              "      <td>No</td>\n",
              "      <td>Yes</td>\n",
              "      <td>French</td>\n",
              "      <td>0-10</td>\n",
              "      <td>Yes</td>\n",
              "    </tr>\n",
              "    <tr>\n",
              "      <th>1</th>\n",
              "      <td>Yes</td>\n",
              "      <td>No</td>\n",
              "      <td>No</td>\n",
              "      <td>Yes</td>\n",
              "      <td>Full</td>\n",
              "      <td>$</td>\n",
              "      <td>No</td>\n",
              "      <td>No</td>\n",
              "      <td>Thai</td>\n",
              "      <td>30-60</td>\n",
              "      <td>No</td>\n",
              "    </tr>\n",
              "    <tr>\n",
              "      <th>2</th>\n",
              "      <td>No</td>\n",
              "      <td>Yes</td>\n",
              "      <td>No</td>\n",
              "      <td>No</td>\n",
              "      <td>Some</td>\n",
              "      <td>$</td>\n",
              "      <td>No</td>\n",
              "      <td>No</td>\n",
              "      <td>Burger</td>\n",
              "      <td>0-10</td>\n",
              "      <td>Yes</td>\n",
              "    </tr>\n",
              "    <tr>\n",
              "      <th>3</th>\n",
              "      <td>Yes</td>\n",
              "      <td>No</td>\n",
              "      <td>Yes</td>\n",
              "      <td>Yes</td>\n",
              "      <td>Full</td>\n",
              "      <td>$</td>\n",
              "      <td>No</td>\n",
              "      <td>No</td>\n",
              "      <td>Thai</td>\n",
              "      <td>10-30</td>\n",
              "      <td>Yes</td>\n",
              "    </tr>\n",
              "    <tr>\n",
              "      <th>4</th>\n",
              "      <td>Yes</td>\n",
              "      <td>No</td>\n",
              "      <td>Yes</td>\n",
              "      <td>No</td>\n",
              "      <td>Full</td>\n",
              "      <td>$$$</td>\n",
              "      <td>No</td>\n",
              "      <td>Yes</td>\n",
              "      <td>French</td>\n",
              "      <td>&gt;60</td>\n",
              "      <td>No</td>\n",
              "    </tr>\n",
              "  </tbody>\n",
              "</table>\n",
              "</div>"
            ],
            "text/plain": [
              "   alt  bar  fri  hun   pat price rain  res    type    est target\n",
              "0  Yes   No   No  Yes  Some   $$$   No  Yes  French   0-10    Yes\n",
              "1  Yes   No   No  Yes  Full     $   No   No    Thai  30-60     No\n",
              "2   No  Yes   No   No  Some     $   No   No  Burger   0-10    Yes\n",
              "3  Yes   No  Yes  Yes  Full     $   No   No    Thai  10-30    Yes\n",
              "4  Yes   No  Yes   No  Full   $$$   No  Yes  French    >60     No"
            ]
          },
          "execution_count": 14,
          "metadata": {},
          "output_type": "execute_result"
        }
      ],
      "source": [
        "data.head()"
      ]
    },
    {
      "cell_type": "markdown",
      "metadata": {
        "id": "kNQu9u82BX8v"
      },
      "source": [
        "## DataFrame Shape\n",
        "Want to know the dimensions of your DataFrame? Use `df.shape`"
      ]
    },
    {
      "cell_type": "code",
      "execution_count": null,
      "metadata": {
        "id": "1UIoQr-3BX8v",
        "outputId": "fb060ff1-9387-4c83-f993-1252f02e817c"
      },
      "outputs": [
        {
          "data": {
            "text/plain": [
              "(12, 11)"
            ]
          },
          "execution_count": 30,
          "metadata": {},
          "output_type": "execute_result"
        }
      ],
      "source": [
        "data.shape"
      ]
    }
  ],
  "metadata": {
    "celltoolbar": "Slideshow",
    "kernelspec": {
      "display_name": "Python 3",
      "language": "python",
      "name": "python3"
    },
    "language_info": {
      "codemirror_mode": {
        "name": "ipython",
        "version": 3
      },
      "file_extension": ".py",
      "mimetype": "text/x-python",
      "name": "python",
      "nbconvert_exporter": "python",
      "pygments_lexer": "ipython3",
      "version": "3.8.3"
    },
    "colab": {
      "provenance": [],
      "include_colab_link": true
    }
  },
  "nbformat": 4,
  "nbformat_minor": 0
}