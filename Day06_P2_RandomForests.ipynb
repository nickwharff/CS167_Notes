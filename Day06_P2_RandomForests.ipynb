{
  "cells": [
    {
      "cell_type": "markdown",
      "metadata": {
        "id": "view-in-github",
        "colab_type": "text"
      },
      "source": [
        "<a href=\"https://colab.research.google.com/github/nickwharff/CS167_Notes/blob/main/Day06_P2_RandomForests.ipynb\" target=\"_parent\"><img src=\"https://colab.research.google.com/assets/colab-badge.svg\" alt=\"Open In Colab\"/></a>"
      ]
    },
    {
      "cell_type": "markdown",
      "metadata": {
        "id": "rCQ0hEaq9shP"
      },
      "source": [
        "# CS167: Day06\n",
        "## Part 2: Random Forests\n",
        "\n",
        "#### CS167: Machine Learning, J-Term 2023\n",
        "\n",
        "Tuesday, January 10th, 2023 -- Session II\n",
        "\n",
        "[⏮ Day06 Part 1]() | [Day07 Part 1⏩]()"
      ]
    },
    {
      "cell_type": "markdown",
      "metadata": {
        "id": "QPyyKiW39shT"
      },
      "source": [
        "## This Week Overview:\n",
        "\n",
        "| **Date** | **Day of Week** | **Day of Class** | **Topic**                               | **Assigned** | **Due (11:59pm)** |\n",
        "|----------|-----------------|------------------|-----------------------------------------|--------------|-------------------|\n",
        "| 1/9/23   | M               | Day05            | Decision Trees Part I                   | [N3](https://classroom.github.com/a/960Y0T8W)           | Q1               |\n",
        "|          |                 |                  | Decision Trees Part II                  |              |                   |\n",
        "| 1/10/23  | T               | Day06            | Intro to Scikit Learn                   | [N4](https://classroom.github.com/a/BFoBfBrR)           | N3                |\n",
        "|          |                 |                  | Random Forests                          |              |                   |\n",
        "| 1/11/23  | W               | Day07            | SVMs                                    | P1           | N4                |\n",
        "|          |                 |                  | PCA                                     |              |                   |\n",
        "| 1/12/23  | R               | Day08            | Intro to Neural Networks -- Percpetrons | N5           |                   |\n",
        "|          |                 |                  | Perceptron Code                         |              |                   |\n",
        "| 1/13/23  | F               | Day09            | Artifical Neural Networks               | Q2           | N5                |\n",
        "|          |                 |                  | ANN Code                                |              |                   |\n"
      ]
    },
    {
      "cell_type": "markdown",
      "metadata": {
        "id": "ODGihVDX9shU"
      },
      "source": [
        "## Helpful Links:\n",
        "📆 [Course Schedule](https://docs.google.com/spreadsheets/d/e/2PACX-1vStj3FCEJqloUMLn2VtHa4yy1ILY6WvABhu4jd4cVUpPGkrx1mEjfTFmd77DMESR9HJ-8UBxgMDJL06/pubhtml?gid=0&single=true) | 🙋[PollEverywhere](https://pollev.com/meredithmoore011) | 📜 [Syllabus](https://analytics.drake.edu/~moore/j23_cs167/Syllabus.html)\n"
      ]
    },
    {
      "cell_type": "markdown",
      "metadata": {
        "id": "kftOY70_9shV"
      },
      "source": [
        "# Admin Stuff:\n",
        "Grading:\n",
        "- Notebook 0, Notebook #1, and Notebook #2 are graded.\n",
        "\n",
        "You should be working on: \n",
        "- [Notebook #3](https://classroom.github.com/assignment-invitations/8f93944b7a16d6c915f23a39c2068d28) is due tonight by 11:59pm\n",
        "- [Notebook #4](https://classroom.github.com/a/BFoBfBrR) is released today, due tomorrow night by 11:59pm. "
      ]
    },
    {
      "cell_type": "markdown",
      "metadata": {
        "id": "NSbj5zGp9shW"
      },
      "source": [
        "# 💬 Discussion Question:\n",
        "\n",
        "What are the benefits of decision trees compared to kNN?\n",
        "\n",
        "What are the disadvantages of decision trees compared to kNN\n",
        "\n",
        "When might you select kNN over decision tree and vis versa?\n",
        "\n",
        "### PollEverywhere"
      ]
    },
    {
      "cell_type": "markdown",
      "metadata": {
        "id": "RQw5Av1k9shW"
      },
      "source": [
        "# ✨ New Material"
      ]
    },
    {
      "cell_type": "markdown",
      "metadata": {
        "id": "1etY7elC9shX"
      },
      "source": [
        "# Ensemble Learning\n",
        "\n",
        "The 'ask the audience' models: \n",
        "<div>\n",
        "<img src=\"https://github.com/merriekay/j23_cs167_notes/blob/main/images/day06_ask_audience1.png?raw=1\" width=600/>\n",
        "</div>"
      ]
    },
    {
      "cell_type": "markdown",
      "metadata": {
        "id": "tUW56G299shX"
      },
      "source": [
        "# Ensemble Learning\n",
        "\n",
        "The 'ask the audience' models: \n",
        "<div>\n",
        "<img src=\"https://github.com/merriekay/j23_cs167_notes/blob/main/images/day06_ask_audience2.png?raw=1\" width=600/>\n",
        "</div>"
      ]
    },
    {
      "cell_type": "markdown",
      "metadata": {
        "id": "GBUwX-eR9shY"
      },
      "source": [
        "# Ensemble Learning\n",
        "\n",
        "__Ensemble Learning__: using multiple learners/hypotheses for coming up with predictions - often performs better than using one algorithm alone\n",
        "- Like crowdsourcing different machine learning models to come up with a consensus \n"
      ]
    },
    {
      "cell_type": "markdown",
      "metadata": {
        "id": "G7wC_mRh9shY"
      },
      "source": [
        "# Random Forests\n",
        "\n",
        "__Big Idea__: A large number of relatively uncorrelated models (trees) operating as a committee will outperform any of the individual constituent models.\n",
        "\n",
        "<div>\n",
        "<img src=\"https://github.com/merriekay/j23_cs167_notes/blob/main/images/day06_rf1.png?raw=1\" width=500/>\n",
        "</div>\n"
      ]
    },
    {
      "cell_type": "markdown",
      "metadata": {
        "id": "cLqE1tGN9shZ"
      },
      "source": [
        "### How can we create different trees?"
      ]
    },
    {
      "cell_type": "markdown",
      "metadata": {
        "id": "60V9goxc9shZ"
      },
      "source": [
        "# Random Forests\n",
        "\n",
        "__Random Forests__ are an effective learning algorithm that uses an ensemble of decision trees.\n",
        "\n",
        "\n",
        "__Basic idea__: build a bunch of decision trees and have them vote on the prediction\n",
        "\n",
        "<div>\n",
        "<img src=\"https://github.com/merriekay/j23_cs167_notes/blob/main/images/day06_rf2.png?raw=1\" width=500/>\n",
        "</div>"
      ]
    },
    {
      "cell_type": "markdown",
      "metadata": {
        "id": "uvzukJYt9sha"
      },
      "source": [
        "## How to create different trees?\n",
        "\n",
        "The power of a diverse portfolio:\n",
        "- Just like how we want investments (e.g. stock portfolios) to be diverse…\n",
        "- Low correlation amongst investments cause stability and reliability\n",
        "    - Don’t put all of your money in one industry\n",
        "    \n",
        "    \n",
        "__Uncorrelated models__ can produce ensemble predictions that are more accurate than any of the individual predictions\n",
        "- As long as the trees don’t consistently err in the same direction\n"
      ]
    },
    {
      "cell_type": "markdown",
      "metadata": {
        "id": "wVt7Pnfa9sha"
      },
      "source": [
        "## What Random Forests Need:\n",
        "\n",
        "There needs to be some actual signal in our features so that models built using those features do better than random guessing.\n",
        "\n",
        "The predictions (and therefore the errors) made by the individual trees need to have low correlations with each other.\n",
        "- Need to set up the trees so they all don’t make the same mistakes\n"
      ]
    },
    {
      "cell_type": "markdown",
      "metadata": {
        "id": "IVcF-gVb9sha"
      },
      "source": [
        "How can we do this?\n",
        "- Introduce some randomness…\n",
        "    - how the trees are split\n",
        "    - what data is used for the training sets"
      ]
    },
    {
      "cell_type": "markdown",
      "metadata": {
        "id": "EgVd3qON9shb"
      },
      "source": [
        "## 💬 Discussion Question:\n",
        "\n",
        "We want to predict an election by caling a sample of voters and asking who they're gong to vote for. What should be true about your sample if you want to get good results?"
      ]
    },
    {
      "cell_type": "markdown",
      "metadata": {
        "id": "kUQ6Af8l9shb"
      },
      "source": [
        "## Sampling:\n",
        "\n",
        "__Sample with replacement__: \n",
        "\n",
        "- allow each instance to be picked more than once.\n",
        "\n",
        "\n",
        "<div>\n",
        "<img src=\"https://github.com/merriekay/j23_cs167_notes/blob/main/images/day06_catchandrelease.png?raw=1\" width=200/>\n",
        "</div>"
      ]
    },
    {
      "cell_type": "markdown",
      "metadata": {
        "id": "QEMqZiux9shb"
      },
      "source": [
        "## Bootstrap Aggregation (bagging)\n",
        "\n",
        "Decisions trees are very sensitive to the data they are trained on.\n",
        "- small changes to the training set can result in significantly different tree structures.\n",
        "\n",
        "__Bagging (Bootstrap Aggregation)__ — allow each individual tree to randomly sample from the dataset *with replacement*, resulting in different trees. "
      ]
    },
    {
      "cell_type": "markdown",
      "metadata": {
        "id": "GdWZrNuu9shb"
      },
      "source": [
        "## Bootstrap Aggregation (bagging)\n",
        "\n",
        "Notice that with bagging __we are not subsetting the training data into smaller chunks__\n",
        "- Rather, if we have a sample of size N, we are still feeding each tree a training set of size N (unless specified otherwise).\n",
        "- Instead of the original training data, we take a random sample of size N with replacement.\n"
      ]
    },
    {
      "cell_type": "markdown",
      "metadata": {
        "id": "3AzIHIvF9shb"
      },
      "source": [
        "__example__: \n",
        "- training data was `[1, 2, 3, 4, 5, 6]` \n",
        "- then we might give one of our trees the following list `[1, 2, 2, 3, 6, 6]`.\n",
        "\n",
        "\n",
        "both lists are of length six and that “2” and “6” are both repeated in the randomly selected training data we give to our tree (because we sample with replacement).\n"
      ]
    },
    {
      "cell_type": "markdown",
      "metadata": {
        "id": "PFSme2jj9shc"
      },
      "source": [
        "# Feature Randomness\n",
        "\n",
        "Random Forests algorithm also uses a random subset of the features for each tree.\n",
        "- the size of these subsets should also be tweaked for optimal performance\n",
        "- Usually,\n",
        "    - Classification: $ m = \\sqrt{\\#features} $\n",
        "    \n",
        "    - Regression: $ m =\\frac{\\# features}{3} $\n",
        "\n",
        "> side benefit: features that are utilized by more trees must be important - you can find out which things the learning algorithm thinks are important"
      ]
    },
    {
      "cell_type": "markdown",
      "metadata": {
        "id": "IoXHknae9shc"
      },
      "source": [
        "# Random Forest: Big Picture\n",
        "\n",
        "In our random forest, we end up with trees that are not only trained on __different sets of data__ (thanks to bagging) but also use ___different features__ to make decisions.\n",
        "\n",
        "A large number of relatively uncorrelated models (trees) operating as a committee will outperform any of the individual constituent models\n"
      ]
    },
    {
      "cell_type": "markdown",
      "metadata": {
        "id": "rkdsSFEL9shc"
      },
      "source": [
        "# Questions to Consider\n",
        "\n",
        "- How many trees (often called $B$) to generate in the forest?\n",
        "- How large should $m$ be? (the number of features to use in each tree)\n",
        "- These are parameters in the algorithm that need to be tuned for each dataset for optimal performance."
      ]
    },
    {
      "cell_type": "markdown",
      "metadata": {
        "id": "97EMb3tY9shc"
      },
      "source": [
        "## 💬 Discussion Question\n",
        "\n",
        "When is it better to use a single decision tree instead of a random forest?"
      ]
    },
    {
      "cell_type": "markdown",
      "metadata": {
        "id": "hY_GOuHW9shd"
      },
      "source": [
        "# Insights:\n",
        "\n",
        "Some people will say 'random forests cannot overfit'\n",
        "- what they mean: increaing the number o trees, B, doesn't cause overfitting\n",
        "- the depth of each tree is a parameter that can be tuned for the forest\n",
        "\n",
        "According to ESLII*, Random Forest does poorly with small feature subsets when there are lots of irrelevant features\n",
        "\n",
        ">ESLII = Elements of Statistical Learning by Trevor Hastie"
      ]
    },
    {
      "cell_type": "markdown",
      "metadata": {
        "id": "Gx4irzrX9shd"
      },
      "source": [
        "# Alright, let's jump into some code:\n",
        "\n",
        "Start by downloading the `breast-cancer-wisconsin-data.csv` file from Blackboard and putting it in your Google Drive"
      ]
    },
    {
      "cell_type": "code",
      "execution_count": null,
      "metadata": {
        "id": "1gkScnMT9shd"
      },
      "outputs": [],
      "source": [
        "from google.colab import drive\n",
        "drive.mount('/content/drive')"
      ]
    },
    {
      "cell_type": "code",
      "execution_count": null,
      "metadata": {
        "id": "achWP0s49she",
        "outputId": "c2be2268-1a4e-48cd-dec1-298296658687"
      },
      "outputs": [
        {
          "data": {
            "text/html": [
              "<div>\n",
              "<style scoped>\n",
              "    .dataframe tbody tr th:only-of-type {\n",
              "        vertical-align: middle;\n",
              "    }\n",
              "\n",
              "    .dataframe tbody tr th {\n",
              "        vertical-align: top;\n",
              "    }\n",
              "\n",
              "    .dataframe thead th {\n",
              "        text-align: right;\n",
              "    }\n",
              "</style>\n",
              "<table border=\"1\" class=\"dataframe\">\n",
              "  <thead>\n",
              "    <tr style=\"text-align: right;\">\n",
              "      <th></th>\n",
              "      <th>id</th>\n",
              "      <th>diagnosis</th>\n",
              "      <th>radius_mean</th>\n",
              "      <th>texture_mean</th>\n",
              "      <th>perimeter_mean</th>\n",
              "      <th>area_mean</th>\n",
              "      <th>smoothness_mean</th>\n",
              "      <th>compactness_mean</th>\n",
              "      <th>concavity_mean</th>\n",
              "      <th>concave points_mean</th>\n",
              "      <th>...</th>\n",
              "      <th>texture_worst</th>\n",
              "      <th>perimeter_worst</th>\n",
              "      <th>area_worst</th>\n",
              "      <th>smoothness_worst</th>\n",
              "      <th>compactness_worst</th>\n",
              "      <th>concavity_worst</th>\n",
              "      <th>concave points_worst</th>\n",
              "      <th>symmetry_worst</th>\n",
              "      <th>fractal_dimension_worst</th>\n",
              "      <th>Unnamed: 32</th>\n",
              "    </tr>\n",
              "  </thead>\n",
              "  <tbody>\n",
              "    <tr>\n",
              "      <th>0</th>\n",
              "      <td>842302</td>\n",
              "      <td>M</td>\n",
              "      <td>17.99</td>\n",
              "      <td>10.38</td>\n",
              "      <td>122.80</td>\n",
              "      <td>1001.0</td>\n",
              "      <td>0.11840</td>\n",
              "      <td>0.27760</td>\n",
              "      <td>0.3001</td>\n",
              "      <td>0.14710</td>\n",
              "      <td>...</td>\n",
              "      <td>17.33</td>\n",
              "      <td>184.60</td>\n",
              "      <td>2019.0</td>\n",
              "      <td>0.1622</td>\n",
              "      <td>0.6656</td>\n",
              "      <td>0.7119</td>\n",
              "      <td>0.2654</td>\n",
              "      <td>0.4601</td>\n",
              "      <td>0.11890</td>\n",
              "      <td>NaN</td>\n",
              "    </tr>\n",
              "    <tr>\n",
              "      <th>1</th>\n",
              "      <td>842517</td>\n",
              "      <td>M</td>\n",
              "      <td>20.57</td>\n",
              "      <td>17.77</td>\n",
              "      <td>132.90</td>\n",
              "      <td>1326.0</td>\n",
              "      <td>0.08474</td>\n",
              "      <td>0.07864</td>\n",
              "      <td>0.0869</td>\n",
              "      <td>0.07017</td>\n",
              "      <td>...</td>\n",
              "      <td>23.41</td>\n",
              "      <td>158.80</td>\n",
              "      <td>1956.0</td>\n",
              "      <td>0.1238</td>\n",
              "      <td>0.1866</td>\n",
              "      <td>0.2416</td>\n",
              "      <td>0.1860</td>\n",
              "      <td>0.2750</td>\n",
              "      <td>0.08902</td>\n",
              "      <td>NaN</td>\n",
              "    </tr>\n",
              "    <tr>\n",
              "      <th>2</th>\n",
              "      <td>84300903</td>\n",
              "      <td>M</td>\n",
              "      <td>19.69</td>\n",
              "      <td>21.25</td>\n",
              "      <td>130.00</td>\n",
              "      <td>1203.0</td>\n",
              "      <td>0.10960</td>\n",
              "      <td>0.15990</td>\n",
              "      <td>0.1974</td>\n",
              "      <td>0.12790</td>\n",
              "      <td>...</td>\n",
              "      <td>25.53</td>\n",
              "      <td>152.50</td>\n",
              "      <td>1709.0</td>\n",
              "      <td>0.1444</td>\n",
              "      <td>0.4245</td>\n",
              "      <td>0.4504</td>\n",
              "      <td>0.2430</td>\n",
              "      <td>0.3613</td>\n",
              "      <td>0.08758</td>\n",
              "      <td>NaN</td>\n",
              "    </tr>\n",
              "    <tr>\n",
              "      <th>3</th>\n",
              "      <td>84348301</td>\n",
              "      <td>M</td>\n",
              "      <td>11.42</td>\n",
              "      <td>20.38</td>\n",
              "      <td>77.58</td>\n",
              "      <td>386.1</td>\n",
              "      <td>0.14250</td>\n",
              "      <td>0.28390</td>\n",
              "      <td>0.2414</td>\n",
              "      <td>0.10520</td>\n",
              "      <td>...</td>\n",
              "      <td>26.50</td>\n",
              "      <td>98.87</td>\n",
              "      <td>567.7</td>\n",
              "      <td>0.2098</td>\n",
              "      <td>0.8663</td>\n",
              "      <td>0.6869</td>\n",
              "      <td>0.2575</td>\n",
              "      <td>0.6638</td>\n",
              "      <td>0.17300</td>\n",
              "      <td>NaN</td>\n",
              "    </tr>\n",
              "    <tr>\n",
              "      <th>4</th>\n",
              "      <td>84358402</td>\n",
              "      <td>M</td>\n",
              "      <td>20.29</td>\n",
              "      <td>14.34</td>\n",
              "      <td>135.10</td>\n",
              "      <td>1297.0</td>\n",
              "      <td>0.10030</td>\n",
              "      <td>0.13280</td>\n",
              "      <td>0.1980</td>\n",
              "      <td>0.10430</td>\n",
              "      <td>...</td>\n",
              "      <td>16.67</td>\n",
              "      <td>152.20</td>\n",
              "      <td>1575.0</td>\n",
              "      <td>0.1374</td>\n",
              "      <td>0.2050</td>\n",
              "      <td>0.4000</td>\n",
              "      <td>0.1625</td>\n",
              "      <td>0.2364</td>\n",
              "      <td>0.07678</td>\n",
              "      <td>NaN</td>\n",
              "    </tr>\n",
              "  </tbody>\n",
              "</table>\n",
              "<p>5 rows × 33 columns</p>\n",
              "</div>"
            ],
            "text/plain": [
              "         id diagnosis  radius_mean  texture_mean  perimeter_mean  area_mean  \\\n",
              "0    842302         M        17.99         10.38          122.80     1001.0   \n",
              "1    842517         M        20.57         17.77          132.90     1326.0   \n",
              "2  84300903         M        19.69         21.25          130.00     1203.0   \n",
              "3  84348301         M        11.42         20.38           77.58      386.1   \n",
              "4  84358402         M        20.29         14.34          135.10     1297.0   \n",
              "\n",
              "   smoothness_mean  compactness_mean  concavity_mean  concave points_mean  \\\n",
              "0          0.11840           0.27760          0.3001              0.14710   \n",
              "1          0.08474           0.07864          0.0869              0.07017   \n",
              "2          0.10960           0.15990          0.1974              0.12790   \n",
              "3          0.14250           0.28390          0.2414              0.10520   \n",
              "4          0.10030           0.13280          0.1980              0.10430   \n",
              "\n",
              "   ...  texture_worst  perimeter_worst  area_worst  smoothness_worst  \\\n",
              "0  ...          17.33           184.60      2019.0            0.1622   \n",
              "1  ...          23.41           158.80      1956.0            0.1238   \n",
              "2  ...          25.53           152.50      1709.0            0.1444   \n",
              "3  ...          26.50            98.87       567.7            0.2098   \n",
              "4  ...          16.67           152.20      1575.0            0.1374   \n",
              "\n",
              "   compactness_worst  concavity_worst  concave points_worst  symmetry_worst  \\\n",
              "0             0.6656           0.7119                0.2654          0.4601   \n",
              "1             0.1866           0.2416                0.1860          0.2750   \n",
              "2             0.4245           0.4504                0.2430          0.3613   \n",
              "3             0.8663           0.6869                0.2575          0.6638   \n",
              "4             0.2050           0.4000                0.1625          0.2364   \n",
              "\n",
              "   fractal_dimension_worst  Unnamed: 32  \n",
              "0                  0.11890          NaN  \n",
              "1                  0.08902          NaN  \n",
              "2                  0.08758          NaN  \n",
              "3                  0.17300          NaN  \n",
              "4                  0.07678          NaN  \n",
              "\n",
              "[5 rows x 33 columns]"
            ]
          },
          "execution_count": 4,
          "metadata": {},
          "output_type": "execute_result"
        }
      ],
      "source": [
        "import pandas as pd\n",
        "path = 'datasets/breast-cancer-wisconsin-data.csv' #'/content/drive/MyDrive/CS167_S21/CS167_datasets/breast-cancer-wisconsin-data.csv'\n",
        "data= pd.read_csv(path)\n",
        "data.head()"
      ]
    },
    {
      "cell_type": "code",
      "execution_count": null,
      "metadata": {
        "id": "fMCXFRvn9shf",
        "outputId": "ffee5176-3371-4df3-ea42-7d7c92c2122d"
      },
      "outputs": [
        {
          "data": {
            "text/plain": [
              "id                         False\n",
              "diagnosis                  False\n",
              "radius_mean                False\n",
              "texture_mean               False\n",
              "perimeter_mean             False\n",
              "area_mean                  False\n",
              "smoothness_mean            False\n",
              "compactness_mean           False\n",
              "concavity_mean             False\n",
              "concave points_mean        False\n",
              "symmetry_mean              False\n",
              "fractal_dimension_mean     False\n",
              "radius_se                  False\n",
              "texture_se                 False\n",
              "perimeter_se               False\n",
              "area_se                    False\n",
              "smoothness_se              False\n",
              "compactness_se             False\n",
              "concavity_se               False\n",
              "concave points_se          False\n",
              "symmetry_se                False\n",
              "fractal_dimension_se       False\n",
              "radius_worst               False\n",
              "texture_worst              False\n",
              "perimeter_worst            False\n",
              "area_worst                 False\n",
              "smoothness_worst           False\n",
              "compactness_worst          False\n",
              "concavity_worst            False\n",
              "concave points_worst       False\n",
              "symmetry_worst             False\n",
              "fractal_dimension_worst    False\n",
              "dtype: bool"
            ]
          },
          "execution_count": 5,
          "metadata": {},
          "output_type": "execute_result"
        }
      ],
      "source": [
        "# Notice that the 'Unnamed: 32' column is full of NaN... we need to get rid of it. \n",
        "data.drop('Unnamed: 32', inplace=True, axis=1)\n",
        "data.isna().any()"
      ]
    },
    {
      "cell_type": "code",
      "execution_count": null,
      "metadata": {
        "id": "rJFcXB2C9shf"
      },
      "outputs": [],
      "source": [
        "from sklearn.model_selection import train_test_split\n",
        "from sklearn.ensemble import RandomForestClassifier\n",
        "from sklearn.metrics import accuracy_score\n",
        "from sklearn.metrics import confusion_matrix\n",
        "\n",
        "target = \"diagnosis\"\n",
        "predictors = data.columns.drop(target) #gets all of the columns except the target\n",
        "\n",
        "train_data, test_data, train_sln, test_sln = train_test_split(data[predictors], data[target], test_size = 0.2, random_state=41)"
      ]
    },
    {
      "cell_type": "code",
      "execution_count": null,
      "metadata": {
        "id": "E_nTlSpf9shg",
        "outputId": "c2bd5d55-38e2-41fc-f72a-6b04dd8c2711"
      },
      "outputs": [
        {
          "name": "stdout",
          "output_type": "stream",
          "text": [
            "accuracy score:  0.9385964912280702\n",
            "        Predicted M  Predicted B\n",
            "True M           38            2\n",
            "True B            5           69\n"
          ]
        }
      ],
      "source": [
        "from sklearn import tree\n",
        "from sklearn import metrics\n",
        "\n",
        "# Let's use a single tree for comparison\n",
        "# a default Decision Tree Classifier\n",
        "\n",
        "dt = tree.DecisionTreeClassifier()\n",
        "dt.fit(train_data,train_sln)\n",
        "predictions = dt.predict(test_data)\n",
        "\n",
        "print(\"accuracy score: \", metrics.accuracy_score(test_sln,predictions))\n",
        "vals = data[target].unique() ## possible classification values (M = malignant; B = benign)\n",
        "conf_mat = metrics.confusion_matrix(test_sln, predictions, labels=vals)\n",
        "print(pd.DataFrame(conf_mat, index = \"True \" + vals, columns = \"Predicted \" + vals))"
      ]
    },
    {
      "cell_type": "code",
      "execution_count": null,
      "metadata": {
        "id": "bX_SiEPb9shg",
        "outputId": "7a9093f9-3f9e-4d5e-cf72-7cabcbb80ab4"
      },
      "outputs": [
        {
          "name": "stdout",
          "output_type": "stream",
          "text": [
            "accuracy score:  0.9824561403508771\n",
            "        Predicted M  Predicted B\n",
            "True M           40            0\n",
            "True B            2           72\n"
          ]
        }
      ],
      "source": [
        "\n",
        "# a Random Forest Classifier\n",
        "forest = RandomForestClassifier(random_state = 0, n_estimators=100)\n",
        "forest.fit(train_data,train_sln)\n",
        "predictions = forest.predict(test_data)\n",
        "print(\"accuracy score: \", metrics.accuracy_score(test_sln,predictions))\n",
        "\n",
        "vals = data[target].unique() ## possible classification values (M = malignant; B = benign)\n",
        "conf_mat = metrics.confusion_matrix(test_sln, predictions, labels=vals)\n",
        "print(pd.DataFrame(conf_mat, index = \"True \" + vals, columns = \"Predicted \" + vals))"
      ]
    },
    {
      "cell_type": "markdown",
      "metadata": {
        "id": "mOC7EcBO9shh"
      },
      "source": [
        "# Group Exercise #1:\n",
        "\n",
        "Look at [RandomForestClassifer Documentation here](https://scikit-learn.org/stable/modules/generated/sklearn.ensemble.RandomForestClassifier.html)\n",
        "1. What is the default number of trees?\n",
        "2. How does increasing or decreasing the number of trees affect accuracy?\n",
        "3. What is the parameter to change to affect the number of features used?\n",
        "4. How does increasing or decreasing the number of features affect accuracy?\n",
        "\n",
        "\n"
      ]
    },
    {
      "cell_type": "markdown",
      "metadata": {
        "id": "4oIdG3jU9shh"
      },
      "source": [
        "# Group Exercise #2:\n",
        "Can you improve upon the Breast cancer diagnosis accuracy?\n",
        "\n",
        "Can you get 100% accuracy? Why do you think so?\n",
        "\n",
        "\n",
        "\n"
      ]
    },
    {
      "cell_type": "markdown",
      "metadata": {
        "id": "y3gg-Gx-9shh"
      },
      "source": [
        "# Feature Importances\n",
        "Becuase we are building so many small decision trees in a random forest, we have the added benefit of being able to see what features are most commonly used as high information gain features. The code below shows how we can plot the 'Feature Importance' chart for a random forest.\n",
        "\n",
        "In this particular run, it looks like perimeter_worst was the most important feature, but there were a handful of others that were important as well."
      ]
    },
    {
      "cell_type": "code",
      "execution_count": null,
      "metadata": {
        "id": "E-1G6qp19shh",
        "outputId": "5a5967d6-2903-4f0b-ab4a-fabab569d54f"
      },
      "outputs": [
        {
          "data": {
            "image/png": "[encoded data removed]",
            "text/plain": [
              "<Figure size 576x720 with 1 Axes>"
            ]
          },
          "metadata": {
            "needs_background": "light"
          },
          "output_type": "display_data"
        }
      ],
      "source": [
        "# It looks like our random forest model achieved pretty good accuracy. \n",
        "# Now lets check how important each of the features was in the ensemble of models we built.\n",
        "\n",
        "import matplotlib.pyplot as plt\n",
        "%matplotlib inline\n",
        "\n",
        "index = range(len(predictors)) #creates a list of numbers the right size to use as the index\n",
        "\n",
        "plt.figure(figsize=(8,10)) #making the table a bit bigger so the text is readable\n",
        "plt.barh(index,forest.feature_importances_,height=0.8) #horizontal bar chart\n",
        "plt.ylabel('Feature')\n",
        "plt.yticks(index,predictors) #put the feature names at the y tick marks\n",
        "plt.xlabel(\"Random Forest Feature Importance\")\n",
        "plt.show()"
      ]
    },
    {
      "cell_type": "markdown",
      "metadata": {
        "id": "G0D5v_tG9shi"
      },
      "source": [
        "# Tuning our Forest:\n",
        "\n",
        "How can we tell how many trees to use?\n",
        "\n",
        "What about how many features to include in our trees?\n",
        "\n",
        "We can __tune__ our random forest to find the best values of model parameters:"
      ]
    },
    {
      "cell_type": "code",
      "execution_count": null,
      "metadata": {
        "id": "451Z-_yw9shi",
        "outputId": "9f680f0e-0e05-4a92-a5a2-d15017523498"
      },
      "outputs": [
        {
          "data": {
            "image/png": "[encoded data removed]",
            "text/plain": [
              "<Figure size 432x288 with 1 Axes>"
            ]
          },
          "metadata": {
            "needs_background": "light"
          },
          "output_type": "display_data"
        }
      ],
      "source": [
        "#This function just loops through a series of n_estimator values, builds a different model\n",
        "#for each, and then plots their respective accuracies. By making it a function, it's easier\n",
        "#to try out different ranges of numbers\n",
        "import matplotlib.pyplot as plt\n",
        "\n",
        "def tune_number_of_trees(n_estimator_values):\n",
        "    rf_accuracies = []\n",
        "\n",
        "    for n in n_estimator_values:\n",
        "\n",
        "        curr_rf = RandomForestClassifier(n_estimators=n, random_state=41)\n",
        "        curr_rf.fit(train_data,train_sln)\n",
        "        curr_predictions = curr_rf.predict(test_data)\n",
        "        curr_accuracy = metrics.accuracy_score(test_sln,curr_predictions)\n",
        "        rf_accuracies.append(curr_accuracy)\n",
        "\n",
        "\n",
        "    plt.suptitle('Random Forest accuracy vs. number of trees',fontsize=18)\n",
        "    plt.xlabel('# trees')\n",
        "    plt.ylabel('accuracy')\n",
        "    plt.plot(n_estimator_values,rf_accuracies,'ro-')\n",
        "    plt.axis([0,n_estimator_values[-1]+1,.8,1])\n",
        "\n",
        "    plt.show()\n",
        "    \n",
        "tune_number_of_trees(range(1,31))"
      ]
    },
    {
      "cell_type": "markdown",
      "metadata": {
        "id": "tPYKRcAC9shi"
      },
      "source": [
        "It looks like whether we are using small numbers of trees or large ones, the accuracy stays about the same. It appears at least sometimes that Random Forest doesn't take a lot of tuning of the number of trees.\n",
        "\n",
        "Now let's try tuning the number of features used with each tree."
      ]
    },
    {
      "cell_type": "code",
      "execution_count": null,
      "metadata": {
        "id": "1zG8Llwn9shj",
        "outputId": "02130c37-50c2-47d7-ecf2-56a2305dd541"
      },
      "outputs": [
        {
          "data": {
            "image/png": "[encoded data removed]",
            "text/plain": [
              "<Figure size 432x288 with 1 Axes>"
            ]
          },
          "metadata": {
            "needs_background": "light"
          },
          "output_type": "display_data"
        }
      ],
      "source": [
        "def tune_max_features(max_features_values):\n",
        "    rf_accuracies = []\n",
        "\n",
        "    for m in max_features_values:\n",
        "\n",
        "        curr_rf = RandomForestClassifier(n_estimators=10,max_features=m, random_state=31)\n",
        "        curr_rf.fit(train_data,train_sln)\n",
        "        curr_predictions = curr_rf.predict(test_data)\n",
        "        curr_accuracy = metrics.accuracy_score(test_sln,curr_predictions)\n",
        "        rf_accuracies.append(curr_accuracy)\n",
        "\n",
        "\n",
        "    plt.suptitle('Random Forest accuracy vs. max features',fontsize=18)\n",
        "    plt.xlabel('max features')\n",
        "    plt.ylabel('accuracy')\n",
        "    plt.plot(max_features_values,rf_accuracies,'ro-')\n",
        "    plt.axis([0,max_features_values[-1]+1,.8,1])\n",
        "\n",
        "    plt.show()\n",
        "    \n",
        "tune_max_features(range(1,11))"
      ]
    },
    {
      "cell_type": "markdown",
      "metadata": {
        "id": "ZqYP_Lm69shj"
      },
      "source": [
        "Note that the above could be subject to changes based on the initial random_state.\n",
        "\n",
        "For this data, which is apparently very easy to learn on (accuracy is very hight), the number of features used with each tree also didn't matter much when used with an ensemble of 10 trees. This is probably something worth tuning if you have a lot of features, especially if many of them might not be very relevant."
      ]
    },
    {
      "cell_type": "markdown",
      "metadata": {
        "id": "n4jYcHzl9shj"
      },
      "source": [
        "# Exercise #3\n",
        "\n",
        "Apply random forest to the wine dataset `winequality-white.csv` from Notebook #3\n",
        "\n",
        "- Can you get an $R^2$ score above .575 using `RandomForestRegressor(random_state=31)` (and other arguments)?"
      ]
    },
    {
      "cell_type": "code",
      "execution_count": null,
      "metadata": {
        "id": "whS-HYVi9shj"
      },
      "outputs": [],
      "source": [
        "import pandas as pd\n",
        "import numpy\n",
        "from sklearn.model_selection import train_test_split\n",
        "\n",
        "path = 'datasets/winequality-white.csv'\n",
        "data = pd.read_csv(path)\n",
        "predictors= data.columns.drop('quality')\n",
        "target='quality'\n",
        "\n",
        "train_data, test_data, train_sln, test_sln = train_test_split(data[predictors], data[target], test_size = 0.2, random_state=41)"
      ]
    },
    {
      "cell_type": "code",
      "execution_count": null,
      "metadata": {
        "id": "Om4BWMhp9shj"
      },
      "outputs": [],
      "source": [
        "#your code here"
      ]
    }
  ],
  "metadata": {
    "celltoolbar": "Slideshow",
    "kernelspec": {
      "display_name": "Python 3",
      "language": "python",
      "name": "python3"
    },
    "language_info": {
      "codemirror_mode": {
        "name": "ipython",
        "version": 3
      },
      "file_extension": ".py",
      "mimetype": "text/x-python",
      "name": "python",
      "nbconvert_exporter": "python",
      "pygments_lexer": "ipython3",
      "version": "3.8.3"
    },
    "colab": {
      "provenance": [],
      "include_colab_link": true
    }
  },
  "nbformat": 4,
  "nbformat_minor": 0
}